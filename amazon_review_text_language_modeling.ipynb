{
 "cells": [
  {
   "cell_type": "markdown",
   "metadata": {
    "id": "ueRZR9wVQJO8"
   },
   "source": [
    "# Introduction"
   ]
  },
  {
   "cell_type": "markdown",
   "metadata": {
    "id": "JVTxcCkLqMEO"
   },
   "source": [
    "In this project, we use the Amazon reivew text data (link: https://nijianmo.github.io/amazon/index.html) - in particular, review texts about electronics products. We will be working with language models to generate texts, and also a text classification model using the same text data in order to check if our language models can generate texts that are similar to the real data that they were trained with.\n",
    "\n",
    "Our project will consist of the following steps.\n",
    "\n",
    "- Step 1: For each rating score (i.e. 1, 2, 3, 4, 5), fine-tune a pre-trained GPT2 language model (provided by Hugging Face's \"transformers\" library). \n",
    "\n",
    "- Step 2: Once the five separate language models are fine-tuned, we will be able to generate new texts from each of them. That is: we create some texts via the language model for rating score 1, similarly for score 2, 3, 4, and 5.\n",
    "\n",
    "- Step 3: Train a text classification model using the same, or part of the, text data that we used for step 1. The model will classify a text into one of the five rating scores.\n",
    "\n",
    "- Step 4. We let the text classification model predict on the generated texts from step 2. So basically, the generated texts are used as the test data for our classifier, where the true class for the generated texts from the rating 1 language model would be 1, the true class for the generated texts from the rating 2 language model would be 2, etc.\n",
    "\n",
    "Ultimately, we want to see if the model's performance on predicting the generated texts by the GPT2 language models (which are fake data) is reasonably similar to its performance on the evaluation data (which are real data). If yes, it would be reasonable to say that the language models are indeed capable of generating texts that are similar to the real texts that they were trained with.\n",
    "\n",
    "Note: Training the text classification model well so that its performance is high is not necessarily a key point here. We're more interested in whether the classifier's predictive performance is similar with the real data and the fake data."
   ]
  },
  {
   "cell_type": "markdown",
   "metadata": {
    "id": "Ay3zPSpLgiTr"
   },
   "source": [
    "For working with GPT2 language models, we will use the 'transformers' library provided by Hugging Face (repo link: https://github.com/huggingface/transformers). \n",
    "\n",
    "The link to the GPT2 paper is: https://cdn.openai.com/better-language-models/language_models_are_unsupervised_multitask_learners.pdf"
   ]
  },
  {
   "cell_type": "code",
   "execution_count": null,
   "metadata": {
    "id": "oflsTXQ8Pk3Q"
   },
   "outputs": [],
   "source": [
    "!pip install transformers"
   ]
  },
  {
   "cell_type": "code",
   "execution_count": null,
   "metadata": {
    "id": "ToM5QK9APmuY"
   },
   "outputs": [],
   "source": [
    "!pip install datasets"
   ]
  },
  {
   "cell_type": "code",
   "execution_count": null,
   "metadata": {
    "id": "z8E0_BKid9uJ"
   },
   "outputs": [],
   "source": [
    "import numpy as np\n",
    "import pickle\n",
    "import pandas as pd\n",
    "import os\n",
    "import random\n",
    "from collections import Counter\n",
    "import time\n",
    "import datetime\n",
    "\n",
    "import torch\n",
    "from torch.utils.data import TensorDataset, DataLoader\n",
    "from transformers import BertTokenizer, BertForSequenceClassification\n",
    "from transformers import AdamW, get_linear_schedule_with_warmup\n",
    "from keras.preprocessing.sequence import pad_sequences"
   ]
  },
  {
   "cell_type": "markdown",
   "metadata": {
    "id": "NZNneAYY1eYf"
   },
   "source": [
    "# Preprocessing the raw texts, then saving them as train txt and eval txt files\n",
    "\n",
    "This step was done already (outside this jupyter notebook), so we just provide the code here."
   ]
  },
  {
   "cell_type": "code",
   "execution_count": null,
   "metadata": {
    "id": "DPQmnsGXno5s"
   },
   "outputs": [],
   "source": [
    "import pandas as pd \n",
    "import random\n",
    "import os\n",
    "\n",
    "\n",
    "def str_with_tokens(texts_list, start_token='<start_token>', end_token='<end_token>'):\n",
    "    \"\"\"\n",
    "    INPUTS\n",
    "    - 'texts_list': a list of reviews\n",
    "    - 'start_token': a string that we will put at the front of every review\n",
    "    - 'end_token': a string that we will put at the end of every review\n",
    "\n",
    "    OUTPUT\n",
    "    - a string with all the reviews in 'texts_list' concatenated, together with the start and end tokens\n",
    "    \"\"\"\n",
    "    texts_list = [txt.replace('\\n', ' ') for txt in texts_list] # remove new line characters\n",
    "    sep = ' {}\\n{} '.format(end_token, start_token)\n",
    "    return start_token + ' ' + sep.join(texts_list) + ' ' + end_token\n",
    "\n",
    "\n",
    "def save_train_and_eval_txt_and_pickle(texts_list, rating, train_prop=0.85):\n",
    "    \"\"\"\n",
    "    INPUTS\n",
    "    - 'text_list': a list of reviews\n",
    "    - 'rating': which rating score (1, 2, 3, 4, or 5)\n",
    "    - 'train_prop': proportion of training text\n",
    "\n",
    "    ACTION\n",
    "    - randomly split the 'texts_list' reviews via the provided 'train_prop', add special tokens, then save training txt/pickle file and eval txt/pickle file\n",
    "    \"\"\"\n",
    "    texts_list_shuffled = random.sample(texts_list, len(texts_list))\n",
    "    num_train = int(len(texts_list_shuffled) * train_prop)\n",
    "    \n",
    "    # 1. save as a pickle file (without special tokens)\n",
    "    train_filename = 'train_rating{}.pkl'.format(rating)\n",
    "    eval_filename = 'eval_rating{}.pkl'.format(rating)\n",
    "    train_df = pd.DataFrame(data={'review_text': texts_list_shuffled[0:num_train], 'rating': [rating] * num_train})\n",
    "    eval_df = pd.DataFrame(data={'review_text': texts_list_shuffled[num_train:], 'rating': [rating] * (len(texts_list) - num_train)})\n",
    "    train_df.to_pickle(os.getcwd() + '\\\\' + train_filename)\n",
    "    eval_df.to_pickle(os.getcwd() + '\\\\' + eval_filename)\n",
    "    print(\"Done with creating '{}' and '{}' files\".format(train_filename, eval_filename))\n",
    "    \n",
    "    # 2. save as a txt file (with special tokens)\n",
    "    train_filename = 'train_rating{}.txt'.format(rating)\n",
    "    eval_filename = 'eval_rating{}.txt'.format(rating)\n",
    "    with open(os.getcwd() + '\\\\' + train_filename, 'w') as txtfile:\n",
    "        txtfile.write(str_with_tokens(texts_list_shuffled[0:num_train]))\n",
    "    with open(os.getcwd() + '\\\\' + eval_filename, 'w') as txtfile:\n",
    "        txtfile.write(str_with_tokens(texts_list_shuffled[num_train:]))\n",
    "    print(\"Done with creating '{}' and '{}' files\".format(train_filename, eval_filename))\n",
    "\n",
    "\n",
    "if __name__ == \"__main__\":\n",
    "    # 'reviews_df.pickle' is a pickle file that was created from the original 'Electronics_5.json' file provided by the dataset website.\n",
    "    # It was created via the following python code:\n",
    "    ## import pandas as pd\n",
    "    ## import pickle\n",
    "    ## reviews_df = pd.read_json('Electronics_5.json', lines=True)\n",
    "    ## reviews_df = reviews_df[['reviewText','overall']]\n",
    "    ## indices_to_keep = [i for i, txt in enumerate(reviews_df['reviewText']) if isinstance(txt, str)]\n",
    "    ## reviews_df = reviews_df.iloc[indices_to_keep, :]\n",
    "    ## reviews_df.reset_index(drop=True, inplace=True)\n",
    "    ## reviews_df.to_pickle('reviews_df.pickle')\n",
    "    reviews_df = pd.read_pickle(os.getcwd() + '\\\\reviews_df.pickle')\n",
    "    each_rating_all_texts_df = reviews_df.groupby('overall')['reviewText'].apply(list).reset_index(name='all_texts')\n",
    "    # To let the five language models have equal amount of training data when being fine-tuned,\n",
    "    # we compute the minimum count among the five ratings. This is 306659 (rating 2).\n",
    "    min_count = min([len(texts) for i, texts in enumerate(each_rating_all_texts_df['all_texts'])])\n",
    "    # For each rating, randomly select 306659 texts that will be used for its language model,\n",
    "    # and save them as train and eval.\n",
    "    for rating in [1, 2, 3, 4, 5]:\n",
    "        texts_list = each_rating_all_texts_df['all_texts'][rating-1]\n",
    "        texts_list = random.sample(texts_list, min_count)\n",
    "        save_train_and_eval_txt_and_pickle(texts_list=texts_list, rating=rating)"
   ]
  },
  {
   "cell_type": "markdown",
   "metadata": {
    "id": "yfLGETpDgGME"
   },
   "source": [
    "# For each rating score (i.e. 1, 2, 3, 4, and 5), fine-tune a GPT2 language model"
   ]
  },
  {
   "cell_type": "markdown",
   "metadata": {
    "id": "Ye1wK3znh9h1"
   },
   "source": [
    "For fine-tuning the GPT2 language models, we use the *run_language_modeling.py* script provided by Hugging Face (original link: https://github.com/huggingface/transformers/blob/master/examples/language-modeling/run_clm.py)\n",
    "\n",
    "As shown in the preprocessing code above, we used our own special tokens. So we need to make small modifications in the tokenizer's special tokens as well. In *run_language_modeling.py*, inside the 'main()' function, just before ***model.resize_token_embeddings(len(tokenizer))***, we added the following line of code: ***tokenizer.add_special_tokens({'bos_token':'start_token', 'eos_token':'end_token', 'pad_token':'<pad_token>'})*** . We've uploaded the modified *run_clm.py* file in the github repository.\n",
    "\n",
    "Fine-tuning a GPT2 language model for one epoch for rating score 1 can be done via the following command. (and similarly for ratings 2, 3, 4, and 5)"
   ]
  },
  {
   "cell_type": "code",
   "execution_count": null,
   "metadata": {
    "id": "iySl_ZuMNde-"
   },
   "outputs": [],
   "source": [
    "%%time\n",
    "\n",
    "!python /content/drive/My\\ Drive/Amazon\\ Review\\ Text\\ Language\\ Modeling/run_clm.py \\\n",
    "--output_dir=/content/drive/My\\ Drive/Amazon\\ Review\\ Text\\ Language\\ Modeling/trained_gpt2_rating1 \\\n",
    "--model_name_or_path=gpt2 \\\n",
    "--do_train \\\n",
    "--train_file=/content/drive/My\\ Drive/Amazon\\ Review\\ Text\\ Language\\ Modeling/train_rating1.txt \\\n",
    "--do_eval \\\n",
    "--validation_file=/content/drive/My\\ Drive/Amazon\\ Review\\ Text\\ Language\\ Modeling/eval_rating1.txt \\\n",
    "--per_device_train_batch_size=2 \\\n",
    "--num_train_epochs=1 \\\n",
    "--logging_steps=500 \\\n",
    "--save_steps=9999999"
   ]
  },
  {
   "cell_type": "markdown",
   "metadata": {
    "id": "M6q65z1-J8s2"
   },
   "source": [
    "To continue fine-tuning from the result after one epoch, we can use the following command."
   ]
  },
  {
   "cell_type": "code",
   "execution_count": null,
   "metadata": {
    "id": "4dHvtgsmNbj_"
   },
   "outputs": [],
   "source": [
    "%%time\n",
    "\n",
    "!python /content/drive/My\\ Drive/Amazon\\ Review\\ Text\\ Language\\ Modeling/run_clm.py \\\n",
    "--output_dir=/content/drive/My\\ Drive/Amazon\\ Review\\ Text\\ Language\\ Modeling/trained_gpt2_rating1_2epochs \\\n",
    "--model_name_or_path=gpt2 \\\n",
    "--model_name_or_path=/content/drive/My\\ Drive/Amazon\\ Review\\ Text\\ Language\\ Modeling/trained_gpt2_rating1 \\\n",
    "--do_train \\\n",
    "--train_file=/content/drive/My\\ Drive/Amazon\\ Review\\ Text\\ Language\\ Modeling/train_rating1.txt \\\n",
    "--do_eval \\\n",
    "--validation_file=/content/drive/My\\ Drive/Amazon\\ Review\\ Text\\ Language\\ Modeling/eval_rating1.txt \\\n",
    "--per_device_train_batch_size=2 \\\n",
    "--num_train_epochs=1 \\\n",
    "--logging_steps=500 \\\n",
    "--save_steps=9999999 \\\n",
    "--overwrite_output_dir"
   ]
  },
  {
   "cell_type": "markdown",
   "metadata": {
    "id": "W5VXDF7BS8bF"
   },
   "source": [
    "Here we discuss the process for generating texts using the trained GPT2 language model. We use the *run_generation.py* script also provided by Hugging Face (original link:\n",
    "https://github.com/huggingface/transformers/blob/master/examples/text-generation/run_generation.py)\n",
    "\n",
    "We make small modifications to the script for purposes including adding special tokens and saving the generated texts as a pickle file. We've uploaded the modified *run_generation.py* file in the github repository.\n",
    "\n",
    "Moreover, here are some helper functions for dealing with our generated texts."
   ]
  },
  {
   "cell_type": "code",
   "execution_count": null,
   "metadata": {
    "id": "H0YemAPpTJES"
   },
   "outputs": [],
   "source": [
    "# A helper function that removes the start token at the beginning.\n",
    "def remove_start_token(string, start_token='<start_token>'):\n",
    "    return string[len(start_token):]\n",
    "\n",
    "# A helper function that checks whether a string contains only non-alphanumeric characters.\n",
    "def has_no_alphanumeric_chars(string):\n",
    "    return not any(char.isalnum() for char in string)\n",
    "\n",
    "# A helper function that removes empty spaces at the very beginning (if any) and at the very end (if any) of the input string.\n",
    "def remove_empty_spaces_at_both_ends(string):\n",
    "    reached_first_nonempty_char = False\n",
    "    while not reached_first_nonempty_char:\n",
    "        curr_first_char = string[0]\n",
    "        if curr_first_char != ' ':\n",
    "            reached_first_nonempty_char = True\n",
    "        else:\n",
    "            string = string[1:]\n",
    "    reached_last_nonempty_char = False\n",
    "    while not reached_last_nonempty_char:\n",
    "        curr_last_char = string[-1]\n",
    "        if curr_last_char != ' ':\n",
    "            reached_last_nonempty_char = True\n",
    "        else:\n",
    "            string = string[:-1]\n",
    "    return string"
   ]
  },
  {
   "cell_type": "markdown",
   "metadata": {
    "id": "TvGK190vThbH"
   },
   "source": [
    "Generating texts from our trained GPT2 language model for rating score 1 and saving the pandas dataframe containing these texts as a pickle file can be done via the following code/command. (and similarly for ratings 2, 3, 4, and 5)"
   ]
  },
  {
   "cell_type": "code",
   "execution_count": null,
   "metadata": {
    "id": "qDkkyKP1NXnC"
   },
   "outputs": [],
   "source": [
    "%%time\n",
    "\n",
    "list_of_all_created_texts = []\n",
    "num_new_run_generations = 0\n",
    "for i in range(0, 300):\n",
    "    print('------------------------------ STARTING i = {} ------------------------------'.format(i))\n",
    "    !python /content/drive/My\\ Drive/Amazon\\ Review\\ Text\\ Language\\ Modeling/run_generation.py \\\n",
    "    --model_type=gpt2 \\\n",
    "    --model_name_or_path=/content/drive/My\\ Drive/Amazon\\ Review\\ Text\\ Language\\ Modeling/trained_gpt2_rating1_2epochs \\\n",
    "    --length=512 \\\n",
    "    --prompt='<start_token>' \\\n",
    "    --stop_token='<end_token>' \\\n",
    "    --k=50 \\\n",
    "    --num_return_sequences=100 \\\n",
    "    --pickle_output_dir='/content/drive/My Drive/Amazon Review Text Language Modeling/'\n",
    "\n",
    "    if i == 0:\n",
    "        prev_file_modified_time = os.path.getctime('/content/drive/My Drive/Amazon Review Text Language Modeling/created_texts.pkl')\n",
    "        num_new_run_generations += 1\n",
    "    else:\n",
    "        curr_file_modified_time = os.path.getctime('/content/drive/My Drive/Amazon Review Text Language Modeling/created_texts.pkl')\n",
    "        if prev_file_modified_time != curr_file_modified_time:\n",
    "            num_new_run_generations += 1\n",
    "        prev_file_modified_time = curr_file_modified_time\n",
    "    \n",
    "    # Load the list of created texts, remove special tokens and empty spaces at both ends, and add them to our list of all created texts.\n",
    "    # If a generated sequence has nothing other than the start token, just discard it.\n",
    "    with open('/content/drive/My Drive/Amazon Review Text Language Modeling/created_texts.pkl', 'rb') as f:\n",
    "        created_texts = pickle.load(f)\n",
    "    list_of_all_created_texts.extend([remove_empty_spaces_at_both_ends(remove_start_token(seq)) for seq in created_texts if not has_no_alphanumeric_chars(remove_start_token(seq))])\n",
    "\n",
    "# Make a 2-column Pandas dataframe, where one column contains the texts, and the other column indicates the rating score.\n",
    "# Save the dataframe as a pickle file. \n",
    "all_created_texts_df = pd.DataFrame(data={'generated_text': list_of_all_created_texts, 'rating': [1] * len(list_of_all_created_texts)})\n",
    "all_created_texts_df.to_pickle('/content/drive/My Drive/Amazon Review Text Language Modeling/all_created_texts_rating1_df.pkl')\n",
    "\n",
    "print('Out of total 300, num_new_run_generations = {}'.format(num_new_run_generations))"
   ]
  },
  {
   "cell_type": "markdown",
   "metadata": {
    "id": "8Uyj46B6hTnf"
   },
   "source": [
    "# Train a BERT classification model and check its performance on the generated texts"
   ]
  },
  {
   "cell_type": "markdown",
   "metadata": {
    "id": "wiTOvKUGVBPO"
   },
   "source": [
    "For each rating score, we randomly use 65000 texts from the 260660 training datapoints that the GPT2 for the corresponding rating was trained on as the training data for our text classification model (so around 25% of the training data for GPT2). For evaluation data, we will use the same data that was used as the evaluation data for GPT2. Finally, for test data, we will use the generated texts from the GPT2.\n",
    "\n",
    "For our classifier, we will fine-tune the BertForSequenceClassification model in the transformers library, which is essentially BERT + one fully connected layer.\n",
    "\n",
    "The link to the BERT paper is: https://arxiv.org/abs/1810.04805"
   ]
  },
  {
   "cell_type": "markdown",
   "metadata": {
    "id": "nA7Fzd_Sp9ku"
   },
   "source": [
    "Let's load the training data review texts for each rating and then concat them into a single dataframe."
   ]
  },
  {
   "cell_type": "code",
   "execution_count": null,
   "metadata": {
    "colab": {
     "base_uri": "https://localhost:8080/"
    },
    "executionInfo": {
     "elapsed": 7060,
     "status": "ok",
     "timestamp": 1608880278414,
     "user": {
      "displayName": "Jun Hee Kim",
      "photoUrl": "",
      "userId": "13687154323298337983"
     },
     "user_tz": -540
    },
    "id": "d3Xvk4fdlKEc",
    "outputId": "ba5bf751-6705-4d14-812f-1cd5f82cfa8e"
   },
   "outputs": [
    {
     "name": "stdout",
     "output_type": "stream",
     "text": [
      "train_df number of rows, number of columns: (325000, 2)\n",
      "number of training datapoints for each rating: Counter({1: 65000, 2: 65000, 3: 65000, 4: 65000, 5: 65000})\n"
     ]
    }
   ],
   "source": [
    "train_rating1_df = pd.read_pickle('/content/drive/My Drive/Amazon Review Text Language Modeling/train_rating1.pkl')\n",
    "train_rating1_df = train_rating1_df.sample(65000)\n",
    "train_rating1_df.reset_index(drop=True, inplace=True)\n",
    "train_rating2_df = pd.read_pickle('/content/drive/My Drive/Amazon Review Text Language Modeling/train_rating2.pkl')\n",
    "train_rating2_df = train_rating2_df.sample(65000)\n",
    "train_rating2_df.reset_index(drop=True, inplace=True)\n",
    "train_rating3_df = pd.read_pickle('/content/drive/My Drive/Amazon Review Text Language Modeling/train_rating3.pkl')\n",
    "train_rating3_df = train_rating3_df.sample(65000)\n",
    "train_rating3_df.reset_index(drop=True, inplace=True)\n",
    "train_rating4_df = pd.read_pickle('/content/drive/My Drive/Amazon Review Text Language Modeling/train_rating4.pkl')\n",
    "train_rating4_df = train_rating4_df.sample(65000)\n",
    "train_rating4_df.reset_index(drop=True, inplace=True)\n",
    "train_rating5_df = pd.read_pickle('/content/drive/My Drive/Amazon Review Text Language Modeling/train_rating5.pkl')\n",
    "train_rating5_df = train_rating5_df.sample(65000)\n",
    "train_rating5_df.reset_index(drop=True, inplace=True)\n",
    "\n",
    "train_df =  pd.concat([train_rating1_df, train_rating2_df, train_rating3_df, train_rating4_df, train_rating5_df], ignore_index=True, sort=False)\n",
    "print('train_df number of rows, number of columns: {}'.format(train_df.shape))\n",
    "print('number of training datapoints for each rating: {}'.format(Counter(train_df['rating'])))"
   ]
  },
  {
   "cell_type": "code",
   "execution_count": null,
   "metadata": {
    "colab": {
     "base_uri": "https://localhost:8080/"
    },
    "executionInfo": {
     "elapsed": 2663,
     "status": "ok",
     "timestamp": 1608880282495,
     "user": {
      "displayName": "Jun Hee Kim",
      "photoUrl": "",
      "userId": "13687154323298337983"
     },
     "user_tz": -540
    },
    "id": "inPL5_7eoNvy",
    "outputId": "ba0bb3a7-345a-48af-bcc3-574a75f2598d"
   },
   "outputs": [
    {
     "name": "stdout",
     "output_type": "stream",
     "text": [
      "---------------------------------------------------------------------------------------------------------\n",
      "---------------------------------------------------------------------------------------------------------\n",
      "------------------ Here are some of the review texts for rating 1 in the training data ------------------\n",
      "---------------------------------------------------------------------------------------------------------\n",
      "---------------------------------------------------------------------------------------------------------\n",
      "\n",
      "--------------------------------------------------------------------------------\n",
      "Never worked,\n",
      "--------------------------------------------------------------------------------\n",
      "These clothes are great at what it is designed to do; cleaning lenses and glasses.  Unfortunately, my wife hates them!!  These clothes must be washed separately because the color bleaches easily.  It takes over 4 hours to wash them in our Samsung self-balanced washing machine.  Because these clothes are so light and you can't really mix them with anything else, the washer keeps on trying to re-balance in the spin cycle; often stopping requiring manual intervention.  I would buy again if the manufacturer makes these clothes in lighter colors.\n",
      "--------------------------------------------------------------------------------\n",
      "i bought two of these and had to return them the next day because they cannot support 400 watts load for more than 10 minutes.  JUNK!\n",
      "--------------------------------------------------------------------------------\n",
      "I ordered this product because of the great reviews I read about it. I assembled everything correctly when I received the first one and turned the power supply on...... nothing happened. I then tried multiple times to make it work or at least find out what was wrong with it with no luck. I brought the board to a computer technician for testing. It was determined to be a defective board. Amazon promptly sent a second bored out when this problem was reported but the exact same thing happened. I purchased an Asus from Fry's Electronics and couldn't be happier. It works well with my 8 core processor and 32gb RAM.\n",
      "--------------------------------------------------------------------------------\n",
      "did not fit the asus netbook it said it would\n",
      "--------------------------------------------------------------------------------\n",
      "excellent for price. UPDATE: A leg fell off. I loosened a tightening ring and slid he leg down and it came off in my hand! I am now at 2 weeks past the 30 day return policy. I can't find the manufacturer info to even contact them.  I don't see where I can fix it myself.\n",
      "Very disappointed. No wonder it is so cheap. I see now that they have stopped selling it. If it becomes available again, don't buy it.\n",
      "--------------------------------------------------------------------------------\n",
      "Attention possible Ipod Buyer! Please be aware that the Ipod you are about to purchase will likely have sever technical issues with it someday.  I have really enjoyed my I pod until I started to get errors in January 2006. I have had my Ipod for about 2 years and have a love hate relationship with it.  I love my Ipod because I use it everyday; on my way to work, at work and on my way home.  I love music and I love listening to music.  I really like the way the I pod works, but it has problems.  About a year after getting it and enjoying it with all my may many songs on it, it started giving me an error something like Cannot copy to or read from \"Your Ipod's Name here\" and that was it. That means I cannot add music to or take music off of the Iopd. I was in shock and did not know what to do.  I was foolish and did not buy the 2 year warranty.  I Finlay called tech support at Apple. They asked for the serial# for my Ipod. They told me it was out of warranty, that the warranty had expired in December of 2005 and there was NOTHING I could do, literally. I checked my purchase and found out that I had purchased this on April 7, 2005. I was so angry that they would tell me that it was out of warranty when it clearly was NOT I talk to some guy and told me that they CANNOT help me if my Ipod is NOT under a warranty.  Fortunately, I was able to figure out how to reset it and reloaded my music.  All was fine although after being able to reset and put my music back on it, I started getting the errors again.  I finally stopped trying to do updates because of all of the errors. Now, because of the new Itunes, it asked me if I would like to erase all of my music and replace it with the new library.  I unkowingly, did and now have no music on my Ipod.  I am done with you Ipod!  Done I say! I will find a new source to provide me with my music needs and move on! This has happed to everyone I know that owns an Ipod of any type. Seriously, I am not joking here! So If you don't want to get ripped off, I would reccomend something else.\n",
      "--------------------------------------------------------------------------------\n",
      "Sadly premium price for a made in China item. Oh well. B&O is going slowly down the drink.\n",
      "--------------------------------------------------------------------------------\n",
      "While the price is ok. I have trouble getting it connect to the Bluetooth. It'll connect but when it comes to streaming the audio it skips and it'll disconnect after a minute or so. Followed the pairing instructions and still having trouble.\n",
      "\n",
      "**update**\n",
      "Still having trouble with the Bluetooth. Not sure if it's defective but it worked good for a good minute then it started againing cutting out and disconnecting.\n",
      "\n",
      "**update** June\n",
      "Well everything else is working fine except of course the Bluetooth. I don't think it's compatible with Apple. I paired with an android and to my shock it worked flawlessly with the music app. No skipping. When u press the next song on the radio it skips right away with the android phone. A little disappointed but I guess there's plan B with the auxiliary input.\n",
      "--------------------------------------------------------------------------------\n",
      "Not very impressed. Bluetooth loses connection from a Note 5 in less than 15 feet. Sounds pop and speed up and slow down. Unit was replaced, same result. Steer clear of this speaker.\n",
      "--------------------------------------------------------------------------------\n",
      "Video stops working whenever I try to plug anything into this. Boo.\n",
      "--------------------------------------------------------------------------------\n",
      "Right out of the box plugged it in and downloaded the app to my smartphone.... DOES NOT WORK...Back it goes.... thank you Amazon for the return/refund process LOVE IT!!!!\n",
      "--------------------------------------------------------------------------------\n",
      "Simply does not work.\n",
      "--------------------------------------------------------------------------------\n",
      "malo\n",
      "--------------------------------------------------------------------------------\n",
      "Samsung update. The camera is going back. After installing their firmware update, the front animations are audio only. The front led still works in all other modes, but that part was important to me. I have two (almost three!) grandchildren to entertain as I photograph them. Their tech support is laughable ( restart reset, take out the battery etc. really? You thought I didn't try that?) they suggested sending it in for repair but I'm not doing that with a one day old camera. Amazon is good about returns.\n",
      "I also have three Samsung Tv's, a Samsung French Door Refrigerator and Samsung washer and dryer. I hope they keep working or that tech support is more helpful on the big ticket items.\n",
      "--------------------------------------------------------------------------------\n",
      "I live Pasadena, CA. My apartment is not surrounded by tall trees or buildings.\n",
      "Some part of the apartment does not get any TV signals at all.\n",
      "My room could not get FOX 11 or FOX 13, which is the most popular channel that everybody should be able to get.\n",
      "I tried this antenna with booster. It got FOX 11 & 13, but with lots of noises.\n",
      "It did not work, so returned it.\n",
      "--------------------------------------------------------------------------------\n",
      "HUGE, heavey, bulky, would not ever be able to use, even for a tv.\n",
      "--------------------------------------------------------------------------------\n",
      "Connection from top of unit (where you plug in) detaches from the base. When I removed the base and then tried to put it back in. However all it did was bend the power connection pins toward the center so that I couldn't replace the base. Seems like a poor design choice in an otherwise sturdy unit\n",
      "--------------------------------------------------------------------------------\n",
      "We bought 4 cables and used them once, one the connector broke off in iPad mini and the other gave error message and got real hot! If I could not put a star I would have no stars listed!!!!!!!\n",
      "--------------------------------------------------------------------------------\n",
      "The tip broke within 2 minutes of using.\n"
     ]
    }
   ],
   "source": [
    "# Let's see some of the review texts for rating 1 in the training data.\n",
    "rating_texts = [train_df['review_text'][i] for i in range(0, len(train_df)) if train_df['rating'][i]==1]\n",
    "rating_texts = random.sample(rating_texts, 20)\n",
    "print('-' * 105)\n",
    "print('-' * 105)\n",
    "print('------------------ Here are some of the review texts for rating 1 in the training data ------------------')\n",
    "print('-' * 105)\n",
    "print('-' * 105)\n",
    "print('')\n",
    "for txt in rating_texts:\n",
    "    print('-' * 80)\n",
    "    print(txt)"
   ]
  },
  {
   "cell_type": "code",
   "execution_count": null,
   "metadata": {
    "colab": {
     "base_uri": "https://localhost:8080/"
    },
    "executionInfo": {
     "elapsed": 2654,
     "status": "ok",
     "timestamp": 1608880288465,
     "user": {
      "displayName": "Jun Hee Kim",
      "photoUrl": "",
      "userId": "13687154323298337983"
     },
     "user_tz": -540
    },
    "id": "BSkP0S1ioacA",
    "outputId": "33b300d0-7207-4d57-b2a0-4e3c1f561235"
   },
   "outputs": [
    {
     "name": "stdout",
     "output_type": "stream",
     "text": [
      "---------------------------------------------------------------------------------------------------------\n",
      "---------------------------------------------------------------------------------------------------------\n",
      "------------------ Here are some of the review texts for rating 2 in the training data ------------------\n",
      "---------------------------------------------------------------------------------------------------------\n",
      "---------------------------------------------------------------------------------------------------------\n",
      "\n",
      "--------------------------------------------------------------------------------\n",
      "Doesn't work for my intended use, not sure why.\n",
      "--------------------------------------------------------------------------------\n",
      "It was impossible to get a clear image with this. The attachments were useless. I tried to look in my kids ear and all I saw was blur. It does not focus enough. It is more of a handheld microscope. unless the lens is super close to what you are trying to see you won't see anything and still the image is not very sharp. I had a Firefly that broke and by trying to save money I ended up wasting it. The firefly is definitely worth the money.\n",
      "--------------------------------------------------------------------------------\n",
      "While i don't doubt this is a fine product, for me it was very fustrating trying to get the bubbles out, so i just gave up and bought something else that didn't give me the same problem..  Nothing i did seem to work so i just ate the cost..\n",
      "--------------------------------------------------------------------------------\n",
      "I purchased this when it was \"deal of the day\" on Amazon. I appreciate the technology going into this tiny dash/action cam, and it is very simple to use.  I don't necessarily think that it's an \"extreme edition\" as the product label implies. The unit I received doesn't record sound and that is why I gave it two stars. It comes with various mounting hardware and HDMI cable, so that's goodness there.  Auto rotation only works when the unit is powered on in the configuration that you put it in, meaning it won't auto rotate once you start filming.  From the video and pictures that I took, it seems that this unit needs plenty of light for crisp clean output.  It struggles in lower light conditions as in indoors.  The TV interface via the HDMI cable is a nice feature, but clunky to navigate.  I was not able to record while charging - I'm not sure if that's a feature or not.  The video output is in .mov format, so I can't play the clips on my iPhone via my MS Onedrive app.  Overall a decent device, but I should've reviewed/researched a bit more.\n",
      "--------------------------------------------------------------------------------\n",
      "But I love it.  The case is wonderful.  Fits well.  Love the look.  SO happy with this case except for the fact that I can't use it.  :(  The smell is horrible and no amount of \"airing out\" seems to remedy the situation.  Sad.  So sad.  Such a nice case this is.\n",
      " Updated: 3 months later the smell is gone and I'm loving this case.  (And now I'm using it!) :)\n",
      "--------------------------------------------------------------------------------\n",
      "The pen is not rechargeable. I have to keep it constantly plugged into the USB cord and I have to be careful with it or else the cord will unplug and my pen will be unusable. Other than that, the tablet works fairly well.\n",
      "--------------------------------------------------------------------------------\n",
      "I really wanted to like this activity tracker. It is one of the only waterproof optical heart rate trackers out there, but it falls short in so many ways. It has trouble syncing with the Polar flow app consistently, and the Polar flow app needs a serious overhaul. It doesn't provide much useful data at all, I really wish it had more info similar to that of the Fitbit app. I know Polar is generally a brand for the more hardcore athlete, and it's great for that if you sync up chest strap heart rate monitor, but if they want to broaden their market with activity trackers for the rest of the population they will need to step up their game. Returning the product. I hope Polar reads these reviews because they have so much going for them as is.\n",
      "--------------------------------------------------------------------------------\n",
      "I don't know that these have more bass as much as they have a lack of mids and highs.  The bass that they do have is muddy, and the mids and highs are distant. After using an eq to level the output to something reasonable, the mids and highs almost sounded like they had a small amount of reverb on them.  I changed out the silicone ear buds for a set of comply foam buds which seemed to help the muddiness of the bass a little bit.  I also removed the little sponge pieces that are intended to keep foreign matter out of the driver, and the highs were a little better after that. The highs also improved after some break in time, but overall the mids and highs are still lacking.\n",
      "--------------------------------------------------------------------------------\n",
      "This device 5th gen Ipod Touch 32gb yellow, serial number CCQJW8BVF4JW, was sold to me as a NEW device, but it arrived clearly as USED.  The sides were scratched up, in addition, when I contacted Apple support to attempt to set up the device, it was discovered that the device is not recognizable to the comp. Itunes app.  Do not be hoodwinked like I was with this specific device.\n",
      "--------------------------------------------------------------------------------\n",
      "I got my Archos 5, the 500GB Model, only yesterday. So far I'm really impressed.  I should wait before writing this review, but with the touch screen ease of use, the enormous hard drive, beautiful video and picture display, WIFI Internet, easy GPS upgrade, all those built-in programs, available program add-ons in Android, etc., etc. etc., I just can't stop myself from RAVING. PUFF, PUFF . . . It takes my breath away!\n",
      "\n",
      "I compare the Archos 5 to my old Palm PDA (Zire 72).  I paid $250.00 for it five years ago.  That's what I paid Amazon for the Archos a few days ago!  I used my old PDA daily, and I found it to be sometimes fun and extremely useful.  Now it looks to me like a piece of crap.\n",
      "\n",
      "I know, I'm just carried away with a new super toy.  I promise to update this review when I get my head out of the clouds.\n",
      "\n",
      "UPDATE: December 31, 2010\n",
      "Okay, I'm starting to come down now.\n",
      "\n",
      "Notice:  I purchased my Archos 5 for $250.00.  I see that Amazon is now asking $370.00.\n",
      "\n",
      "(1) The Internet Browser on the Archos 5 is very slow and very awkward to use. Maybe I'll use the Internet Wi-Fi function when out of town for banking and GPS - maybe, but I do have a couple net books that could handle these functions better.\n",
      "(2) The Archos 5 is slow to start and slow to get programs running.  It's just a slow little computer.  And I have to refresh the screen every time I put on my glasses so I can read the tiny words on the screen.\n",
      "(3) And it crashed twice already.  But this is not much of a big deal.  It easily recovered without loosing  any data or programs.\n",
      "\n",
      "For these shortcomings I have reduced my rating of -5STARS- to -4STARS-. Maybe I'll later drop it down to -3STARS- but it does Wi-Fi Internet and I still like it for its portable media performance and 500GB hard drive. Just understand that I'm a gadget freak.  I like to play with new gadgets.  However, I would not now recommend the Archos 5 to anyone.  Not at this price.  I would not have bought it myself, not at $370.00. No, no, no.\n",
      "\n",
      "UPDATE: January 5, 2011\n",
      "Oh, crap, I give up.  I'm taking down not only my initial -FIVE STAR- rating but also my -FOUR STAR- rating.  As you can now read, my present rating is -TWO STARS-.  This money hungry incompetent little monster computing machine can't do anything that both of my net books do MUCH Better.  Archos 5 would be easier to use if it used one of the Microsoft Operating Systems, but still . . . yuck. Thrilling novelty or not, this pretty little thing simply does not measure up, performance wise, even to what has been widely available to consumers for several years.  Potentially having so many software applications in such a small package is the only thing about it that is unique and could be desirable.  But what is all that worth when the performance of most of these applications suck?  And the user must pay additionally to use advertised applications that appear to come with the machine's initial purchase, only to find out that they actually do not come with the unit but must be paid for separately.  Oh, the games people play.\n",
      "\n",
      "I have secured permission and labels to return my unit to Amazon.com for refund.  I had only to pay return shipping of $10.62 and click one of the reasons for the return.\n",
      "\n",
      "I had also ordered the DVR Snap On accessory.  I ordered this through Amazon, but from a third party seller.  With him I not only have to pay for return postage, but also 15% - 20% restocking fee.  I guess the lesson here is to know return policies before making purchases, especially from third party sellers.\n",
      "\n",
      "The end\n",
      "--------------------------------------------------------------------------------\n",
      "The black sleeve was to large and would not allow the plug to go in. I cut the black sleeve back to the angle and was able to use the item.\n",
      "--------------------------------------------------------------------------------\n",
      "I don't like this model, because of:\n",
      " - they are really big and have a huge amount of weight, so they can't stay into ears for long. I need to reinsert into ears again and again and again\n",
      " - you can't use this headphones for workout or running\n",
      " - it's even not easy to walk with them. Plus if you wearing buff, hat or scarf - they won't stay long in place.\n",
      "--------------------------------------------------------------------------------\n",
      "I got tired of constantly breaking my cheap $4 charging cables and decided that I'd try this product out hoping it'd be the last cable I'd ever have to buy. I was wrong. The cable broke in a matter of two days. Broke as in, the Micro USB connector bent and had trouble sitting in my phone. I wrote Sewell Direct and asked for a replacement. I received a new cable within a few days, no questions asked. Their support is fantastic.\n",
      "\n",
      "Upon receiving the second cable, however, I noticed that my phone was charging extremely slowly while plugged into a wall charger (cable of 2.1 volts). After checking my phone, I realized that the phone stated it was \"charging on USB\", as if the the cable were connected to my computer. I, again, wrote Sewell Direct and had a representative inform me that there was a solder problem with the last \"batch\" of cables they received from the manufacturer. I understand that things like this do happen, so I wasn't that upset and simply asked for a date at which they would be receiving new cables. The rep told me 3 weeks from then. I waited a month and contacted them once more only to not get a proper response. It took another email and a live chat session just to find out that they STILL haven't received anymore cables and had no ETA on when they'd be getting more. Frustrated, I asked for a refund.\n",
      "\n",
      "All in all, the support team was, for the most part, very helpful and responded very quickly. Unfortunately, the cable quality couldn't follow suit. Very disappointing.\n",
      "--------------------------------------------------------------------------------\n",
      "Didn't work for the Gateway PC which has the exact same RAM but a different brand. I waited too long past return period. I hope the RAM works for a different PC.\n",
      "--------------------------------------------------------------------------------\n",
      "Works great as a surge protector and USB charger, but makes a high-pitched humming noise / sound. Annoying enough that it is not good to place within hearing distance in a quiet room (bedroom, etc).\n",
      "--------------------------------------------------------------------------------\n",
      "I have to agree with the reviewer who noted driver problems. My reader worked intermittently on my old computer (sometimes defaulting to USB 1 - incredibly slow) and doesn't work at all on my new one. Lexar maintains that no driver is required, and doesn't provide one on its web site, but my experience is that plug-n-play on XP is flaky with this device.\n",
      "\n",
      "When it works, it's great, except for the minor annoyance of the door tending to flip shut when disturbed.\n",
      "--------------------------------------------------------------------------------\n",
      "Connectors became loose. I would try a different brand. Go with the Amazon Basics instead.\n",
      "--------------------------------------------------------------------------------\n",
      "I bought it for my wife and she disliked it, far too complicated to set or operate.\n",
      "--------------------------------------------------------------------------------\n",
      "they are verry uncomfortable because they squeeze your head and give you a headache and the band up top is made of cheap plastic so taking them on and off 4 or 5 times if you are not extremely careful WILL break them. I will say that these headphones have 1 good thing going for them though, the sound delivered from these headphones is incredibly good,  over all i give it a rating of CHEAP JUNK\n",
      "--------------------------------------------------------------------------------\n",
      "The module that plugs in the wall doesn't seat properly.  Especially if you have plugs that are sideways (Like in the kitchen)  I was an engineer with iGo and Mobility, who designed power supplies (Universal supplies that worked globally with one supply).  The unit that is plugging in needs to be more stable.  Wants to fall out of the wall. (You can see in the picture, it's hanging almost)\n"
     ]
    }
   ],
   "source": [
    "# Let's see some of the review texts for rating 2 in the training data.\n",
    "rating_texts = [train_df['review_text'][i] for i in range(0, len(train_df)) if train_df['rating'][i]==2]\n",
    "rating_texts = random.sample(rating_texts, 20)\n",
    "print('-' * 105)\n",
    "print('-' * 105)\n",
    "print('------------------ Here are some of the review texts for rating 2 in the training data ------------------')\n",
    "print('-' * 105)\n",
    "print('-' * 105)\n",
    "print('')\n",
    "for txt in rating_texts:\n",
    "    print('-' * 80)\n",
    "    print(txt)"
   ]
  },
  {
   "cell_type": "code",
   "execution_count": null,
   "metadata": {
    "colab": {
     "base_uri": "https://localhost:8080/"
    },
    "executionInfo": {
     "elapsed": 2594,
     "status": "ok",
     "timestamp": 1608880294224,
     "user": {
      "displayName": "Jun Hee Kim",
      "photoUrl": "",
      "userId": "13687154323298337983"
     },
     "user_tz": -540
    },
    "id": "j9nCPW2Tpu_4",
    "outputId": "b2a17d30-fae5-464a-eb67-14364b3ecc9b"
   },
   "outputs": [
    {
     "name": "stdout",
     "output_type": "stream",
     "text": [
      "---------------------------------------------------------------------------------------------------------\n",
      "---------------------------------------------------------------------------------------------------------\n",
      "------------------ Here are some of the review texts for rating 3 in the training data ------------------\n",
      "---------------------------------------------------------------------------------------------------------\n",
      "---------------------------------------------------------------------------------------------------------\n",
      "\n",
      "--------------------------------------------------------------------------------\n",
      "Arrived damaged....looking at returning the belt.\n",
      "--------------------------------------------------------------------------------\n",
      "I broke in these earphones per the manufacturer's recommendation.  However the earphones lack a good response in the highs and midrange.  But at this price you can't expect this much. It's just that the reviews and the manufacturer's claims raised my expectations too high. I need to go to the in-the-ear earphones to meet my  requirements.\n",
      "--------------------------------------------------------------------------------\n",
      "The Cogito Classic is a good starter smart watch.\n",
      "\n",
      "Pros:\n",
      "Battery lasts for months. Delivers lots of notifications. Android and iOS support. Attractive design.\n",
      "\n",
      "Cons:\n",
      "Nearly identical, but slightly more expensive than the Cookoo. Small display for notifications.\n",
      "\n",
      "Find out more information on:\n",
      "+ Cookoo: http://amzn.to/1PghEKd\n",
      "--------------------------------------------------------------------------------\n",
      "Too fragile to be of routine use.\n",
      "--------------------------------------------------------------------------------\n",
      "case is great. so far it has held up to almost 3 years.\n",
      "--------------------------------------------------------------------------------\n",
      "Thought their were  head phones to replay my university hall lectures. Disappointed, it's intended for phone conversions recording with your personal recorder.\n",
      "--------------------------------------------------------------------------------\n",
      "It has finally died so I can honestly review it.  After having owned it for 5-6 years I can say that it was love at first sight.  (Ok, it was our first DVR, ok?)  The hard drive failed after several years and we purchase a replacement through Weaknees and I replaced it myself.  Recently, it appeared that the drive was failing again and we took a look at how we used it and found that we hadn't watched any TV in the last several months.  'Nuff said, cable subscription canceled, new media center purchased and installed.  Most everything we want to watch is available on Youtube, Amazon, Netflics, or one of the other streeming servies for a WHOLE lot less cost per month.  We found this unit of great utility allowing us to time shift our television viewing, skip over commercials, and program it to get 'all episodes' of our favorite programs.  While I haven't thrown it out, as we may decide to replace the hard drive once again, I doubt that we would purchase another one.  We already paid for ONE lifetime TIVO membership and will not fork over the bucks for another.  (Sorry TIVO).\n",
      "--------------------------------------------------------------------------------\n",
      "One of the 3' cables didn't work coming out of the box.\n",
      "--------------------------------------------------------------------------------\n",
      "It worked as expected . But SD card was bad. I had to use samsung-sd card and put the raspbian OS on it to make it work.\n",
      "--------------------------------------------------------------------------------\n",
      "Good thing the master control feature can be turned off.  If you plug an iMac into master and any USB or firewire controlled device in the controlled outlets, you are in for some entertainment.  When the iMac goes to sleep, the UPS will power down the USB or firewire devices, which the iMac will still detect as a device removal, which will cause the iMac to wake up and pwer is restored t the devices.  The iMac will quickly go back to sleep, which will cause the devices to power down, which will then ... and then ... forever and ever.\n",
      "\n",
      "Otherwise, a nice product.  What I noticed most is how much the battery weight has decreased over the years.  I have two older 650 models and now this 750.\n",
      "\n",
      "And yes, iMacs don't need any additional software.  With Windows, YMMV.\n",
      "--------------------------------------------------------------------------------\n",
      "Just got this lens it's a great all manual lens only con was when I opened it the lens appears to be scratched already\n",
      "--------------------------------------------------------------------------------\n",
      "This does not have wide angle at all! Narrow view and the clip is very LIGHT duty...\n",
      "--------------------------------------------------------------------------------\n",
      "The product worked and seemed to be packaged well, but arrived with several scratches. If this was for anything more than my young son's iPad I would've exchanged it.\n",
      "--------------------------------------------------------------------------------\n",
      "it broke after like 2 months\n",
      "--------------------------------------------------------------------------------\n",
      "We have a Magellan RoadMate 1412. It was suffering from an inability to download new firmware which is a prerequisite to getting the free 1-month map update (which we didn't even know about until coming here for tech support)\n",
      "\n",
      "I'd like to tell the story about BFG Tech, a company we contacted because of a dead video card in our computer. Not only did they send out a replacement ahead of time before we even got off the phone, the replacement was an upgrade!! Wow, now that's a company that knows how to take care of and retain customer loyalty.\n",
      "\n",
      "Well, our Magellan RoadMate is still suffering the same issue and we are now past our 1-month window of getting the map upgrade. Will we use our RoadMate? Of course, the old maps on there are probably good enough. Will we recommend Magellan to anyone or buy another one? Probably not.\n",
      "--------------------------------------------------------------------------------\n",
      "Did not work with MACTIS CAT6 180 Keystone Jacks :(\n",
      "--------------------------------------------------------------------------------\n",
      "It's just ok.  It doesn't work 100% of the time.  I have tried it on several computers and it just stops working on all of them.  It only lasts a couple of minutes but it is frustrating. I'll buy another one and save this one for a spare.\n",
      "--------------------------------------------------------------------------------\n",
      "Update: The seller contacted me and offered to send another hub. Will test that and update the feedback at that time.\n",
      "Not seeing any USB 3.0 speed despite using USB 3.0 ports and USB Sticks. You can't have all the four USB Sticks side by side without\n",
      "bending one of them slightly. Not enough space between the ports.\n",
      "--------------------------------------------------------------------------------\n",
      "Not a great product sadly. Very lightweight which is the only plus. The magnetic hinge is weak. I got a lot of double or triple letters and spaces when typing. But the reason I returned it is the screen sits right at the top row of keys, so you end up tapping on the screen unintended and moving your position in your document when you try to hit something on the top row.\n",
      "--------------------------------------------------------------------------------\n",
      "It works! The notification volume is good. I give a 3 star because the receiver can not tell which sensor is activated. Makes no sense to have more then 1 sensor and not know which one is alerting\n"
     ]
    }
   ],
   "source": [
    "# Let's see some of the review texts for rating 3 in the training data.\n",
    "rating_texts = [train_df['review_text'][i] for i in range(0, len(train_df)) if train_df['rating'][i]==3]\n",
    "rating_texts = random.sample(rating_texts, 20)\n",
    "print('-' * 105)\n",
    "print('-' * 105)\n",
    "print('------------------ Here are some of the review texts for rating 3 in the training data ------------------')\n",
    "print('-' * 105)\n",
    "print('-' * 105)\n",
    "print('')\n",
    "for txt in rating_texts:\n",
    "    print('-' * 80)\n",
    "    print(txt)"
   ]
  },
  {
   "cell_type": "code",
   "execution_count": null,
   "metadata": {
    "colab": {
     "base_uri": "https://localhost:8080/"
    },
    "executionInfo": {
     "elapsed": 2603,
     "status": "ok",
     "timestamp": 1608880299365,
     "user": {
      "displayName": "Jun Hee Kim",
      "photoUrl": "",
      "userId": "13687154323298337983"
     },
     "user_tz": -540
    },
    "id": "G_ZVPBuZpvE2",
    "outputId": "0a15c45a-2206-4f3a-9224-619bc62b251d"
   },
   "outputs": [
    {
     "name": "stdout",
     "output_type": "stream",
     "text": [
      "---------------------------------------------------------------------------------------------------------\n",
      "---------------------------------------------------------------------------------------------------------\n",
      "------------------ Here are some of the review texts for rating 4 in the training data ------------------\n",
      "---------------------------------------------------------------------------------------------------------\n",
      "---------------------------------------------------------------------------------------------------------\n",
      "\n",
      "--------------------------------------------------------------------------------\n",
      "Much shorter charge time with this device over what it takes to charge with my computer. It is worth it.\n",
      "--------------------------------------------------------------------------------\n",
      "So far I've used 36 of these blank DVDs to burn video segments onto the and only one of them has been faulty. The other 35 burned without a hitch. The dics also printed cleanly and quickly on a HP 5160 injet printer. If it weren't for the one failed DVD I would have given this product five stars.\n",
      "--------------------------------------------------------------------------------\n",
      "They did not list the usb voltage and ampage but it is printed on the side of the adapter itself.  I took a chance and ordered it.  Surprisingly even at one amp, it still charges the Ipad 2 which is notoriously picky regarding usb chargers.\n",
      "\n",
      "The adapter itself seems solidly built.  The prongs come in and out and locks in place with a decent feeling.  I'm only giving it 4 stars for now because I'm expecting that the locking mechanism won't last more than a year despite how well it seems to be built.  I'll update this review in about a year after traveling a few times with the adapter.\n",
      "\n",
      "I'm a big proponent of onebag traveling and this definitely cuts down on the amount of chargers.\n",
      "--------------------------------------------------------------------------------\n",
      "I don't get the bad reviews? This is fairly inexpensive digital camera we bought for our daughter. It works just fine, Both pics and video. Great for her to have fun with and something we will likely take with us on a overseas trip rather than the expensive Nikon. Worth the money,\n",
      "--------------------------------------------------------------------------------\n",
      "I greatly anticipated this camera's release since it had been a few years since Canon's last superzoom update.  However, if you're looking to upgrade from the excellent SX50, there are a few things to keep in mind.  Please understand I am not a professional, or even that avid an amateur photographer, so these are very \"layman's\" perspectives.  I never used the manual mode on any of Canon's cameras, mostly staying with AV or TV to adjust the aperture/shutter speed + ISO, letting the camera deal with the last leg of the \"triangle\", so that's the level of this review.\n",
      "\n",
      "The bigger zoom, going from 50x to 65x, may be the big headliner, but frankly, at max zoom, the shot clarity, focus speed and stabilization are so degraded, unless you're using a tripod (or monopod in my case), you're not getting any real utility with the extra zoom.  If you do use a tripod, you'll get dividends, though the auto focus is still painfully slow at full zoom.  Bottom line, there are limits to how much optical zoom you can get without degrading your sharpness.  I looked into diffraction limits a bit (only a bit), and the SX60 looks to be about at that limit or slightly past it.  You may be better off pretending the camera's max zoom is \"only\" 50x for most circumstances.\n",
      "\n",
      "Other than that, the biggest upgrade is the video, going to 60fps at a full 1080p.  This is about the only reason I would wholeheartedly recommend an upgrade from the SX50.  I actually haven't heard the noises from zooming the camera that others have reported, but consider now that you have the option of an external mike as well.  There are other minor bumps in the spec like the new sensor bumping the MPs from 12 to 16 and allows for higher rates of continuous shooting.  Also some improved features for framing your zoomed in shot while tracking zoomed out.\n",
      "\n",
      "Aesthetically, it's a nicer looking & feeling camera as well. Much comfortable to hold, better places for your fingers to rest while shooting, and the same bulk as the SX50, so it still fits in my messenger bag well enough.  So considering the other modest spec upgrades, other than the rather cool video capabilities, you have to ask yourself, is this worth the price?\n",
      "\n",
      "As an upgrade from the SX50, I would have to say definitely no.  If you have an older model and want a superzoom, I would have to say... probably no.  You can pick up the SX50 for around $350 new if you look around, lower used, and I can't justify an extra $200 for really not that big of an upgrade.  Hell, even if prices were the same, you could make a rational argument for preferring the SX50.  I almost left a 3* rating, but realized that was too biased at comparisons with the SX50, so with a blank perspective, I bumped it up a 1/2*.\n",
      "--------------------------------------------------------------------------------\n",
      "Nice product; wish it had a hard cover in the front as well!\n",
      "--------------------------------------------------------------------------------\n",
      "I was expecting the keyboard to extend a bit further out since the viewing angle is still fairly steep. Some of the pinky keys are awkward to reach for even though I have petite hands. Though I will say connecting to Bluetooth is a breeze and putting my iPad Mini in and taking it out of the case is easy.\n",
      "--------------------------------------------------------------------------------\n",
      "I was a little hesitant to get a Harmony remote. My parents have an old one for their home theater (before logitech bought them out) AND I always found there was a  delay from when you push the button on the remote until it is registered by the device. But, I found myself with 6 remotes for my new home theater and was getting annoyed with the clutter on my coffee table and the amount of time it took to switch from DVR to DVD, etc...  I was really excited when I discovered this remote has ABSOLUTELY NO LAG and there are a few new buttons on the remote that make it perfect for use with a DVR. For me this was a FIVE-STAR purchase, however I only give it a four star review because I can imagine less computer-savvy users finding the setup and tweaking quite complicated. [...]\n",
      "--------------------------------------------------------------------------------\n",
      "The camera arrived yesterday and I studied the manual as I set up the M500. The manual is somewhat confusing because it pertains to three different models altogether, the M52 and M50 in addition. As is not uncommon in my experience, the manual, particularly the print version, leaves much to be desired in font size, layout, and easy of use. I prefer the pdf that you can download from Canon or copy off the cdrom that comes with the camera.\n",
      "\n",
      "When after I charged the battery and tried to record with the M500, a message appeared on the screen saying, \"No Memory Card.\" The only instructions in the manual refer to selection of storage, either internal storage or a memory card, i.e., flash storage. After wasting an hour or two trying different commands, pouring through the manual, and getting no where, I emailed Canon Support and was told that the M500 does not have internal storage (memory): A memory card must be used.\n",
      "\n",
      "So if you buy the camera you might want to order a flash card at the same time. And note you will need a card that has a proper class rating, a usable size, etc. I just ordered from Amazon a SanDisk Extreme 32 GB SDHC Class 10 UHS-1 Flash Memory Card 45MB/s SDSDX-032G-AFFP.\n",
      "\n",
      "Since I haven't been able to test the camera, I will give the current average rating. You might, though, want to search youtube for reviews and out of the box presentations of the HF M500. The build quality is frequently called into question, appearing like \"cheap\" plastic to some reviewers. But the technical features seem to earn a high rating with them.\n",
      "--------------------------------------------------------------------------------\n",
      "Good micro board. No hiccups or issues after a month of heavy use. Appears Asus finally fixed their USB 3 issues from earlier days. Running three 2.5\" drives, two SSDs - one for OS and utilities, one for programs -  and an HDD for data files. This combo works well with this board and 8GB RAM.\n",
      "--------------------------------------------------------------------------------\n",
      "I got this for me.  My puppy chewed up my old tablet case, so I had to find one that he didn't want to chew.  This one works.  I wish the stand was more stable though.  Knocked one star off for that.\n",
      "--------------------------------------------------------------------------------\n",
      "Installation and set up with a few hiccups.  I'm not technically inclined and the Man is even less so.  He was just there to provide the muscle.  I got it up and running and then realized there was a software update.  Important to note that before doing the update, one should export one's configuration settings first so that one does not stand back in awe and stupefaction when everything is reverted back to default settings.  My bad. Probably more user error than anything.  I got the 960h system, not on the high end of quality imagery, but enough for this starter package.  May one day upgrade to a better system, but it serves my purpose for now.  I have not managed to get the motion detection options fine tuned; I suspect that I may never.  If I turn the setting up with email alert, it results in hundreds of emails, it seems to detect every little thing in the camera view from leaves to bugs to shadows.  I do like that I can view the feed easily from my phone and check on package deliveries.\n",
      "--------------------------------------------------------------------------------\n",
      "Arrived in excellent condition. Quick delivery. Unfortunately the stylus can't be used consistently with IPad. But it works perfectly with Samsung Tablet and Note cellphone.\n",
      "--------------------------------------------------------------------------------\n",
      "Delivery was quick and the ordering/billing easy.  Having other issues with this new computer I'm building so it may be awhile before I can fully test it.\n",
      "--------------------------------------------------------------------------------\n",
      "Except for the original 1-button Apple mouse, every mouse I used with my iMac produced jerky cursor movement (irrespective of mousing surface). This includes Logitech mice (even the mighty MX1000), which unfortunately come packed with some of the worst mouse software for Mac OS X.\n",
      "\n",
      "Then I tried the M$ Laser Mouse 6000 and it is flawless on the Mac. The cursor moves predictably and smoothly every time. In 2 weeks of use so far, there hasn't been a single problem. The software is good, too; unlike Logitech, it is \"smart\" enough to maintain separate preferences for multiple users.\n",
      "\n",
      "The mouse itself is near perfect. Despite its reliance on two heavy AA batteries, it glides easily enough with just enough solidity of feel. The scroll wheel is big and smooth, though its middle-button clickability is difficult. The side buttons work well and are well-placed, though they are a bit too soft when clicked. The silver-grey finish is high-quality, with rubberized grips and Apple-complementing aesthetics.\n",
      "\n",
      "It gets 4 stars because its build quality and ergonomics are still 2nd-best to Logitech, though that gap is narrowing.\n",
      "--------------------------------------------------------------------------------\n",
      "Good price, for charger with two batteries.\n",
      "--------------------------------------------------------------------------------\n",
      "Fits great on my galaxy 3. buttons are responsive. will slide on tour dash. Its thick enough to feel good in your hand.\n",
      "--------------------------------------------------------------------------------\n",
      "Good product\n",
      "--------------------------------------------------------------------------------\n",
      "Like these very well.  The softer tips make for easier on screen tapping and dragging.  Highly recommend.  Great price, too.\n",
      "--------------------------------------------------------------------------------\n",
      "Works great.\n"
     ]
    }
   ],
   "source": [
    "# Let's see some of the review texts for rating 4 in the training data.\n",
    "rating_texts = [train_df['review_text'][i] for i in range(0, len(train_df)) if train_df['rating'][i]==4]\n",
    "rating_texts = random.sample(rating_texts, 20)\n",
    "print('-' * 105)\n",
    "print('-' * 105)\n",
    "print('------------------ Here are some of the review texts for rating 4 in the training data ------------------')\n",
    "print('-' * 105)\n",
    "print('-' * 105)\n",
    "print('')\n",
    "for txt in rating_texts:\n",
    "    print('-' * 80)\n",
    "    print(txt)"
   ]
  },
  {
   "cell_type": "code",
   "execution_count": null,
   "metadata": {
    "colab": {
     "base_uri": "https://localhost:8080/"
    },
    "executionInfo": {
     "elapsed": 2592,
     "status": "ok",
     "timestamp": 1608880307084,
     "user": {
      "displayName": "Jun Hee Kim",
      "photoUrl": "",
      "userId": "13687154323298337983"
     },
     "user_tz": -540
    },
    "id": "a_3HGWvNpvK4",
    "outputId": "46f91f7f-a848-4966-9531-80e5c34462ce"
   },
   "outputs": [
    {
     "name": "stdout",
     "output_type": "stream",
     "text": [
      "---------------------------------------------------------------------------------------------------------\n",
      "---------------------------------------------------------------------------------------------------------\n",
      "------------------ Here are some of the review texts for rating 5 in the training data ------------------\n",
      "---------------------------------------------------------------------------------------------------------\n",
      "---------------------------------------------------------------------------------------------------------\n",
      "\n",
      "--------------------------------------------------------------------------------\n",
      "The Logitech Harmony 890 remote is simply awesome.  It does everything I wanted it to do, which was to replace six other remotes with one.  I recommend you read other reviews because some customers had problems programming the remote.  I had a few issues that I bumped into using the Logitech website, but nothing serious.  Logitech is continually updating their website to make it easier to use.  Plan to spend a few days programming the remote and tweeking the settings.  Once you get the remote programmed, it operates seemlessly with all your components.\n",
      "--------------------------------------------------------------------------------\n",
      "Makes my headphones sound better\n",
      "--------------------------------------------------------------------------------\n",
      "Great price. I read all the reviews about some who were concerned or had bad experiences with the clip breaking or detaching, so I purchased the FotoTeck Quick Install Stainless Steel screws, and that seems to be working fine. I've used this strap multiple times, and my Nikon D3300 has always felt secure on my hip. I haven't used the clip that came with the strap, but to be honest, it seems very well built and sturdy. I kept it as a backup.\n",
      "--------------------------------------------------------------------------------\n",
      "I'm quite pleased with these. I've had a pair that didn't work, and have a pair of on-ear that don't fill my needs.  They don't cancel noise (my wife's tv), but do a good job nonetheless. I use them exclusively for watching video online. Volume is just loud enough, but hbogo is a little soft. Overall, I recommend these cans.\n",
      "--------------------------------------------------------------------------------\n",
      "excellent\n",
      "--------------------------------------------------------------------------------\n",
      "It has built-in RAID backup. Easy to set up with my old Windows XP PC. I would buy it again.\n",
      "--------------------------------------------------------------------------------\n",
      "handy\n",
      "--------------------------------------------------------------------------------\n",
      "Works great with our Go-Pro\n",
      "--------------------------------------------------------------------------------\n",
      "I'd been looking for this cord for months.  It can be used to retie wire bundles in boats, cars, tractors and other environments.  If you know what you're doing, this cord is sometimes easier to install than tie wraps and a whole lot cheaper.  It leaves a smaller footprint than wire ties when volumes are limited.  An all around general purpose cord that is strong, durable, and reliable.\n",
      "--------------------------------------------------------------------------------\n",
      "Good Quality\n",
      "--------------------------------------------------------------------------------\n",
      "Great product at a great price........ Definitely as good as Olympus hood, for sure...... Can't go wrong with JJC hoods....\n",
      "--------------------------------------------------------------------------------\n",
      "This board is well made and dual function...  easy to clean...  perfect for what I wanted/expected.\n",
      "\n",
      "One thing I can't stand about lots of reviews on Amazon...  when someone buys something with the size listed and they ding the product for being \"too small\" or \"too big\" or \"not the right size.\"\n",
      "\n",
      "That's your fault for not choosing the right size or taking the time to measure.  You can't justifiably knock a product when the size (or other aspects of the product) is clearly listed - and consistent with that listing.\n",
      "--------------------------------------------------------------------------------\n",
      "Plugged it in, it worked perfectly, and it keeps working.\n",
      "The price was reasonable.  One can't ask for much more.\n",
      "--------------------------------------------------------------------------------\n",
      "definitely quiet fans\n",
      "--------------------------------------------------------------------------------\n",
      "Work great with my Nexus 5X and Dell Venue 7. Work great with ES File Explorer.\n",
      "I recommend.\n",
      "--------------------------------------------------------------------------------\n",
      "I have a new GoPro Hero 5 in a protective case that has a 52mm protective lens, so for this price, you can't beat this filter set. You can stack them. I am going to be playing around with all the filters, if these hold up I will buy this brand for my Canon also. The hood will fit my Gopro but you can see the black edges in pictures - bummer. The Protective Case and lens cap are bonuses plus the micro fiber towel - very happy with this purchase.\n",
      "--------------------------------------------------------------------------------\n",
      "I needed a cover for my Nextbook and my daughter was kind enough to purchase it for me for Christmas.\n",
      "It is just beautiful, very sturdy. It arrived super fast. It fit perfect. I am able to use the camera and it works great, front and back. The stylus works. Everything is allocated correctly. No strong odor as some complained. I will get another one, just to change it a bit in a different color. This is a must buy. Get it, you won't be sorry.\n",
      "Happy Holidays!!!!!\n",
      "--------------------------------------------------------------------------------\n",
      "Sony sets the perfect example , if the analog set is really on its way out in a few years due to the NTSC signals being switched over to HDTV,on how to show off analog signals in a big way (going out with a big bang)! This has got to be the step right before leaping into the purchase of a digital (HDTV) Trinitron Wega !\n",
      " I have had my share of various brands of 25\" to 27\" color t.v.s over the years(from Zenith to RCA to JVC) and this Sony Wega is an incredible investment and far surpasses the other competition;there is no competition. Yes, while many say that these tvs are pricey, you do get what you pay for. Skin or human flesh tones are very natural which many other competitive manufacturers can never seem to get right or overlook when designing their models. The other manufacturers' sets recreate awesome vivid colors with non-human images, yet the failure shows when trying to display natural skin tones ( and it does not matter how much you try to adjust the hue or tint function). The most obvious visual trait from this Sony Wega is the  sharply detailed and brightly colored overall appearance of objects, people, landscapes, and words in fine print that present what a Trinitron is all about. It is coupled with a respectably modest 2 stereo speaker internal cabinet set-up with some type of enhanced surround sound circuitry for a simple and non-bombastic aural theatrical experience when watching movies from various sources. Edges around people and objects remain distinct, sharp and almost 3 dimensional at times throughout the screen. Their is no \"fuzzying up\" or blurriness of words and objects around the edges of the screen unlike other sets that have a curvature of the glass to them. This flat design also permits for people to sit around in front of the set with an almost perfect 180 degree angle for clean viewing. You do not have to sit smack in the middle or in the viewing \"sweet spot\" to get the same clarity as someone already sitting in the middle. The tv cabinet itself is aesthetically and tastefully pleasing to the eye without having huge garish digital buttons on the front (rather slim minute oval ones on top). It is a heavy set.  I remember when people first heard of these flat screen Wegas they all ran to the local electronics retailer only to be disappointed that what was truly flat was the screen only and not the cabinet or chasis. This puppy weighs in nearly at almost 200 lbs. The ultimate test for this Sony is to use a dvd player with a component Monster cable hook up. I tried it and the images were vividly and immaculately reproduced. However, this even showed the shortcomings of some poorly compressed or transferred dvds filled with MPEG digital artifacts and major digital mosaic blockings.\n",
      "If those poor individuals turned down buying one of these sets due to the chasis cabinet not being physically flat like a plasma HDTV screen then they never found out what they truly missed or are missing. On the other hand I remember the price for one of these being almost close to double of what they go for now. How times have somewhat changed within the last few years...\n",
      "--------------------------------------------------------------------------------\n",
      "Good loud speaker and connects automatically once you connect it once\n",
      "--------------------------------------------------------------------------------\n",
      "This case is everything it promised to be.  It is everything I ever needed or wanted in a case, and I would recommend it highly. The color is exactly the way it looked on screen, the sleep magnets work every time and so my battery lasts for days, it's extremely comfortable to hold, it protects my iPad Mini very well on both the front AND the back, it's lightweight, it holds the iPad tightly in place without the corners covering the screen, the grooves are deep enough and have a non traction type of feel so that the iPad doesn't ever slip when it's propped upright, this thing won't ever slip out of your hands (because of the interior and exterior), the exterior is soft but I throw mine around everywhere and have no nicks.  When I first got it, it was a bit tough to pop the iPad in and out of the case the very first couple of times.  But it was like a pair of shoes...you break it in, and now it's no problem at all.\n"
     ]
    }
   ],
   "source": [
    "# Let's see some of the review texts for rating 5 in the training data.\n",
    "rating_texts = [train_df['review_text'][i] for i in range(0, len(train_df)) if train_df['rating'][i]==5]\n",
    "rating_texts = random.sample(rating_texts, 20)\n",
    "print('-' * 105)\n",
    "print('-' * 105)\n",
    "print('------------------ Here are some of the review texts for rating 5 in the training data ------------------')\n",
    "print('-' * 105)\n",
    "print('-' * 105)\n",
    "print('')\n",
    "for txt in rating_texts:\n",
    "    print('-' * 80)\n",
    "    print(txt)"
   ]
  },
  {
   "cell_type": "markdown",
   "metadata": {
    "id": "_5JQXxTvp5Q-"
   },
   "source": [
    "We do the same thing for the evaluation data."
   ]
  },
  {
   "cell_type": "code",
   "execution_count": null,
   "metadata": {
    "colab": {
     "base_uri": "https://localhost:8080/"
    },
    "executionInfo": {
     "elapsed": 10685,
     "status": "ok",
     "timestamp": 1608880324619,
     "user": {
      "displayName": "Jun Hee Kim",
      "photoUrl": "",
      "userId": "13687154323298337983"
     },
     "user_tz": -540
    },
    "id": "deZkjev4rqb7",
    "outputId": "b949d9ee-7f6a-412e-b367-f0a27c8529d6"
   },
   "outputs": [
    {
     "name": "stdout",
     "output_type": "stream",
     "text": [
      "eval_df number of rows, number of columns: (229995, 2)\n",
      "number of evaluation datapoints for each rating: Counter({1: 45999, 2: 45999, 3: 45999, 4: 45999, 5: 45999})\n"
     ]
    }
   ],
   "source": [
    "eval_rating1_df = pd.read_pickle('/content/drive/My Drive/Amazon Review Text Language Modeling/eval_rating1.pkl')\n",
    "eval_rating2_df = pd.read_pickle('/content/drive/My Drive/Amazon Review Text Language Modeling/eval_rating2.pkl')\n",
    "eval_rating3_df = pd.read_pickle('/content/drive/My Drive/Amazon Review Text Language Modeling/eval_rating3.pkl')\n",
    "eval_rating4_df = pd.read_pickle('/content/drive/My Drive/Amazon Review Text Language Modeling/eval_rating4.pkl')\n",
    "eval_rating5_df = pd.read_pickle('/content/drive/My Drive/Amazon Review Text Language Modeling/eval_rating5.pkl')\n",
    "\n",
    "eval_df =  pd.concat([eval_rating1_df, eval_rating2_df, eval_rating3_df, eval_rating4_df, eval_rating5_df], ignore_index=True, sort=False)\n",
    "print('eval_df number of rows, number of columns: {}'.format(eval_df.shape))\n",
    "print('number of evaluation datapoints for each rating: {}'.format(Counter(eval_df['rating'])))"
   ]
  },
  {
   "cell_type": "code",
   "execution_count": null,
   "metadata": {
    "colab": {
     "base_uri": "https://localhost:8080/"
    },
    "executionInfo": {
     "elapsed": 2082,
     "status": "ok",
     "timestamp": 1608880328333,
     "user": {
      "displayName": "Jun Hee Kim",
      "photoUrl": "",
      "userId": "13687154323298337983"
     },
     "user_tz": -540
    },
    "id": "KNpgGT4GqBMV",
    "outputId": "82dacf45-9708-4aa6-e0ef-6e903924cd11"
   },
   "outputs": [
    {
     "name": "stdout",
     "output_type": "stream",
     "text": [
      "-----------------------------------------------------------------------------------------------------------\n",
      "-----------------------------------------------------------------------------------------------------------\n",
      "------------------ Here are some of the review texts for rating 1 in the evaluation data ------------------\n",
      "-----------------------------------------------------------------------------------------------------------\n",
      "-----------------------------------------------------------------------------------------------------------\n",
      "\n",
      "--------------------------------------------------------------------------------\n",
      "I loved the price, I loved the feel of the leather.  I had a Speck case for my iPhone 4 - loved it!  This case is a big NO WAY!\n",
      "\n",
      "No problems going on.  Went on easier than the Google Nexus 7 (2013) case.  The problem is getting it off.  When I tried to pop the case off, the case would not let go of the back of my Nexus.  If you look at the Nexus 7 (2013) you will notice the edge is beveled with the glass sitting on top.  The Speck case grabs the beveled edge so when you try and pop the case off, you pop your Nexus apart.  I saw this happening and stopped immediately.  I called Speck Customer Support and they referred me to a video on Youtube for the proper removal of the case.  I was already following the steps in the video and it was popping the glass.  I finally figured out if you apply a lot of pressure to the camera lens on the back, you can pop out one corner and get the case off.\n",
      "\n",
      "Whoa!  Won't put this case on again!  Imagine doing this in a Best Buy!  That would be funny!  Needless to say, I am returning the case!  Maybe Speck makes a case for an iPad 4.  I could buy one and pop the shattered screen off of my iPad and not have to pay someone $150.00.  Just a thought!\n",
      "--------------------------------------------------------------------------------\n",
      "Mine lasted less than 5 minutes and is being returned. I have no idea how good or bad the video quality is, nor do I know if the audio is any good - if it worked beyond the first photo and the meagre 12 seconds of video it could store on internal memory I might have some input, but it didn't. That's rather a shame, because I think I got quite a nice video of my 3-year-old jumping into the pool. It is sadly lost to the fact this thing won't turn on again despite repeated efforts, recharge and so forth. This has rather cemented my belief that if you want anything to take pictures which actually works you'd better buy a Canon or a Panasonic etc - Kodak had their day and now they sell shiny junk on the back of the name they developed (sic) in the days of film. Bye bye Kodak RIP...\n",
      "--------------------------------------------------------------------------------\n",
      "This is my 2nd attempt at synology..\n",
      "The user interface is extensive - not necessarily very friendly.\n",
      "For what ever reason, this thing goes off line randomly and for an NAS, thats bad.\n",
      "Planning to return it. I feel bad, returning a product but this just does not work well!\n",
      "I bought a western digital my cloud today. Set up was much easier. Interface is much faster.\n",
      "I will report on that on its review page..\n",
      "\n",
      "But comparing the two.. for example, if you want to set up email notification in case NAS is down..\n",
      "For Synology - you need to give it the server details.. not just the gmail address! One of the subset menus asks for the user name and password of my gmail account.. this makes no sense! Why should synology want that info?\n",
      "\n",
      "For example, i set up the western union today - it simply asked me for my email and that's it. It worked just fine!\n",
      "\n",
      "I realize synology is a big seller - even I bought it, because it is such a big seller.. but with this 2nd experience - and 2nd return - I am never going to buy another synology product again.. It was a waste of my time and it has too many quirks! I feel bad returning it but it is no good!\n",
      "--------------------------------------------------------------------------------\n",
      "These cables were early usable by me. My motherboard sata sockets are the standard layout that you get with pretty much all motherboards, and when I tried to use 2 of these cables, the 2 connectors were so thick that they hit each other and barely fit after basically being forced into their sockets. I wasn't happy with this at all, so I am not using them.\n",
      "\n",
      "I bought some different black ones from the same brand that were made properly and I had no problem installing them.\n",
      "--------------------------------------------------------------------------------\n",
      "I have a Mitsubishi Diamond Plus 200, 21\" CRT. I needed to get farther away from my monitor. I bought this cable, because Cables To Go is supposed to be a good brand name. I bought UXGA because I run at least 1024x768 and higher at 75-100 hertz. This cable would not take the load over the distance of 15'. My monitor's colors ended up being a bluish tint and if I tried to go over 1024x768 it got much worse. My monitor was dim and ugly looking and adjustments didn't help. I put it back the way it was and it's great once again. I have a new system and a very good video card, so I know it's this junk cable. Maybe on a small 15\" - 17\" CRT it might work or maybe on a small LCD, but it's junk when it comes to my 21\" CRT. Maybe someone who doesn't know about Monitors and never really looks at the screen would think it's great, but for a photographer, it's a junk cable.\n",
      "\n",
      "I threw it out instead of dealing with returns......\n",
      "--------------------------------------------------------------------------------\n",
      "Well, the burner seems to work OK.  But the lightscribe has two problems.  First, no-one makes lightscribe blu-ray disks.  So you can only use this feature for CDs or DVDs.  Secondly, the lightscribe function rarely works.  I found that I could write to DVD blanks only if I had not previously burned the DVD content.  SO I successfully burned 2 out of 3 Memorex DVDs.  But the drive would not recognize any of my Memorex CDs.  I've had good results in the past from LG products but not this one.\n",
      "--------------------------------------------------------------------------------\n",
      "Crap disconnects frequently\n",
      "--------------------------------------------------------------------------------\n",
      "Ok as an extension cord, useless as USB charger.  Worked initially, but slow. It took a while to catch on why my phones were not charging. This unit is extremely slow and its function has deteriorated. It has a switch on the side, but no LED indicator if or when it is actually on.\n",
      "\n",
      "Unfortunately, I missed the return date by a few days and am stuck with this unusable piece of equipment.\n",
      "--------------------------------------------------------------------------------\n",
      "this WAS the best microphone i had ever bought until the third time i used it. i hadnt even touched it for like a week and i tried to use it and it didn't work at all. i was going to record my own sound fx for some videos i was making but it didn't work. DONT BUY THIS!\n",
      "--------------------------------------------------------------------------------\n",
      "Did not work. Returned\n",
      "--------------------------------------------------------------------------------\n",
      "This does NOT work with the Ultimate Home remotes/hubs !  Had to return it.  What a weird choice for Logitech to make not having those work together.  Shame.\n",
      "--------------------------------------------------------------------------------\n",
      "Purchased this product for a Mac book pro and mac mini server.  Neither machine will boot with the memory installed.  Komputerbay must have changed something with the ram in the last few months to make it not compatible with Macs.  So to get the Mac compatible memory you need to buy their $10 more expensive set.  Needless to say it is time and money wasted.\n",
      "--------------------------------------------------------------------------------\n",
      "While the original UPS battery lasted more than three years, this replacement lasted less than four months. The UPS was run at less than 20 percent capacity and handled only one blackout. Also, it seems that APC no longer includes a free UPS shipping label for returning old batteries, though there is an option for dropping off at a local Staples store.\n",
      "--------------------------------------------------------------------------------\n",
      "These headphones paired easily and the sound quality is decent.. But the build quality is subpar!! Cheap plastic that quickly broke.. My use was around the house cleaning and using the treadmill.. Had them less than a month.. Definitely got what I paid for! SAVE YOU MONEY.. Seek headphones elsewhere.\n",
      "--------------------------------------------------------------------------------\n",
      "I was very disappointed with the performance and construction of this amplifier. From the construction standpoint, they could not have made this unit any cheaper. The plastic case is crap and you can just tell that it will not stand up to the elements here in New England. Second, the performance was very unimpressive, for the price of the unit. I did a side-by-side comparison between this amp and the little amp that comes in the RCA ANT 702F kit. Using the signal strength meter built-in to the TV, the RCA amp consistently provided readings 5 to 10 points higher than this amp. A much better and less expensive choice is the RCA TVPRAMP1R amp. While its not perfect, it performs better and is more solidly constructed.\n",
      "--------------------------------------------------------------------------------\n",
      "Issue #1: This hood will not protect any lens to which it is attached. It is approximately the weight and stiffness of a heavy rubber band. If you're in the habit of letting your lens hood touch things, for instance leaning your monopod-mounted camera in a corner, you're going to see a lot of distortion, which will not correct itself, requiring you to constantly fidget with the hood to get it round again.\n",
      "\n",
      "Issue #2: This is a very small diameter hood. I installed it on a 90mm lens for a Mamiya RB67, and there was vignetting, which was barely visible when the hood was round, but quite significant if the hood had brushed against something since the last time I \"re-rounded\" it.\n",
      "\n",
      "Recommendation: Stay clear of this hood.\n",
      "--------------------------------------------------------------------------------\n",
      "Requires cloud services at 5 dollars a month for recording up to a day. Great notifications. Delay in live image of a few seconds. Speaker is terrible and microphone is terrible. BEWARE of used purchases, old owner can still \"own\" the license of the device and will be able to SNOOP on you without you knowing, camera will not work for you because it is associated with someone elses account. Contact customer service and unplug immediately, customer service took a few days to re-purpose the camera for my account on a used purchase.\n",
      "\n",
      "Update (03/29/2017) - Camera died, will not power on. Contacting support is pointless and website is a ghost town, it looks like this company is going out of business. Stay away. Downgrading to 1 star.\n",
      "--------------------------------------------------------------------------------\n",
      "This combo has the M310 mouse. After 11 months of reliability, suddenly the mouse started double clicking on a single click.  Changing to new battery didn't help. Unplugging receiver didn't help. Removing battery,  leaving switch on and holding the buttons down to let the capacitors drain didn't work.  Changing mouse settings didn't help (why would one need to do this when they haven't changed since the mouse was purchased) .\n",
      "\n",
      "Since I use this computer for work, I can't make inadvertent mistakes, so I had to remove the mouse and use an old one.\n",
      "\n",
      "I don't like having to buy a new mouse after less than one year.  But since I need it to work with the universal receiver I have no choice but to buy another, reluctantly.\n",
      "\n",
      "My Toshiba wireless PA3844U-1EKG for my laptop is at least 5 years old and has never had a double click problem.\n",
      "--------------------------------------------------------------------------------\n",
      "Out of the box the menu was set to Chinese which was somewhat of a problem as we have no Chinese speakers here.  After a lot of button pushing we figured out how to reset it.  Go to the Gear button, then choose the A button then choose the top row which will send you to the language choices so you can pick one you can read.\n",
      "\n",
      "I ran the updates (August 22, 2012) and new software was installed.  This went smoothly. There was no access to Amazon or Skype.  The Premium service buttons were Youtube, Netflix, MLB Hulu plus, AP, Daily Motion, Hulu plus, Cinema Now, Vuvu, Google, Viewster, Twitter, Picassa, Aupeo, Facebook and Accuweather.\n",
      "\n",
      "The AP, Accuweather and Pandora are fairly useable and useful.  The rest will make you tear your hair out.  Netflix constantly froze, stuttered, and sometimes I had to yank the plug from the device to reset it.  As for using Twitter or Facebook, who wants to type stuff in using a remote?\n",
      "\n",
      "The menus load so slowly that it reminded me of using dial up internet. The buttons on the front are impossible to read.  The remote sometimes fails to work if you are more than 10 feet away.\n",
      "\n",
      "It does have a place to plug a USB drive into the front  (you pry off a plastic cap to find it) and I was able to look at photos and play music from a USB.  This is an interesting feature, although I am not sure how often I would use it.  It does make it easy to show photos to a large group.\n",
      "\n",
      "As a blu ray player it actually loads faster than my Sony and it played all the regular discs I gave it as well.  I did not have any problem with the blu ray discs skipping and the picture looks good.\n",
      "\n",
      "However, there are many more options out there that work much better.  I would stay away from this one.\n",
      "--------------------------------------------------------------------------------\n",
      "I purchased this to hold my TomTom and wow, was it cheap!  The suction cup would not hold on to my window.  The slide to adjust the TomTom interfered w the charging cord so was always lopsided.  Really was a piece of crap!\n"
     ]
    }
   ],
   "source": [
    "# Let's see some of the review texts for rating 1 in the evaluation data.\n",
    "rating_texts = [eval_df['review_text'][i] for i in range(0, len(eval_df)) if eval_df['rating'][i]==1]\n",
    "rating_texts = random.sample(rating_texts, 20)\n",
    "print('-' * 107)\n",
    "print('-' * 107)\n",
    "print('------------------ Here are some of the review texts for rating 1 in the evaluation data ------------------')\n",
    "print('-' * 107)\n",
    "print('-' * 107)\n",
    "print('')\n",
    "for txt in rating_texts:\n",
    "    print('-' * 80)\n",
    "    print(txt)"
   ]
  },
  {
   "cell_type": "code",
   "execution_count": null,
   "metadata": {
    "colab": {
     "base_uri": "https://localhost:8080/"
    },
    "executionInfo": {
     "elapsed": 2098,
     "status": "ok",
     "timestamp": 1608880334782,
     "user": {
      "displayName": "Jun Hee Kim",
      "photoUrl": "",
      "userId": "13687154323298337983"
     },
     "user_tz": -540
    },
    "id": "LOTkqo6tqBQ-",
    "outputId": "624e11a9-390b-43c0-974b-7d55f21a9f0b"
   },
   "outputs": [
    {
     "name": "stdout",
     "output_type": "stream",
     "text": [
      "-----------------------------------------------------------------------------------------------------------\n",
      "-----------------------------------------------------------------------------------------------------------\n",
      "------------------ Here are some of the review texts for rating 2 in the evaluation data ------------------\n",
      "-----------------------------------------------------------------------------------------------------------\n",
      "-----------------------------------------------------------------------------------------------------------\n",
      "\n",
      "--------------------------------------------------------------------------------\n",
      "As initially received, the transmitter signal was very weak.  However, I found instructions to adjust it for a stronger signal on youtube. The audio cable didn't last very long due to the insulation breaking and exposing the tiny wires.  I wish they would have beefed up the audio cable so that it wouldn't break so easily.\n",
      "--------------------------------------------------------------------------------\n",
      "This product is definitely a toy vs a tool. Although I use a tripod and a remote release it is still VERY hard to get a picture that is sharp and clear. The whole lens is wobbly. I wasn't expecting a Canon lens, but this is far below my basic expectations. It is stuck far back in the closet along with other junk I have bought over the years.\n",
      "--------------------------------------------------------------------------------\n",
      "Its ok... came quickly and feels nice. Only problem is that you can't pack it tightly enough so if you move the case or put in it another bag, when you open it, everything will be scattered around. Also, It came with a horrid smell. I don't know if it was the place it was kept or just the material but it smelled like someone had stored burn cigarettes in it for days. other than that I'm sure i can find some use of this case\n",
      "--------------------------------------------------------------------------------\n",
      "Amazon.com stated the battery life is up to 12.5 hours for this model and that was one of the main reasons I bought it. When I opened the box I saw \"8.0 hours\" battery life only (see pic). In effect, one reviewer has also posted a picture of the 8.0 hour battery information earlier so my own experience has confirmed the 12.5 hours of battery life is totally misleading.\n",
      "\n",
      "Worst yet, despite I set it on battery saver and 50% brightness, it has a battery life for about 3.5 hours for web browsing. That is to say it must be returned for a refund.\n",
      "\n",
      "On the bright side, it turns on very quickly and the touch screen is full HD and looks very nice. The aluminum cover is great but all the rest has the cheap plastic feeling. Not many laptops are white and this one stands out. For the very poor batt. life, it must be returned.\n",
      "--------------------------------------------------------------------------------\n",
      "clip is not holding, have to use loop for the belt.\n",
      "--------------------------------------------------------------------------------\n",
      "This unit should be sold pre assembled by manufacturer. it comes with a box full of small parts and needs a lot of assembly, not easy if you don't have the tools and time. Even though i used the level and it's mounted correctly, the tv wasn't in level when I hooked up. It needed further adjustments.\n",
      "So a lot of assembly and adjustments...parts are not made to precise measurements, making it hard on the assembly. But it worked in the end!!!\n",
      "--------------------------------------------------------------------------------\n",
      "I had high hopes for this alarm clock, but the projection is very dim, and after traveling a mere 7 feet to my ceiling, it is still pretty small. Also the projection is red which is not very pleasant. The clock chews up batteries if left unplugged about 24 hours with the projection on (but fine for the rare power outage). The alarms are too easy to turn on and off, it is just a light touch of a button. I prefer a lever so that you cannot accidentally turn on the alarm.  Clocks of this size and price should also allow you to set the date, and different timed alarms for different days of the week.\n",
      "\n",
      "The only things I like about the clock are the form factor, kinda modern, and the projection alignment options (but the projection is dim, and only red). I am keeping it as an office clock since in the bedroom it is of little added value.\n",
      "--------------------------------------------------------------------------------\n",
      "Works sometimes when it feels like working. I rarely use it but every time I need to use it this thing got a Ming of its own.\n",
      "--------------------------------------------------------------------------------\n",
      "Product has terrible wiring, failed twice, once where the wire enters the port that plugs into the computer (Bought a replacement piece), and once again where the wire enters the transformer box. When the first one failed it did so with a large burst of sparks (I hate to think what would have happened if I were not on hand when it shorted.) While this product does power my computer as specified, it does so unreliably, and is a fire hazard. THIS IS NOT A RELIABLE (OR SAFE) LONG TERM REPLACEMENT FOR A CHARGER..\n",
      "--------------------------------------------------------------------------------\n",
      "I sent it back because it did not have any clearer tone than my present radio.\n",
      "--------------------------------------------------------------------------------\n",
      "I was happy with it at first for basic applications, but many action games are simply unplayable even with Gsync enabled and messing with settings for a few hours.\n",
      "\n",
      "I was unable to get the monitor to run 120Hz as advertised. Limited to 100Hz with DisplayPort, 50Hz with HDMI.\n",
      "--------------------------------------------------------------------------------\n",
      "Doesn't pair every time my computer wakes from sleep. Odd delete home key configuration.\n",
      "--------------------------------------------------------------------------------\n",
      "For the price, the fearures this little speaker provides are quite impressive. Water resistance is decent, battery life is great, the included bike mount is nice to have, and the large buttons make usability easy.\n",
      "\n",
      "The major downside is the fact that this speaker doesn't sound very good at all. Bass is almost nonexistent and it begins to distort audio at about 40% volume, any lower and it is almost inaudible. I realize that this speaker isn't meant to blow minds with it's audio quality, but if someone is going to make a speaker, the first thing to consider is making sure it doesn't sound like garbage.\n",
      "--------------------------------------------------------------------------------\n",
      "absolutely felt like this was a waste of money. I have upgraded to the AUKey Ora and for widescreen it is the bomb, great material, great lens, and will have no need to play with this \"toy\" again. Its just junky to me.  I suppose some ppl may like it, not for me, way to pricey for the low quality. This is just my honest opinion. Ended up laying in my drawer not even getting used after playing around with it a couple times. Was total loss of interest in it.  I gave it a couple stars because it does \"function\" overall. Just not top quality by any means.\n",
      "--------------------------------------------------------------------------------\n",
      "The cover feels compact and good. The Samsung Note tablet fits in nicely. It has a rich look. I was disppointed that the keyboard had 2 issues:\n",
      "1. The right shift key is located in an odd position. When I wanted to type a capital letter, I invariable ended up hitting shift and up-arrow together, which selects all the text. The next letter I type replaces all the text with a single letter. very frustrating. Why do keyboard maker feel the need to come up with a \"radical\" layout. People use keyboard as a habit, just leave the keys in the typical qwerty style and people will use it.\n",
      "2. Some of the keys stopped working after a few days. really?? In 2013, is it really that difficult to make a keyboard that can work consistently?\n",
      "\n",
      "If you can get a more reliable and standard bluetooth keyboard that first the size, this case would be the best case for business use.\n",
      "--------------------------------------------------------------------------------\n",
      "Broken after 7 years. I expected it works almost for ever.\n",
      "\n",
      "It's just simple switch. But it is broken after 7 years.\n",
      "\n",
      "Power is on. But not Ethernet cable detection.\n",
      "\n",
      "7 year is enough for some people. But I would avoid and search for other maker.\n",
      "--------------------------------------------------------------------------------\n",
      "With\n",
      "\n",
      "1) a sensor battery life of only 6 months, compared to a Honeywell system of 3 years,\n",
      "2) No-one that wants to monitor the system.\n",
      "\n",
      "makes this system not very realistic for an alarm system.  Spend a little more money and buy a real system.\n",
      "--------------------------------------------------------------------------------\n",
      "I already own one of these, so I knew it was a pain to connect the XOOM to and was hopeless to use in the portrait position. But, it is an excellent over night charging stand.\n",
      "The packaging over packaging inside of packaging is incredible irresponsibility on the part of Amazon. I already bought the damned thing. There is no reason for the cost and waste of any packaging other than a bio-degradeable plastic bag and a box just large enough to ship it in. Amazon is supposed to be among the biggest and best at e-trade. They must lead, and force responsible action from their suppliers.\n",
      "--------------------------------------------------------------------------------\n",
      "Worked ok for a while but developed issues with selecting and staying locked on to the appropriate device.  Do not recommend this unit.\n",
      "--------------------------------------------------------------------------------\n",
      "It could be my house's wiring, but I had talked to someone else that had told me these things are generally binary - either they work well or not at all. In my house it has proved to be something in between. When I connect to speedtest.net over a wireless link to my router connected to a cable modem, I get around 10M download and .7M upload speeds. Using the power line adapters to get to the  router instead, I get <1M download speed and about .1M upload speed. I also get occasional \"outages\" where the browser reports there is no connection and then refresh works.\n",
      "\n",
      "Anyway, I have reason to suspect that my home wiring could be better; lights affected by something powering on that seems like it should be more isolated, a higher incidence of bulbs burning out in certain places, etc. Some people are really happy with these adapters and I think it is likely that they have them on better wiring. So if your wiring  has given you reason to suspect it has some issues, be forewarned.\n"
     ]
    }
   ],
   "source": [
    "# Let's see some of the review texts for rating 2 in the evaluation data.\n",
    "rating_texts = [eval_df['review_text'][i] for i in range(0, len(eval_df)) if eval_df['rating'][i]==2]\n",
    "rating_texts = random.sample(rating_texts, 20)\n",
    "print('-' * 107)\n",
    "print('-' * 107)\n",
    "print('------------------ Here are some of the review texts for rating 2 in the evaluation data ------------------')\n",
    "print('-' * 107)\n",
    "print('-' * 107)\n",
    "print('')\n",
    "for txt in rating_texts:\n",
    "    print('-' * 80)\n",
    "    print(txt)"
   ]
  },
  {
   "cell_type": "code",
   "execution_count": null,
   "metadata": {
    "colab": {
     "base_uri": "https://localhost:8080/"
    },
    "executionInfo": {
     "elapsed": 2066,
     "status": "ok",
     "timestamp": 1608880341125,
     "user": {
      "displayName": "Jun Hee Kim",
      "photoUrl": "",
      "userId": "13687154323298337983"
     },
     "user_tz": -540
    },
    "id": "ArSlvylaqBV_",
    "outputId": "eacd6e12-82af-422f-d58d-8728cd85f783"
   },
   "outputs": [
    {
     "name": "stdout",
     "output_type": "stream",
     "text": [
      "-----------------------------------------------------------------------------------------------------------\n",
      "-----------------------------------------------------------------------------------------------------------\n",
      "------------------ Here are some of the review texts for rating 3 in the evaluation data ------------------\n",
      "-----------------------------------------------------------------------------------------------------------\n",
      "-----------------------------------------------------------------------------------------------------------\n",
      "\n",
      "--------------------------------------------------------------------------------\n",
      "The nozzle of one of the six cans arrived broken and can't be fixed. The rest do what they're supposed to do. considering that I effectively got five instead of six, these aren't much cheaper than the other name-brand options.\n",
      "--------------------------------------------------------------------------------\n",
      "When I first hooked this unit up it had an alarm like a smoke detector. Ultimately I figured this out because I hadn't swapped my old hard rive from the previous one to the new one. Before I figured this out though I called tech support and they had no idea why it was beeping none stop and recommended maybe I should exchange it for another one. In the end it works well.\n",
      "--------------------------------------------------------------------------------\n",
      "Not enough\n",
      "--------------------------------------------------------------------------------\n",
      "Summary: device has 5 star potential but as of now I rate it 3 because of shoddy firmware quality (much worse than Tomato that it clearly originated from), disregard to security in firmware and form prevailing over function in physical design. Not recommended for business deployment. If firmware issues are fixed it deserves 4 out of 5 (there is no fixing form over function in physical design). It is unclear what a lot of settings affect and they are not described in PDF manual either.\n",
      "\n",
      "There is a great forum discussing this device here: [...] There is also alternative firmware that fixes some of the drawbacks of original Asus firmware (I switched to it almost immediately): [...]\n",
      "\n",
      "PLEASE NOTE: even though I use Merlin firmware none of my criticism is directed at him. I really appreciate everything he does. All the issues I mention are for Asus to fix.\n",
      "===\n",
      "My perspective:\n",
      "\n",
      "Coming from WRT54GL with original Tomato Firmware. Main criteria for me is stability - I never had to reboot WRT54GL after I got is setup the way I needed.\n",
      "\n",
      "After internet speed upgrade to 50/8 WRT54GL was too slow, so I purchased RT-N66U. My only wireless devices are cell phones and they work well but hardly push limits of wireless transfers, so I cannot comment on wireless speeds much. Also none of my devices support 5GHz so I just keep 5GHz radio off.\n",
      "\n",
      "After about a day or two after I got it I switched to Merlin firmware v. 3.0.0.4.270.26 which I have been running for 2 weeks.\n",
      "===\n",
      "\n",
      "Pros:\n",
      "\n",
      "Router has been stable so far. Never needed to reboot unless I was changing some settings that required reboot.\n",
      "\n",
      "Out of USB Applications I only tried FTP (for a limited time, don't intend to use it), Network share (USB flash drive connected to save bandwidth logs that is supported only in Merlin fw) and 3G/4G (works well with Clearwire Photon hotspot via Freedompop as internet backup). They seem to work as expected.\n",
      "\n",
      "I have no use for the rest of USB applications or any AiCloud features, so I never tried them - just left them disabled.\n",
      "\n",
      "=====\n",
      "Cons - physical design\n",
      "\n",
      "If calling this router \"Dark Knight\" wasn't ridiculous enough - did Asus really have to design it to look like one of the props from this movie??? How exactly is this a good thing? Is it supposed to be a conversation piece? The movie wasn't even that good :D\n",
      "\n",
      "No buttons in front - in WRT54GL I could use button in front to disable wireless easily, this is much less convenient with RT-N66U\n",
      "Form factor - can't stand on the side without a stand, can't put anything on top of it.\n",
      "Network port LED-s are not in the front. They also don't indicate link speed anymore which is really bad. Does someone at Asus like this horrid blue color so much? I think so because even power supply now has a blue LED on it.\n",
      "\n",
      "====\n",
      "Cons - firmware (again: all of this is directed at Asus, not at Merlin):\n",
      "\n",
      "With stock firmware new firmware was not detected - has 3.0.0.4.260 out out the box. On website 3.0.0.4.270 and 3.0.0.4.354 are now available\n",
      "\n",
      "[Everything below this point was tested on Merlin firmware v. 3.0.0.4.270.26 but it all applies to original Asus firmware as well. If something I mentioned about original Asus firmware is incorrect please let me know because I do not intend to switch back to it]\n",
      "\n",
      "A lot of UI is in broken English, to the point of being barely comprehensible. For example, \"Share without account\" means \"Allow anonymous FTP\" on FTP server configuration page. Also UI is inconsistent - on the same page FTP Server is called \"FTP Share\" and \"FTP Service\". On \"Port Forwarding\" page \"Famous Server list\" should really be called \"Popular Services\", Bittorrent is for some reason listed under \"Famous Game List\". I could probably make a dozen more examples but I haven't kept a list.\n",
      "\n",
      "Manually Assigned IP around the DHCP list (should be called \"Static DHCP\"): no hostname - hard to tell which one is which as opposed to original Tomato fw; limited to 32 entries (both issues fixed in Merlin fw)\n",
      "\n",
      "Under \"Wireless\" it is unclear what network is currently selected (ASUS or ASUS_5G)\n",
      "\n",
      "No monthly bandwidth stats, can't save stats to USB drive (both fixed in Merlin fw)\n",
      "\n",
      "\"Network Map\"/\"Clients\" - only hostname and IP are displayed, MAC address is not displayed (as opposed to Tomato)\n",
      "\n",
      "CPU/Memory usage/temperature is not shown on stock fw. (Merlin fw has Tools/Sysinfo)\n",
      "\n",
      "Wireless survey page is not present (as opposed to Tomato) - can't pick best channel and/or see signal strength for devices around you (Merlin is working on implementation).\n",
      "\n",
      "Daylight time savings implementation is incorrect (manual setting is available).\n",
      "\n",
      "[Prevents router use in business environment] Can't login to Web UI from more that one location at a time, can't kick out currently logged in user. I don't care what reasons Asus had for implementing it this way, it is just not acceptable. Detailed discussion here: [...]\n",
      "\n",
      "UI page switching is much slower via HTPPS (using FF 19) - when switching to another page menus on the left and on the top disappear for a couple seconds and then come back. Chrome 25.x is about as bad as FF. Less of a problem in IE 8.0. Original Tomato fw (polar cloud) on WRT54GL shows no difference when [...] is used vs [...] Note that initially RT-N66U didn't support UI via [...] at all, it was added later and implementation seems like something done just to stop users from complaining.\n",
      "\n",
      "[Security issue] WPA Pre-Shared key is displayed in clear text on Wireless/General tab - should be showing dots unless the field is in focus (this is how it already works on Network Map/System Status, so why not on this page?). Problem exists both for 2.4 and 5 GHz configuration pages. Same problem exists for Guest Network configuration.\n",
      "\n",
      "[Security issue] When Guest Network is enabled for the first time it is not protected by password - should have some kind of password by default, for instance derived from MAC.\n",
      "\n",
      "[Major Security issue] \"Logout\" doesn't really logout - I can logout, close tab, reopen UI in another tab (same browser instance) and will not be asked for a password. In original Tomato fw as soon as you logout login dialog comes up in the same tab and one MUST enter user name/pw to login again.\n",
      "\n",
      "[Security issue] FTP server allows anonymous access by default\n",
      "\n",
      "Can't change FTP port for built-in FTP Server\n",
      "\n",
      "Built-in FTP server only allows to browse/set security for folders in the root of USB connected flash drive. Can't navigate to subfolders.\n",
      "\n",
      "[Security issue] Password for PPTP VPN users is displayed in clear text after user is added - should only be displayed as clear text when user is created or edited\n",
      "\n",
      "Connected PPTP VPN clients are displayed on VPN Server/VPN Status but not on Network Map/Clients.\n",
      "\n",
      "Port forwarding items cannot be disabled if they are not needed at the moment (was possible with Tomato) - they must be removed and re-created again\n",
      "\n",
      "DDNS is useless because there is no way to verify if it is working (specify incorrect login credentials and there is no way to see that login fails)\n",
      "\n",
      "Password for DDNS is never displayed as clear text, even when the field is in focus\n",
      "\n",
      "PPTP VPN is slow - FTP in/out about 4x slower via VPN vs port forwarding when dedicated PC was used as FTP server. However, I don't know what I can expect from VPN implementation in a router in this price range, so it may not really be a con if CPU is just not fast enough.\n",
      "\n",
      "For a lot of settings there is no explanation at all on what they do. PDF Manual doesn't describe anything in details either.\n",
      "\n",
      "=====\n",
      "Conclusion\n",
      "\n",
      "The primary function of any router is... TO ROUTE NETWORK PACKETS!!! And this is what Asus should have concentrated on instead of implementing shiny toggle switches (old radio buttons would do) and all these cloud features (but of course, they want the constant monthly revenue stream for their use). Disregard of security issues is unacceptable. Passwords displayed in clear text??? Really??? And the worst thing is that all that was implemented correctly in Tomato which is where this firmware originated from.\n",
      "\n",
      "Asus should also hire native English speaker with good understanding of networking to go over all text messages in English UI. Add detailed explanation for router settings as mouse-over tooltips in firmware in and improve PDF manual - at this time all it does is lists all router settings with barely any (or no) explanation what they are for.\n",
      "--------------------------------------------------------------------------------\n",
      "Stopped working after 1.5 years. Pretty good for most cables these days.\n",
      "--------------------------------------------------------------------------------\n",
      "The item read SATA fine. Does not read Western Digital. So it was of now use to me. Returned the unit to Amazon.\n",
      "--------------------------------------------------------------------------------\n",
      "Works!\n",
      "--------------------------------------------------------------------------------\n",
      "The surge protector is useful if it's for a limited need, but if you have a number of entertainment needs, this will not work.  I'm not as confident in it as I am with the strip which is a bit pricier.\n",
      "--------------------------------------------------------------------------------\n",
      "I like the look and feel of these. The sound quality is very good. But 2 problems. 1. When outside in a breeze they seem to accentuate wind noise. Minor complaint. 2. One side broke today - loose wire inside. This was after about 50 usages where I carefully plugged/unplugged, coiled/uncoiled them. No abuse - I was careful. They seem sturdy but weren't for me.\n",
      "--------------------------------------------------------------------------------\n",
      "Burned out a few months after buying this for our camera since our USB cord for camera is falling apart. It just stopped registering and turning on eventually after so many usage.\n",
      "--------------------------------------------------------------------------------\n",
      "Small bag, no too much protection for your camera. I have Canon SX 260 that fits well. Handy when you talking about portability.\n",
      "--------------------------------------------------------------------------------\n",
      "First, the sound is GREAT!  Works great with my iTouch, but I bought it for my iPad. It would bot pair with it.\n",
      "--------------------------------------------------------------------------------\n",
      "So the reviews on here seem to be a mix of the 3 models listed.  This is the new gray clock.  It doesn't make normal alarm sounds.  It has 4 different tone beep things (like a goofy phone ringer). It's fine if you want these in addition to an alarm,  but it should still have a normal alarm sound.  My other issues are the display is too bright for me (there are 4 levels of brightness, but I would like it to be less bright) and the reason it is going back is that I like to listen to the radio when I fall asleep, but the lowest volume on this is way too loud for falling asleep to. I realize many of these are personal preference issues, but they are simple things that the clock should have.\n",
      "--------------------------------------------------------------------------------\n",
      "Does the job\n",
      "--------------------------------------------------------------------------------\n",
      "These cables look and feel great. Unfortunately within two weeks all of the clasps that hold the micro USB connector into your device failed. This is an issue I'm used to running into with Micro USB cables but these failed particularly fast.\n",
      "--------------------------------------------------------------------------------\n",
      "This little speaker puts out some good sound, and it's conveniently able to stick to any surface. My only gripe is, the only reason I bought this product was for its apparent long battery life (15 hours, as the company claims). I use my shower radio three to four times per week for about 20 minutes at a time. Typically by the end of the week, the speaker is omitting its 'low-battery' alert noise. Was hoping for more stability there...eventually I feel I will grow tired of having to recharge it so much, and I'll wind up buying one I can rely on.\n",
      "\n",
      "Just being honest.\n",
      "--------------------------------------------------------------------------------\n",
      "It arrived rather quickly, but it can barely play Sims 2... Too bad... I'll still use it, but it really bums me out that Sims 2 runs like a pile of dog stuff.\n",
      "--------------------------------------------------------------------------------\n",
      "Not as good as a Nikon made remote but if you lose it it doesn't hurt so much either! Right for the price.\n",
      "--------------------------------------------------------------------------------\n",
      "I'm sure the card would have worked well as the other reviews indicate. Unfortunately for me it was a bad fit for my motherboard and case.  Notice that since it's designed to be low-profile the heatsink is placed very close to where it will go into the PCI-E slot, and sticks out pretty far in the back.  This meant that once inserted into my motherboard the card's heatsink sat flush right over my southbridge heatsink, so that they were actually touching.  Also, since I have a small micro-ATX case with only one HDD-bay, the SATA cable from the hard drive, as well as the front USB/power/LED cables all needed to cross that exact spot where the two heatsinks were touching.  I was not comfortable having that much heat build right where all those important cables had to go, so I'll have to stick with the on-board video for now.\n",
      "--------------------------------------------------------------------------------\n",
      "Linux recognizes drives directly connected to this card.  It does not see the same drives through either known good port multiplier I tried.\n",
      "So you can add four SATA II devices to a pc with a spare PCI slot, but that's all.\n"
     ]
    }
   ],
   "source": [
    "# Let's see some of the review texts for rating 3 in the evaluation data.\n",
    "rating_texts = [eval_df['review_text'][i] for i in range(0, len(eval_df)) if eval_df['rating'][i]==3]\n",
    "rating_texts = random.sample(rating_texts, 20)\n",
    "print('-' * 107)\n",
    "print('-' * 107)\n",
    "print('------------------ Here are some of the review texts for rating 3 in the evaluation data ------------------')\n",
    "print('-' * 107)\n",
    "print('-' * 107)\n",
    "print('')\n",
    "for txt in rating_texts:\n",
    "    print('-' * 80)\n",
    "    print(txt)"
   ]
  },
  {
   "cell_type": "code",
   "execution_count": null,
   "metadata": {
    "colab": {
     "base_uri": "https://localhost:8080/"
    },
    "executionInfo": {
     "elapsed": 2059,
     "status": "ok",
     "timestamp": 1608880345993,
     "user": {
      "displayName": "Jun Hee Kim",
      "photoUrl": "",
      "userId": "13687154323298337983"
     },
     "user_tz": -540
    },
    "id": "S4bkpK3bqBbH",
    "outputId": "e088a509-50e8-4243-87eb-a2a20aa5710a"
   },
   "outputs": [
    {
     "name": "stdout",
     "output_type": "stream",
     "text": [
      "-----------------------------------------------------------------------------------------------------------\n",
      "-----------------------------------------------------------------------------------------------------------\n",
      "------------------ Here are some of the review texts for rating 4 in the evaluation data ------------------\n",
      "-----------------------------------------------------------------------------------------------------------\n",
      "-----------------------------------------------------------------------------------------------------------\n",
      "\n",
      "--------------------------------------------------------------------------------\n",
      "it works is about all i can say !\n",
      "--------------------------------------------------------------------------------\n",
      "I purchased this pocket video camcorder when my Flip camera died less than 6 months after purchase.  While I've only had it a short time, so far it seems like a good product.  The picture and sound are clear and it's easy to operate.  My only complaint (and my reason for 4 rather than 5 stars) is that there really is no zoom feature.  Yes, you can move the focus nearer and farther, but you can't really zoom.  For example, during my son's solo performance at a music recital I tried to zoom in to capture only his face.  I was within the first 10 rows and could not view any closer than him and 6 or 7 other people.  Otherwise, though, for the money, it's a nice little camcorder.\n",
      "--------------------------------------------------------------------------------\n",
      "Cheap but quite capable.\n",
      "--------------------------------------------------------------------------------\n",
      "I have had this product up and running for a little over a week and have only had one time where I had to reboot the router to get my Internet going again.  I have had this issue with other routers as well from time to time so I am not too worried.\n",
      "192.168.0.1 is the default ip addy and you will probably have to set your computer to a static ip within that range to connect. Setup was easy since I work in IT and on wireless devices on a daily basis. The instructions could be a little easier for someone who does not know much about a wireless router but the default settings would be fine. I will update this review after I have had more time with this device\n",
      "--------------------------------------------------------------------------------\n",
      "Good TV for the price. Picture is a solid, but nothing special.\n",
      "--------------------------------------------------------------------------------\n",
      "Function as espected.\n",
      "--------------------------------------------------------------------------------\n",
      "Product looks nice and keyboard works very well with out Samsung Tablet.\n",
      "--------------------------------------------------------------------------------\n",
      "Good mouse.....maybe a little jittery, but good.  I'd buy again.\n",
      "--------------------------------------------------------------------------------\n",
      "Fits\n",
      "--------------------------------------------------------------------------------\n",
      "This tether kept my etrex out of the way, yet handy when I wanted to refer to it, all the way to the top of Kilimanjaro. The velcro held it very securely even when scrambling up the Barranco Wall, and during the quick, jarring descent. As an added precaution against loss, I looped the etrex hand strap around the tether string, but it wasn't necessary since everything stayed secure, even when putting my pack on and taking it off. I also found the tether's shoulder strap velcro loops to be quite adequate for my large daypack.\n",
      "--------------------------------------------------------------------------------\n",
      "Needed to write a file system to an mSATA SSD before installing it in an embedded system board. This served its purpose, and will be kept around in case of later updates. I would have liked it a little better if it used a spring clip method to secure the mSATA SSD instead of using screws. A little cumbersome to get the tiny little screws in place, would be annoying if I were swapping out mSATA SSD drives on a regular basis.\n",
      "--------------------------------------------------------------------------------\n",
      "If anyone is out there look for a small form camcorder then this is an excellent device to get. I will be clear though that this little camera has a specific audience and place and may not be the right choice for everyone. The video quality is very good for VGA and audio is  surprisingly crisp, but this is not the type of camera you are going to bring out to your child's sporting event to film them. The Mino just simply does not have the zooming capabilities to do something like that.\n",
      "\n",
      "What it is useful for is the close quarters filming that often occurs with family members. Indoor events or something at a BBQ for example. The almost instant startup time makes it a must have for capturing those spontaneous moments in your life where people make fools of themselves or where you need to get something quickly.\n",
      "\n",
      "The plug and play functionality is nice, but if you are a Mac user as I am you will find the performance of the built in software to be sub-par compared to that of iPhoto or iMovie. The good news though is that on the Mac the Flip shows up as any other camera does. iPhoto automatically launches and will import your videos for you. From there you can one click launch them into iMovie for editing (and upload to youtube) or upload them to a Me account right from either iPhoto or iMovie.\n",
      "--------------------------------------------------------------------------------\n",
      "I have been using this adapter since a month. Yes it worth it. I have E mount lenses, still i love to have this adapter to play around with the Cannon/Sigma lens that are owned by my friends. I have been using this adapter with Cannon 50 mm f2.8. It works and brings out very good pictures. Though sigma recommend to use it for Sigma lenses, I use it with cannon lenses aswel. YES, it works with Cannon lenses. It may hunt for auto focus at times, still it is manageable. Suppose you are left with any other lenses apart from sony native E mount, this adapter is a life saver. You may have some glitch in focus while taking pictures. Out of 10 photos, it gives good result for about 8 pictures. 2 may lose due to focus\n",
      "Cons : Cannot play around with any other lenses (cannon) while taking videos.\n",
      "Still a worth gear. Especially for some one who switched from cannon DSLR. I believe Sigma will come up with more compatible lenses for this adapter\n",
      "--------------------------------------------------------------------------------\n",
      "It adds a little more grip when holding the camera. I attached it to the camera tripod socket. It has it's own socket in the base of the grip. You use a lever in the bottom of the grip to release part of it so that you can easily access the SD card slot and the battery. In order to release the access cover on the grip, I find it is a little slippery when you hold the latch release button to disconnect it. A fingernail under the edge of the grip helps to lift it off. Perhaps in later versions they can make a small portion on each side of the grip (near the latch lever) so that there is some friction to assist in lifting it off.\n",
      "--------------------------------------------------------------------------------\n",
      "Having only paid about $12 for this keyboard, I am pretty happy. I doubt I could have found much better for the same price. It works as a great keyboard, but the button feedback isn't great, and it doesn't feel great to type on for hours at a time. It is not a bad value, though\n",
      "--------------------------------------------------------------------------------\n",
      "Works well, loud and clear.  My only complaint is that I have to acknowledge a message every time I turn it on because I am not using the distress call/GPS feature.  It also does not power up on the last channel you were using, it always goes to channel 16.  That's understandable but inconvenient for me.\n",
      "--------------------------------------------------------------------------------\n",
      "Basic speakers. Better than I expected.\n",
      "--------------------------------------------------------------------------------\n",
      "I needed the rca functionality, so had to go with version 1.  I find it a little frustrating that it is nearly as expensive as some of the newer roku models, but I am happy they still sell a model that works with RCA compatability.  Overall though, I love the Roku apps and system and this system lives up to the roku name.\n",
      "--------------------------------------------------------------------------------\n",
      "I bought the Camileo B10 for it's ability to take still photos along with video. While I love my Flip Ultra HD, the lack of still photo capability is too limiting. While overall I am pleased with the B10 there are a couple cons which I think potential buyers should consider. First the B10 has a small LED video light built in. While the light is fairly dim, it's better than nothing for recording video in a dimly lit room. As for still photos however, this same LED takes the place of a flash and fails miserably. Next, the B10's shiny finish is somewhat slippery so hold on tight while filming.  Bottom line, if you want an all around compact device for \"both\" quality video and stills, look to the \"Dual Camera\"  Xacti line from Sanyo. On the other hand, the B10 is fine for outdoor use or in brightly lit situations.\n",
      "--------------------------------------------------------------------------------\n",
      "Overall, I'm very happy with this VCR.  My old one was on its last leg so almost anything would have been an improvement, but this Panasonic is one of the best I've owned over the years.  The picture and sound qualities are excellent.\n",
      "\n",
      "After reading reviews from Amazon customers, I was already aware of the overshooting problem when fast forwarding or rewinding, but I didn't realize how annoying it could be. Sometimes I'm in the mood to make a game of it to see if I can outwit the darn machine, but it usually wins, so  as games go, it's not that satisfying.\n",
      "\n",
      "I think it takes longer than normal to rewind a tape, but that might be my imagination since I haven't actually timed it.\n",
      "\n",
      "The clock sets itself and can be easily read from across the room.  I like this feature a lot.\n",
      "\n",
      "In summary, I'm docking the VCR one star because of the tricky fast forwarding and possibly slow rewind, but I haven't considered returning it. It's a sturdy, well made machine that records and plays movies even better than I expected.\n",
      "\n",
      "In spite of its little quirks, I have no problem recommending this machine to anyone who is looking for a quality stand alone VCR with a reasonable price tag.\n"
     ]
    }
   ],
   "source": [
    "# Let's see some of the review texts for rating 4 in the evaluation data.\n",
    "rating_texts = [eval_df['review_text'][i] for i in range(0, len(eval_df)) if eval_df['rating'][i]==4]\n",
    "rating_texts = random.sample(rating_texts, 20)\n",
    "print('-' * 107)\n",
    "print('-' * 107)\n",
    "print('------------------ Here are some of the review texts for rating 4 in the evaluation data ------------------')\n",
    "print('-' * 107)\n",
    "print('-' * 107)\n",
    "print('')\n",
    "for txt in rating_texts:\n",
    "    print('-' * 80)\n",
    "    print(txt)"
   ]
  },
  {
   "cell_type": "code",
   "execution_count": null,
   "metadata": {
    "colab": {
     "base_uri": "https://localhost:8080/"
    },
    "executionInfo": {
     "elapsed": 2029,
     "status": "ok",
     "timestamp": 1608880350211,
     "user": {
      "displayName": "Jun Hee Kim",
      "photoUrl": "",
      "userId": "13687154323298337983"
     },
     "user_tz": -540
    },
    "id": "sAo6aPy4qaRA",
    "outputId": "0861a0de-1486-4698-deb4-a8bab1b1cb38"
   },
   "outputs": [
    {
     "name": "stdout",
     "output_type": "stream",
     "text": [
      "-----------------------------------------------------------------------------------------------------------\n",
      "-----------------------------------------------------------------------------------------------------------\n",
      "------------------ Here are some of the review texts for rating 5 in the evaluation data ------------------\n",
      "-----------------------------------------------------------------------------------------------------------\n",
      "-----------------------------------------------------------------------------------------------------------\n",
      "\n",
      "--------------------------------------------------------------------------------\n",
      "I like this. Quality is very high. The supplier for this looks to be Taiwan company www.via-labs.com. My only wish is a soft pad on the bottom so the metal doesn't rub the surface.\n",
      "--------------------------------------------------------------------------------\n",
      "Product works great. I didn't see any value in buying an off brand to save a few dollars. Cable attaches easily and works great for focus stacking, ND filters and bracketing.\n",
      "--------------------------------------------------------------------------------\n",
      "Excellent product, price and shipping\n",
      "--------------------------------------------------------------------------------\n",
      "Overclocked to 2666mhz as soon as i installed them, 10 months later i haven't  had a single issue.\n",
      "--------------------------------------------------------------------------------\n",
      "Awesome - looks like apple case, but much cheaper and turns iPad on/off when opening/closing.  Sometimes it leaves a mark on the screen which is the only drawback.\n",
      "--------------------------------------------------------------------------------\n",
      "The 12000 mAh external battery back charger is a good blend between weight and capacity. It prismatic outside case makes it look unlike a battery charger and more like a case of some sort and many might find this more decorative than utilitarian as most batteries are.\n",
      "\n",
      "The packaging is solid and creates an impression of a quality built product. Included in the box are 2 adapters compatible with most phones, 2 USB to Micro USB cables, and travel pouch. There are no Apple cables included, but it's simple enough to use your existing ones to charge your phone or iPad.\n",
      "The unit itself has two USB output ports marked \"Smart\" one with one lightening bolt, the other with two bolts. The single bolt is 1 Amp, and the double volted one is 2.4 V. The 2.4V one will charge everything much faster than the standard charger that comes with your iPhone. So if you have been using your standard iPhone charger, you'll find that this will get you to 100% much quicker.\n",
      "Two devices can be charged at the same time, which is very convenient.\n",
      "As I type, I'm using the charger to \"juice up\" my iPhone 6, which is more convenient than bringing my phone to the charger and then not having it nearby when I need it. It's sitting next to me charging and available.\n",
      "The Prism also has an LED flashlight which is useful and a set of blue LED's to tell you the charge level of the battery.\n",
      "I was provided with a test unit in exchange for a fair and unbiased review.\n",
      "I have charged an iPad, iPhone 4, iPhone and a bluetooth speaker and the battery still has charge to spare.\n",
      "--------------------------------------------------------------------------------\n",
      "My thermaltake duet is one of the best investments I made. Most external drives its not the drive that goes out it is the hardware that powers it. take it out drop it in the thermaltake and you are back in business\n",
      "--------------------------------------------------------------------------------\n",
      "Reusable zip ties are freaking amazing.  Going in my bug out bag.\n",
      "--------------------------------------------------------------------------------\n",
      "Can be overly sensitive at times but is usb so the quality for audio is great no matter what computer you are using.\n",
      "--------------------------------------------------------------------------------\n",
      "I've needed a dual USB port wall charger for some time now as our devices multiply, so I ordered this one from NewTrent and received it in the mail in only 3 days.\n",
      "\n",
      "It came well packaged and in a new box.  It isn't very large; is black and has a retractable receptacle prongs that flip into the case and out of the way for storage or carrying.  When you plug it in there is a blue light that comes on to tell you that it has power.\n",
      "\n",
      "I plugged in both my iPad and iPhone in to the USB ports and they went in securely and there was no play or slop in the connections.  Then I plugged the whole charger into the wall outlet and it went in very securely without any play as well.\n",
      "\n",
      "It seemed to charge my devices more quickly than normal using the ones that came with my iDevices, but I didn't actually do a test to see.  My iPad seemed to run out of power more quickly than I'm used to, but that may be how I was using it that day.  It only seemed to be like that one one occasion however.\n",
      "\n",
      "The wall charger does get warm, like any wall charger does when you have two items plugged into it, but not unusually so.\n",
      "It is made of a good quality plastic that is flat black in color on the side, and a glossy plastic on the front.  It feels well made and not cheap, like some electronics I've purchased from other places.  I would recommend this for anyone needing to charge multiple usb devices.\n",
      "--------------------------------------------------------------------------------\n",
      "They are really nice headphones for cheap. They work just fine and I've been using them everyday for work\n",
      "--------------------------------------------------------------------------------\n",
      "Easy to run through walls, works great.  Not much more to say.  It's a Cat 6 network cable.  Maybe consider going to Cat 7 if you're installing in a wall?\n",
      "--------------------------------------------------------------------------------\n",
      "great!!\n",
      "--------------------------------------------------------------------------------\n",
      "I use a Macbook Air, and the memory is *terrible.*  My plan is to leave this card in all the time, and use it instead of my hard drive for pretty much all files.  It's already cleaned up my computer a lot.  This is a great price for this much memory.  I have always before used jump drives, but this sticks out less, and will take up less space when it fills up and I replace it.\n",
      "--------------------------------------------------------------------------------\n",
      "This phone to TV adapter works. Just plug in and use.\n",
      "--------------------------------------------------------------------------------\n",
      "I can't speak for the reviewers who had their zippers broken (lolz that sounds wrong), but mine has not and I am a programmer always on the go for school and work. I use this so much open and close....I have even dropped my case several times and no problems. It's fallen even in pouring rain and my hard disk is still intacted. It's almost as tough as Army stuff...not really, but I would have been able to take this to Iraq and know that it was safe and secure. At least from regular use. I would recommend this to anyone. If your zipper breaks, lolz, I would suggest you contact them and get a new one. Maybe I am just lucky.\n",
      "--------------------------------------------------------------------------------\n",
      "I love it, amazing price and decent quality of images. The 2 GB of built in memory are more than adequate for everyone's picture library. I have purchase several for myself and as a gift for others. The remote control is useful and you can add additonal images or video on the SD slot.\n",
      "--------------------------------------------------------------------------------\n",
      "This laptop has been very solid so far.  I have had many MSI motherboards and video cards, but this is the first laptop I have bought from them.  I have used it for movies and games, as well as the standard browsing and email.  I have tried several games so far: Far Cry 3, Elite: Dangerous, Kerbal Space Program, Left 4 Dead 2, Tomb Raider, and Wolfenstein: the New Order.  I can run all of these on max settings and very playable and high frame rates.  I'm impressed with MSI.  Great machine for the money.\n",
      "--------------------------------------------------------------------------------\n",
      "Using this with some Polk outdoor speakers and so far I am impressed with what this $200 receiver can do!\n",
      "\n",
      "PROS:\n",
      "- Phone app allows you to control power, volume, inputs and stations. This means if you connect the receiver to the same network as your phone, you can place it out of sight and use your phone as the remote control.\n",
      "- Plenty of inputs - I connected a computer, CD player, and Bluetooth adapter.\n",
      "- If you're a programmer you can control this thing with some simple XML api calls and build your own remote app or schedule it to turn on and off while you're away.\n",
      "- Screw-down speaker connectors (not springs) for a firm connection.\n",
      "- Was able to browse and play songs from a UPNP server on the network from the remote app.\n",
      "\n",
      "CONS:\n",
      "- No \"tape loop\" for an equalizer. (Yes, I know you can install an EQ inline, but that would only apply to one remote controlled input.)\n",
      "- No loudness control or tone adjustments beyond bass and treble.\n",
      "- The remote app is great once you find it, but Yamaha has too many apps! The one you want for this receiver is \"NP Controller\".\n",
      "- Once in the app, changing sources is obvious but volume is not. Tip: click the little arrow at the bottom to \"reveal\" the volume and power buttons.\n",
      "\n",
      "CONCLUSION:\n",
      "They really \"knocked it out of the park\" on features with this receiver. On sound quality, I have owned a Yamaha surround receiver in the past and been impressed with it, so I was willing to take a chance on this one despite lack of advanced tone controls or equalizer. However, after adjusting the bass/treble controls to my liking, it sounds decent and seems to be working well for outdoor speakers.\n",
      "--------------------------------------------------------------------------------\n",
      "Product was as expected, got here in a timely manner ( a day early).  Does the job.\n",
      "\n",
      "Only con, it covers the buttons, so you must be fairly familiar with the Mp3 player\n"
     ]
    }
   ],
   "source": [
    "# Let's see some of the review texts for rating 5 in the evaluation data.\n",
    "rating_texts = [eval_df['review_text'][i] for i in range(0, len(eval_df)) if eval_df['rating'][i]==5]\n",
    "rating_texts = random.sample(rating_texts, 20)\n",
    "print('-' * 107)\n",
    "print('-' * 107)\n",
    "print('------------------ Here are some of the review texts for rating 5 in the evaluation data ------------------')\n",
    "print('-' * 107)\n",
    "print('-' * 107)\n",
    "print('')\n",
    "for txt in rating_texts:\n",
    "    print('-' * 80)\n",
    "    print(txt)"
   ]
  },
  {
   "cell_type": "markdown",
   "metadata": {
    "id": "wqaVKwxkqhJR"
   },
   "source": [
    "We do the same thing for the test data (texts generated via GPT2, unlike the training and evaluation data which are real-world texts)."
   ]
  },
  {
   "cell_type": "code",
   "execution_count": null,
   "metadata": {
    "colab": {
     "base_uri": "https://localhost:8080/"
    },
    "executionInfo": {
     "elapsed": 7444,
     "status": "ok",
     "timestamp": 1608880361641,
     "user": {
      "displayName": "Jun Hee Kim",
      "photoUrl": "",
      "userId": "13687154323298337983"
     },
     "user_tz": -540
    },
    "id": "8lZh3rRWhWeu",
    "outputId": "db0ff2e1-23d1-4527-cb85-0c058c44c0a4"
   },
   "outputs": [
    {
     "name": "stdout",
     "output_type": "stream",
     "text": [
      "test_df number of rows, number of columns: (142639, 2)\n",
      "number of test datapoints for each rating: Counter({1: 28942, 3: 28881, 2: 28866, 4: 28162, 5: 27788})\n"
     ]
    }
   ],
   "source": [
    "generated_texts_rating1_df = pd.read_pickle('/content/drive/My Drive/Amazon Review Text Language Modeling/all_created_texts_rating1_df.pkl')\n",
    "generated_texts_rating2_df = pd.read_pickle('/content/drive/My Drive/Amazon Review Text Language Modeling/all_created_texts_rating2_df.pkl')\n",
    "generated_texts_rating3_df = pd.read_pickle('/content/drive/My Drive/Amazon Review Text Language Modeling/all_created_texts_rating3_df.pkl')\n",
    "generated_texts_rating4_df = pd.read_pickle('/content/drive/My Drive/Amazon Review Text Language Modeling/all_created_texts_rating4_df.pkl')\n",
    "generated_texts_rating5_df = pd.read_pickle('/content/drive/My Drive/Amazon Review Text Language Modeling/all_created_texts_rating5_df.pkl')\n",
    "\n",
    "test_df =  pd.concat([generated_texts_rating1_df, generated_texts_rating2_df, generated_texts_rating3_df, generated_texts_rating4_df, generated_texts_rating5_df], ignore_index=True, sort=False)\n",
    "print('test_df number of rows, number of columns: {}'.format(test_df.shape))\n",
    "print('number of test datapoints for each rating: {}'.format(Counter(test_df['rating'])))"
   ]
  },
  {
   "cell_type": "code",
   "execution_count": null,
   "metadata": {
    "colab": {
     "base_uri": "https://localhost:8080/"
    },
    "executionInfo": {
     "elapsed": 1564,
     "status": "ok",
     "timestamp": 1608880365992,
     "user": {
      "displayName": "Jun Hee Kim",
      "photoUrl": "",
      "userId": "13687154323298337983"
     },
     "user_tz": -540
    },
    "id": "oOru_-70qkaU",
    "outputId": "23961efc-8591-4100-cee8-7afadfddc71a"
   },
   "outputs": [
    {
     "name": "stdout",
     "output_type": "stream",
     "text": [
      "-------------------------------------------------------------------------------------------------------------------------\n",
      "-------------------------------------------------------------------------------------------------------------------------\n",
      "------------------ Here are some of the review texts (generated by GPT2) for rating 1 in the test data ------------------\n",
      "-------------------------------------------------------------------------------------------------------------------------\n",
      "-------------------------------------------------------------------------------------------------------------------------\n",
      "\n",
      "--------------------------------------------------------------------------------\n",
      ", 2nd set of batteries (2nd set of batteries for both) failed in 1 month.\n",
      "--------------------------------------------------------------------------------\n",
      ", did not work with our laptop, I bought this to replace a similar laptop that was working fine for a while and no longer has issues.\n",
      "--------------------------------------------------------------------------------\n",
      "The product I received was defective. It would not connect to the device. It also seemed that if I powered the unit on with one hand and the other on the other, it would connect but would not charge. I've since returned it for a refund.\n",
      "--------------------------------------------------------------------------------\n",
      "of the three that I had,  The sound quality was excellent, however, the sound from these earbuds came out of the ear canal which is quite annoying.  The earbuds also did not have much bass.  I did not like the sound quality at all and went back to my Sennheiser headphones.  The sound quality from these earbuds was good and I did like them.\n",
      "--------------------------------------------------------------------------------\n",
      ", that's all you get for a bargain. Don't bother to pay extra. The power plug was defective, that is what happened. And I was very disappointed in the product that I received. I did not want to wait for my computer to die, it just wouldn't make it through the power plug in the first place. I would not trust this product again. I am very disappointed.\n",
      "--------------------------------------------------------------------------------\n",
      ". I have had two of these (both from the same manufacturer) fail and be returned.\n",
      "--------------------------------------------------------------------------------\n",
      "/5 star,\n",
      "--------------------------------------------------------------------------------\n",
      "in a nutshell, the unit did not last very long, and the sound quality degraded over time.\n",
      "--------------------------------------------------------------------------------\n",
      "the remote works great but my 3rd Gen of the same unit.  The buttons are not really responsive at all on this remote and the volume is lower than the Sony MDR.  On my LG T430, the button would sometimes press to change the volume but would not change the volume control.  The battery would keep charging up when the unit was turned off.  The volume is very good in the remote and works as well in the remote as in the MDR.  The Sony MDR also has a built in mic so it can be used at the gym and the volume control is better in that it is connected to the phone like the Sony does.  I am very disappointed in this product and I am looking to return it.  I think the best way to describe it is that the remote is so hard to set up and that it has to be set up in such a way that you don't accidentally turn it on when you turn it on.  I like that the Sony has an app on its home screen that allows you to set the buttons to the right and left and it is easy to see where the buttons are.  Also, the app is small and very hard to use.  I tried it at home, on the treadmill and at home with 3 other devices.  It is really annoying and not usable.  There are several better apps and the one I'm using is one that works with 2 other devices that do not have that app on them so there is no excuse to force you to use the other devices for the remote.  If you have a Sony, do not buy this product.\n",
      "--------------------------------------------------------------------------------\n",
      "the first thing I noticed was the blue plastic part which looks nice and I have a Nikon K1 that it covers pretty well. It's made of solid plastic, but for something that cost just a few dollars more than this thing is worthless. I bought this thing to protect my Nikon K1 and it would break easily. And the reason why I'm giving it one star is because they didn't even offer me the option of replacing the lens or just to have a defective one. I bought this one at Costco and the quality was as bad as I'd gotten from a good lens. There is a short in the lens that will break the first time you touch it and the lens will get lost. I have to take out my camera to fix it and the lens is really flimsy and will break almost easily. The camera itself feels okay, and is a bit heavy for my hands, so I don't know if I'm going to use it on a regular basis, but I do plan on using it a few times a week when I travel.\n",
      "--------------------------------------------------------------------------------\n",
      "of the 2 pieces I received were defective, only one was actually the power supply part. The second one was a flimsy cable, with a broken connector. I ordered the replacement cable (which came with a power supply) and the first one did the same thing.  I'm extremely disappointed in this product and hope Amazon takes the time to send it back.\n",
      "--------------------------------------------------------------------------------\n",
      "It is not worth the money.  I don't know what they did to it.  It seems like the USB power cord is a very short one so I have to use a 2nd USB cable.  The cable was not long enough to fit into the power switch on my computer.  It would work fine for my home computer with a longer power supply.  I could only use it once in a year.  This is my first time buying something like this.  I don't recommend it.\n",
      "--------------------------------------------------------------------------------\n",
      ".  I've had this thing for three months.  It has been getting worse.  I've started using it once or twice a week and it is already losing connection.  I've gone through the instructions about how to restart it, how to change the password, how to turn off the power and get it to come back on.  There are three steps I've taken to get it to work.  1.  I've gone through the whole setup process again.  2.  You can set the password for the device, but I won't connect it to the Internet.  3.  When I try to use the device again, there is a \"device not available\" message.  I thought I was connecting to something, but it isn't.  I went through the trouble of going through the setup process again and the same thing.  It doesn't connect to the Internet and it won't turn on when I try to connect.  I'm not sure if there is an update, or I just got a lemon, but it's been a problem for a year.  I don't know if I'll just go with a different brand.  It is the exact same model and it has the exact same design.  I don't know if I will go with the new one.  The device is still great but it has all these problems.\n",
      "--------------------------------------------------------------------------------\n",
      "I was really looking forward to this case and I was looking forward to using it in my iPad Air as well.  The case started to wear out fast.  The right side of the case started to sag at the corners and crackle.  Then the right side of the case started to flop around all the time when the iPad is in the case.  I had to force it on to get it to work but it would only take about 30 seconds of force to get it to work.  I even tried to put the cover back on the case but only after I pulled it out of the case and inserted the case cover into the bottom of the iPad.  I was so disappointed with the quality that I returned it.\n",
      "--------------------------------------------------------------------------------\n",
      ".  The sound is just awful, not good at all.  I am a musician that likes to listen to books from a book and to listen to music on the fly but this is terrible.  The volume is so low it will drown out any music that comes on.  I would definitely NOT buy again.\n",
      "--------------------------------------------------------------------------------\n",
      "on the other hand I have had two different units that both failed to even power up on me, one of which just froze.  I was so pissed off, I tried to send the units back to Panasonic, but they did not want me to do so.  I was so pissed off, I ended up giving up on Panasonic and going with another brand, the Belkin, which lasted me a whole year.  I can't imagine this will ever happen again, even if I just don't have to worry about the problems they have with this particular unit.\n",
      "--------------------------------------------------------------------------------\n",
      "I would buy it if i could get it to work.\n",
      "--------------------------------------------------------------------------------\n",
      "the battery will not charge.\n",
      "--------------------------------------------------------------------------------\n",
      "The USB slot is very small, so it slides back onto the USB slot.  If you move the mouse, it slides down the USB port to the back, or you move it too hard and it slides back down the USB port to the back.  I've had three USB keyboards that don't slide down or get stuck in one position.  This would be fine if the unit had some sort of \"hard drive\" slot that would allow for that.  That way, it would be able to slide into a slot that's \"free\" in some way.  I did have issues when trying to plug the USB to the back of the USB keyboard to try and use this as a stand alone drive.  I don't even think I'm gonna use this thing any more.  It just slides into the slot I wanted to use, and falls out.  This may be a design flaw, but I've had it so far, it seems to work fine.  This will not work on the USB hub, and the mouse would not work.  If you do buy this for your mouse, be sure to put the usb to the back of the usb keyboard, or else it will not work.  If you put the USB to the back, it will slide to the right of the mouse, and will have to be pushed into the slot.\n",
      "--------------------------------------------------------------------------------\n",
      "on one of the outlets was not working at all. The other outlet was working perfectly with the same plug as the plug on the other outlet. So they should do the same thing in the other outlet.  The power supply is going into another outlet.\n"
     ]
    }
   ],
   "source": [
    "# Let's see some of the review texts for rating 1 in the test data.\n",
    "rating_texts = [test_df['generated_text'][i] for i in range(0, len(test_df)) if test_df['rating'][i]==1]\n",
    "rating_texts = random.sample(rating_texts, 20)\n",
    "print('-' * 121)\n",
    "print('-' * 121)\n",
    "print('------------------ Here are some of the review texts (generated by GPT2) for rating 1 in the test data ------------------')\n",
    "print('-' * 121)\n",
    "print('-' * 121)\n",
    "print('')\n",
    "for txt in rating_texts:\n",
    "    print('-' * 80)\n",
    "    print(txt)"
   ]
  },
  {
   "cell_type": "code",
   "execution_count": null,
   "metadata": {
    "colab": {
     "base_uri": "https://localhost:8080/"
    },
    "executionInfo": {
     "elapsed": 1655,
     "status": "ok",
     "timestamp": 1608880376245,
     "user": {
      "displayName": "Jun Hee Kim",
      "photoUrl": "",
      "userId": "13687154323298337983"
     },
     "user_tz": -540
    },
    "id": "j3qklwFtqkfu",
    "outputId": "d370f121-5e24-4389-8ef7-3717615fda1d"
   },
   "outputs": [
    {
     "name": "stdout",
     "output_type": "stream",
     "text": [
      "-------------------------------------------------------------------------------------------------------------------------\n",
      "-------------------------------------------------------------------------------------------------------------------------\n",
      "------------------ Here are some of the review texts (generated by GPT2) for rating 2 in the test data ------------------\n",
      "-------------------------------------------------------------------------------------------------------------------------\n",
      "-------------------------------------------------------------------------------------------------------------------------\n",
      "\n",
      "--------------------------------------------------------------------------------\n",
      "I got this for use with a computer monitor and I had high hopes for it. My first impression was that the product is solid and the material feels good. The keyboard is well built and very stylish. The key action is very responsive and it has nice features. However I was very disappointed in the product. The key action does not feel good at all. I used the keys with care and it took a long time for me to get used to the feel of the keys. It may not be a problem for someone else but it feels really cheap. I will say that for me this is not an ergonomic keyboard and the key action is not accurate. However the keyboard is very solid and the key action is very good.\n",
      "--------------------------------------------------------------------------------\n",
      "not an issue.\n",
      "--------------------------------------------------------------------------------\n",
      "I had my husband send this one back and ordered the one from Sony to replace it. I really wanted to like this item, but unfortunately it doesn't work very well.  I would not recommend purchasing this item.\n",
      "--------------------------------------------------------------------------------\n",
      "I've been trying to upgrade my Asus RT-AC66U's for about 6 months now (I did this in April 2015), and it's finally been working just fine.  I just went back to my old Asus RT-AC66U, which worked just fine after I bought it.  If this was the RT-AC66U's first upgrade (which it was), I'd go ahead and give it 4-stars.  After installing this new one, the router has a fairly slow internet connection.  Not bad for its price.  For the price, it's not bad.  If you are going to do that, it's great.  But you'll be going through it a few times before it finally stops working and you can't fix it.  If I had to guess, it might be the Asus.  I've decided to buy another Asus RT-AC66U and I'm much happier.  I have now upgraded to a new Asus RT-AC66U with no issues.\n",
      "--------------------------------------------------------------------------------\n",
      "The camera is extremely good at taking pictures. However, the video is very poor. The camera is very slow. The camera can take very sharp videos, but the video can be very grainy or choppy. I tried to upload photos to YouTube. I also tried playing with the settings and video settings. I gave the camera to my husband for Christmas. Unfortunately, the video quality was much poorer than before. It took several minutes and the video quality of the camera would be very choppy.  I'm afraid I will have to return the camera. I'll be replacing it with a Nikon camera and hope that the camera works better than this camera.\n",
      "--------------------------------------------------------------------------------\n",
      "<start_token>  I've only used this camera for a few days and it seems to be holding up really well.  Pros: 1. It is large and compact, with a nice wide angle lens 2. Very soft 2. It is easy to use on an Android or iOS device 3. Excellent color picture for a small camera  Cons: 1. Screen is flimsy and is quite small for a camera with a lot of screen space. The screen is not even close to level. 2. The battery life is short. It gets very hot when used on a regular basis. This is not a big deal, but if you are buying one for travel you are probably going to be disappointed.\n",
      "--------------------------------------------------------------------------------\n",
      "A lot of complaints about the \"toy\" sound quality and the inability to change the play/pause/play back modes. I had to buy a different model for the TV to make the two working at all.  The sound quality is good. The volume is acceptable.  But the play/pause/play back modes don't allow you to move the volume to the highest setting. There is no ability to pause, play back or play back a song to a new volume.  You have to press play back. The volume is the best way I can describe it. The sound quality of this unit is very, very poor. The only reason I gave it one star instead of two is because it was an inexpensive item at the time, but I am not going to buy another one of these.  I returned it, but the Amazon refund process was prompt.\n",
      "--------------------------------------------------------------------------------\n",
      "a big disappointment,\n",
      "--------------------------------------------------------------------------------\n",
      "this did not fit as expected. it wasn't that big. i got my work done with this one and was impressed with how good the picture was at night but my wife got hers for me and the picture was way to big and dark. i returned this and am keeping it for my husband and his wife.\n",
      "--------------------------------------------------------------------------------\n",
      "in the future I'll have to spend a few extra bucks to get the Bose ATH-M40x+ earbuds to work.\n",
      "--------------------------------------------------------------------------------\n",
      "<start_token>  When the power button stopped working after several months of owning this adapter, I assumed that it was just an intermittent connection problem.  Well, I've owned 4.3 units, all of which had very good reviews, so I was not going to waste any time trying to fix it.  After I got it on the market a few days ago, I was in the market for a power adapter that would work for almost everything.  This was my first purchase of a power adapter, and I'm not going to waste any more time trying to fix it.  I was disappointed that the adapter did not work.\n",
      "--------------------------------------------------------------------------------\n",
      "The headphones have a nice smooth and solid feel to them. I can't say anything about the sound quality. However, if you're just listening to music, then this is a decent option.  The only thing I really dislike is the wire. For some reason, I would think that since the wires were made of plastic, there would be no problem getting them to stay in. However, the wires themselves are actually a plastic ball joint that has a rubberized \"touch screen\" where it's a tight fit. The wires would eventually \"flip\" out.\n",
      "--------------------------------------------------------------------------------\n",
      ".  The unit worked fine for about three months.  The next day, the unit stopped working.  The computer kept telling me the battery was low and that the computer would not start or the power had been shut off.  I would restart the computer to get it to function and then nothing.  After I contacted Amazon, I got an email from Amazon support.  The response was they would replace it, but I have had this unit for about two months.  I guess if I had paid too much for it, I would have paid more than $200.  But this seems to be a big deal to me and I will now get another, refurbished unit.  I'm going to order a used one from Amazon.\n",
      "--------------------------------------------------------------------------------\n",
      ", this router is not stable. My router works ok for 6 months then the range starts dropping out. I'm going to have to return it.\n",
      "--------------------------------------------------------------------------------\n",
      "A lot of reviews on this device say it is very quiet, but the sound is way off, too. I tried to use it in different rooms, to get a clear clear sound, but the sound is so distorted and muffled that it makes it hard to hear. My husband took it to a Best Buy and he was unable to get better than a clear sound without the distortion.  I got a few other bluetooth devices that I have and these sound great. The quality is not bad, but it doesn't last long. I'm not too concerned about it being defective, but they sound so tinny when they do. It could have been better.\n",
      "--------------------------------------------------------------------------------\n",
      "to the contrary, my old Garmin GPS has the same performance, which is nice.  In short, it has a short lifespan and I was disappointed to discover that there were no GPS devices that worked when this was plugged in.  I suspect Garmin would have been better off making something with a built in power adapter that would actually allow me to actually use the GPS.\n",
      "--------------------------------------------------------------------------------\n",
      ", but with a case I just threw it away.\n",
      "--------------------------------------------------------------------------------\n",
      "\"This device is the first thing to go from your PC to a desktop/laptop, so I'll be returning it as well as the previous generation.\" I was so excited to try it, but, unfortunately, it was not working for my purpose.\n",
      "--------------------------------------------------------------------------------\n",
      "I would not recommend these.\n",
      "--------------------------------------------------------------------------------\n",
      "It is still working after only a few weeks use. I will be trying another brand.\n"
     ]
    }
   ],
   "source": [
    "# Let's see some of the review texts for rating 2 in the test data.\n",
    "rating_texts = [test_df['generated_text'][i] for i in range(0, len(test_df)) if test_df['rating'][i]==2]\n",
    "rating_texts = random.sample(rating_texts, 20)\n",
    "print('-' * 121)\n",
    "print('-' * 121)\n",
    "print('------------------ Here are some of the review texts (generated by GPT2) for rating 2 in the test data ------------------')\n",
    "print('-' * 121)\n",
    "print('-' * 121)\n",
    "print('')\n",
    "for txt in rating_texts:\n",
    "    print('-' * 80)\n",
    "    print(txt)"
   ]
  },
  {
   "cell_type": "code",
   "execution_count": null,
   "metadata": {
    "colab": {
     "base_uri": "https://localhost:8080/"
    },
    "executionInfo": {
     "elapsed": 1514,
     "status": "ok",
     "timestamp": 1608880381501,
     "user": {
      "displayName": "Jun Hee Kim",
      "photoUrl": "",
      "userId": "13687154323298337983"
     },
     "user_tz": -540
    },
    "id": "Ekgp_MXjqkkh",
    "outputId": "1b35c2ad-c56c-475a-adff-5285420f8e95"
   },
   "outputs": [
    {
     "name": "stdout",
     "output_type": "stream",
     "text": [
      "-------------------------------------------------------------------------------------------------------------------------\n",
      "-------------------------------------------------------------------------------------------------------------------------\n",
      "------------------ Here are some of the review texts (generated by GPT2) for rating 3 in the test data ------------------\n",
      "-------------------------------------------------------------------------------------------------------------------------\n",
      "-------------------------------------------------------------------------------------------------------------------------\n",
      "\n",
      "--------------------------------------------------------------------------------\n",
      "The remote is nice and the controls are fairly intuitive.  However the controls are limited to only the top left and right hand buttons which make using it tricky.  The remote is designed to only get a maximum of 30 commands (1 for both left and right).  In the case of the remote control, it would get the best of both worlds, the \"one click, one touch\" button and the \"two clicks, two clicks, one touch\" button.  The only good thing about this remote is that you can customize the functions and controls.  For example, if you want to change the number of days to a certain time you can do that by holding down the \"two clicks\" button while the \"one click\" button is in the upper right hand corner.  This remote is also designed to have the same button layout as the one on your keyboard, it's smaller but much easier to type in.  The only reason I gave it 3 stars is because if I had to do this over again, I would have gone for the \"one touch\" button and the two-click, one-touch\" buttons instead.  I wish the instructions were more clear about the features that I would be using when I'm using this remote.  Also, the buttons that are located in the top right hand corner are hard to press and often miss button clicks.  Another problem I've encountered is that if the number of taps is displayed, and the scroll wheel is not active, you are frequently forced to use a touch or two of the \"two clicks\" button to click the mouse.  I have to repeatedly hit the \"two clicks\" button to make it go back to the \"one click\" button.  Also, if you are scrolling on a web page, it sometimes forgets where the number is displayed.\n",
      "--------------------------------------------------------------------------------\n",
      "I have a Sony R/V receiver and it works great as a repeater and speaker. The problem is that my receiver has a \"smart switch\" which turns it off and on to reconnect the wireless signal. When you set it back on for some reason the remote will not work. When I use the \"smart\" switch the remote is off. I contacted Sony and they said they have nothing to do with it. They say that if you get a \"smart\" switch it will work fine as long as the receiver's battery isn't fully charged. I will buy another Sony and get one with a \"smart\" switch.\n",
      "--------------------------------------------------------------------------------\n",
      ". It feels like it's going to break. The cable is a good length. The volume rocker is not as easy to use and I'm still using it.\n",
      "--------------------------------------------------------------------------------\n",
      "I will be using this for a year or so, but am upgrading it to get the 2.0 firmware.\n",
      "--------------------------------------------------------------------------------\n",
      "I have a lot of video gear in my home theater and use this one on occasion.  I was able to use the included audio out to help me understand what a movie was, and I found it easy to use.  I found a lot of the details, though, which I didn't see often.  This one's \"lightweight\" has a soft plastic back and is well made.  It has a battery that lasts a long time.  The included remote allows you to control it remotely via a 3 button switch.  If you want to be able to set it to a specific movie (like the&nbsp;<a data-hook=\"product-link-linked\" class=\"a-link-normal\" href=\"/Moby-Robotics-5-Year-Recolored-Blu-ray-Movie-Movie-Recorder/dp/B007U2FWJ/ref=cm_cr_arp_d_rvw_txt?ie=UTF8\">Moby Robotics 5 Year Recolored Blu-ray Movie Movie Recording</a>&nbsp;), you may have problems.  The only thing that I can think of to do was to turn off the remote from the box.  If I do turn it on, the sound of it cuts in and out.  The audio in the picture is much clearer than I had expected.  So, in summary, this is a pretty good player.  It has an intuitive interface, but the video quality was not too impressive.  The video was grainy, and even the sound quality wasn't as good.  However, it does play my DVD files well.  I am using it mostly for streaming movies through my networked television.  I have been able to watch many of my DVDs via this player with no problems.  It also has a nice display for my laptop.  I found it easy to see my picture on the TV screen, and it would look good on my iPad.  However, I had a few things that I didn't like.  First of all, it is very heavy.  It can move easily with a small child.  It's only a foot wide, so it's hard to put a child's head over it.  Also, it doesn't play discs well.  It starts out with a low \"no disc\" warning, but as you go further, it starts to get worse and worse, until it is totally clear the player is not playin\n",
      "--------------------------------------------------------------------------------\n",
      "(I'm running 4 different models of these), and the problem seems to be getting better battery life. It took me over a week to find the best one, but then I found the one that's smaller and lighter. It's the right size and seems more durable. It also has a nice feature, that the battery \"forgets\" the charge/starts from the first time you plug it into the device. That's a nice touch, but unfortunately the battery is not really getting any more, and I've had two in the last few months, and one that's still working perfectly.\n",
      "--------------------------------------------------------------------------------\n",
      ": Not good for me.\n",
      "--------------------------------------------------------------------------------\n",
      "in the long run, I'll be replacing these, because they were cheaply made. However, the bass is really weak, and the bass on the M5 has very weak highs, compared to the M5's, and the M5's have slightly stronger bass.  Bottom Line: If you're looking for a cheap set of headphones with good sound, these are definitely better than what they have, but they just aren't worth the $40 I paid for them.\n",
      "--------------------------------------------------------------------------------\n",
      "/10\n",
      "--------------------------------------------------------------------------------\n",
      "the cable is too short for me, so i'm not able to carry it everywhere I go.\n",
      "--------------------------------------------------------------------------------\n",
      "and the fact that it only includes the power cord means that you get nothing to plug into it for charging.\n",
      "--------------------------------------------------------------------------------\n",
      "I like the idea, it does what it's supposed to do. But my first complaint is that it gets VERY hot and very uncomfortable. It is a good size to store my iPad on. I like the color of the case as well. I have tried different styluses and they do have a lot of resistance and get hot. I was able to get it to stay warm after a few hours of usage. It does take a while to turn the ipad off and back on. It does work as it should, though it seems like it would be a little more difficult to operate with the case on and off.\n",
      "--------------------------------------------------------------------------------\n",
      "to buy another one.\n",
      "--------------------------------------------------------------------------------\n",
      "to install it the first time. I went online to install the software and it was not compatible with the TV. I tried several different install sources and it would not install the first time. I was on my way to a different place and it will be a great upgrade.\n",
      "--------------------------------------------------------------------------------\n",
      "the case will protect your camera, however, it isn't an optimal case for all of us. It is the most secure in the line of sight, but the side seams are very thin so the camera slides around and can break easily. I also purchased a different case for my Sony a7s and that was just a little more robust.\n",
      "--------------------------------------------------------------------------------\n",
      "the sound was not as good as it's predecessor.\n",
      "--------------------------------------------------------------------------------\n",
      "with the 2.4ghz band I have, it's a much slower download speed than other Linksys routers I have. This means it has an awful amount of room to work. It has been about a month of constant download, then suddenly it starts to slow to 100MB/s. It is almost impossible to use, but I would say this is normal. It can take longer to upload images than the rest of my equipment, and it is not really fast enough for what I need it for. It does not have any other way of configuring and changing settings.  So, I'll be upgrading the firmware with the latest versions, so I can't really complain too much.\n",
      "--------------------------------------------------------------------------------\n",
      "I am returning it.\n",
      "--------------------------------------------------------------------------------\n",
      "the only problem was that the cover was too big to fit into the top of the tablet, which was really not a big deal for me.\n",
      "--------------------------------------------------------------------------------\n",
      "a bit small but still usable.\n"
     ]
    }
   ],
   "source": [
    "# Let's see some of the review texts for rating 3 in the test data.\n",
    "rating_texts = [test_df['generated_text'][i] for i in range(0, len(test_df)) if test_df['rating'][i]==3]\n",
    "rating_texts = random.sample(rating_texts, 20)\n",
    "print('-' * 121)\n",
    "print('-' * 121)\n",
    "print('------------------ Here are some of the review texts (generated by GPT2) for rating 3 in the test data ------------------')\n",
    "print('-' * 121)\n",
    "print('-' * 121)\n",
    "print('')\n",
    "for txt in rating_texts:\n",
    "    print('-' * 80)\n",
    "    print(txt)"
   ]
  },
  {
   "cell_type": "code",
   "execution_count": null,
   "metadata": {
    "colab": {
     "base_uri": "https://localhost:8080/"
    },
    "executionInfo": {
     "elapsed": 1605,
     "status": "ok",
     "timestamp": 1608880402650,
     "user": {
      "displayName": "Jun Hee Kim",
      "photoUrl": "",
      "userId": "13687154323298337983"
     },
     "user_tz": -540
    },
    "id": "tbuiFZfmqkp3",
    "outputId": "21cd7181-7b37-4581-ad3e-e9dfc07adb94"
   },
   "outputs": [
    {
     "name": "stdout",
     "output_type": "stream",
     "text": [
      "-------------------------------------------------------------------------------------------------------------------------\n",
      "-------------------------------------------------------------------------------------------------------------------------\n",
      "------------------ Here are some of the review texts (generated by GPT2) for rating 4 in the test data ------------------\n",
      "-------------------------------------------------------------------------------------------------------------------------\n",
      "-------------------------------------------------------------------------------------------------------------------------\n",
      "\n",
      "--------------------------------------------------------------------------------\n",
      "A very good product that is small and well built. I did receive this item at a discounted price in exchange for my honest, unbiased review.\n",
      "--------------------------------------------------------------------------------\n",
      "on the camera at the time of this review, it is only a basic camera which it does very well. If you want a decent starter camera in a very basic package this is the camera for you.\n",
      "--------------------------------------------------------------------------------\n",
      "This is a very nice looking, but I haven't yet found a case that fit my macbook pro but I've had this case on a few occasions for about 3 months now and it was good.  Overall, it's pretty well made and is very reasonably priced.  It's just not as stylish as my other cases but this is the right size.\n",
      "--------------------------------------------------------------------------------\n",
      "the color has nothing to do with it though it does work well. My wife likes it and it is still on the go with the kids and a very happy camper.\n",
      "--------------------------------------------------------------------------------\n",
      "The only thing I would change is the volume on the remote and sound quality.  It would be nice to have more control options.  It does not appear to be a big issue with this unit.  I would also like it if it had one setting of \"no input\" so I could be able to set my music to use as a source.\n",
      "--------------------------------------------------------------------------------\n",
      "-I-am-a-fan-of-laser-lights-and-lens-so-good, and this one works fine.\n",
      "--------------------------------------------------------------------------------\n",
      "to use with my Kindle Fire, with no issues.  The battery life on my original battery was about 4 hours.\n",
      "--------------------------------------------------------------------------------\n",
      "to be fair, I had no trouble getting the lens caps on, but if you are in an otherwise tough spot and don't want to spend an extra $100 for a lens cap, this is a good deal.  It is very sturdy and has been working out well so far.\n",
      "--------------------------------------------------------------------------------\n",
      "4/5 4/5 - I wish there was a way to put it in a slot to store it but it's ok.\n",
      "--------------------------------------------------------------------------------\n",
      "for my needs, and not for a laptop. It has been a great purchase for a very reasonable price.\n",
      "--------------------------------------------------------------------------------\n",
      ": 1) The color does not seem to fade in when viewing from the stand; however, the stand has to be removed in order to do this. 2) The screen brightness of this TV does not have a lot of light and the sound level is not great.\n",
      "--------------------------------------------------------------------------------\n",
      "as long as it lasts\n",
      "--------------------------------------------------------------------------------\n",
      ": I have been using the Moko case for about a year now. It seems to work okay. There is no cut out for the screen.\n",
      "--------------------------------------------------------------------------------\n",
      "and it does not work well with Mac OS X 10.5 yet. There are no problems with this product, just a shortcoming in my opinion.\n",
      "--------------------------------------------------------------------------------\n",
      ". I did a lot of research and settled on the HP E40, and have used it for a few months. The processor is fast and silent, and there is no problem with the keyboard, it feels pretty good in the hand. I don't have any problem with it falling off the table when I'm sitting at my desk.  I've heard some complaints about the keyboard falling off, but this hasn't happened to me. I use the keyboard, and haven't had any problems with it falling off the table, but I haven't found the buttons to be sensitive enough to let me see it's position. I do however like the magnetic cover for the back of the keyboard, it allows it to sleep.  As mentioned, the keyboard is a bit heavy. I'm not sure if it's due to the keyboard or the case, but I'm happy to have the keyboard and be able to type without worrying about it falling off.  Overall, this is a great laptop keyboard. It has good features, and I like having a screen on it. I don't have any problems with it falling off, and I've seen a few problems with the keys being sensitive enough to let me see it's position.  The reason I gave it 4 stars instead of 5 is that the keyboard is a bit heavy. I do think the keyboard is just a bit heavier than it needs to be, but you should definitely check the dimensions of your computer to be sure. I think it weighs more than the HP keyboard, and the keyboard doesn't weigh as much as the E40. Overall, I like the keyboard, and would recommend it to anyone looking for a good keyboard for a decent price.\n",
      "--------------------------------------------------------------------------------\n",
      "the first one didn't work, but since then it has worked fine and it's working fine.  I'm using this one for my new laptop and a Kindle Fire HD 7.1.\n",
      "--------------------------------------------------------------------------------\n",
      "a good starter radio, but not worth the money\n",
      "--------------------------------------------------------------------------------\n",
      "The speaker is a bit bigger than I expected but I feel it is worth the purchase.\n",
      "--------------------------------------------------------------------------------\n",
      "I have a lot of different computers and a lot of different storage, so I was pretty excited to try this. I read the other reviews about some problems. After playing around with it a bit I found that I could install it using Win7 without installing any drivers, that's the only reason I gave it 4 stars. The only other option I have is the option of just deleting all the windows you use and keeping the rest as your default settings and then deleting all the windows you don't have.  This is a huge improvement over the Windows 7 backup drive. There are a couple of things that prevented me from giving it 5 stars.  1. I cannot use the automatic start-up function. It was the default. If I had known that I would have never had to start up the computer for a couple of hours, I probably wouldn't have had the problem.  2. The software that comes with the machine does not allow for the automatic start-up function. I think it is supposed to. Other than that it works fine.\n",
      "--------------------------------------------------------------------------------\n",
      "and it's good.  The plastic feels good in your hands and I do enjoy being able to keep it in my bag without getting lost.  It does not take up much space as I was surprised that the extra space will make it more portable.  I am very happy with the item and would recommend it.\n"
     ]
    }
   ],
   "source": [
    "# Let's see some of the review texts for rating 4 in the test data.\n",
    "rating_texts = [test_df['generated_text'][i] for i in range(0, len(test_df)) if test_df['rating'][i]==4]\n",
    "rating_texts = random.sample(rating_texts, 20)\n",
    "print('-' * 121)\n",
    "print('-' * 121)\n",
    "print('------------------ Here are some of the review texts (generated by GPT2) for rating 4 in the test data ------------------')\n",
    "print('-' * 121)\n",
    "print('-' * 121)\n",
    "print('')\n",
    "for txt in rating_texts:\n",
    "    print('-' * 80)\n",
    "    print(txt)"
   ]
  },
  {
   "cell_type": "code",
   "execution_count": null,
   "metadata": {
    "colab": {
     "base_uri": "https://localhost:8080/"
    },
    "executionInfo": {
     "elapsed": 1561,
     "status": "ok",
     "timestamp": 1608880407534,
     "user": {
      "displayName": "Jun Hee Kim",
      "photoUrl": "",
      "userId": "13687154323298337983"
     },
     "user_tz": -540
    },
    "id": "ZVL16QxWqkxy",
    "outputId": "c4d0f066-bcc3-43d4-fa4a-8d36cbbef228"
   },
   "outputs": [
    {
     "name": "stdout",
     "output_type": "stream",
     "text": [
      "-------------------------------------------------------------------------------------------------------------------------\n",
      "-------------------------------------------------------------------------------------------------------------------------\n",
      "------------------ Here are some of the review texts (generated by GPT2) for rating 5 in the test data ------------------\n",
      "-------------------------------------------------------------------------------------------------------------------------\n",
      "-------------------------------------------------------------------------------------------------------------------------\n",
      "\n",
      "--------------------------------------------------------------------------------\n",
      ":  Great!\n",
      "--------------------------------------------------------------------------------\n",
      "of these is a very good and sturdy set of cables.  They are very flexible, with a decent quality, durable design.  They are also very strong, which is nice since they will eventually break.  These cables are made of solid, high quality material.  It makes no sense to me that they are made of any type of metal, since this makes them very sturdy.  In fact I have purchased several others from the same brand as these.  This cable is extremely well made and of high quality.  I will be buying more for my kitchen cabinets.\n",
      "--------------------------------------------------------------------------------\n",
      "with the USB adapter, the card has a USB 3.0 cable to make it possible for my laptop to communicate with the camera. It is the most solid cable I have used to date. I really like the quality and durability of this cable. I am very pleased with this purchase.\n",
      "--------------------------------------------------------------------------------\n",
      ", works perfectly. I have used this with a Raspberry Pi to keep it cool, and a Raspberry Pi 3 (I didn't want to spend money on a new one).\n",
      "--------------------------------------------------------------------------------\n",
      "that makes for a great laptop!\n",
      "--------------------------------------------------------------------------------\n",
      ", I have had great luck with my LG smart tv.  It has everything I need for my entertainment center.\n",
      "--------------------------------------------------------------------------------\n",
      ". The unit is very simple and does exactly what I need it to do. No lag on my computer at all. I like to listen to a music or radio show and I can listen through the sound bar. I can control it to skip the stations or skip the background without disturbing the person in the room. The quality of the sound bar is great and the remote is nice and easy to use. It takes less than 30 seconds to set up. The remote is simple and easy to operate. I had to wait for a couple days before I received it, but then I opened the package and it arrived within 5 minutes.\n",
      "--------------------------------------------------------------------------------\n",
      "The case is very soft with no padding, the cover works great for my tablet and I would recommend it to others.\n",
      "--------------------------------------------------------------------------------\n",
      "I will be buying from Amazon soon and will update this review as it happens.\n",
      "--------------------------------------------------------------------------------\n",
      "and works fine\n",
      "--------------------------------------------------------------------------------\n",
      "for the money!\n",
      "--------------------------------------------------------------------------------\n",
      "<start_token>  The best one yet and it worked just as well as the apple ones\n",
      "--------------------------------------------------------------------------------\n",
      "The lens is pretty much the same size as my Canon 5D Mark II but has a faster focusing motor.  I'm glad that I bought the lens.  The zoom is fast enough and the camera can take pictures even at the slowest shutter speed.  There is a little bit of static but nothing to complain about as I'm sure some people may find this to be a little annoying.  My only complaint is that my old Canon lens can't focus in front of me so it's a little hard to get the lens closer than 50 mm to focus.  I bought the lens mainly to work with the Sony Alpha 10 at night.  The Sigma 10 at night works great with this lens.  If I can get 50mm or so in front of the lens this will be great.\n",
      "--------------------------------------------------------------------------------\n",
      "I bought this one after purchasing another one.  The original had one end in the back and I had a problem with my original.  After I tried to find another that was compatible, I bought one of these.  The new one has the same feature, but it has only one input, and is not compatible.  I'm glad I bought one of these.  There are tons of reviews on this cable, and they were quite helpful!\n",
      "--------------------------------------------------------------------------------\n",
      "of the power adapter, it is the easiest to set up, plug and unplug the device for 5 seconds. Very easy to adjust. The power adapter works well, has great power (I have no more than 5 hours of use before my laptop shuts off) and is very quiet. I like that it has a USB port for charging/discharging.\n",
      "--------------------------------------------------------------------------------\n",
      "the price is good and it fits perfect in the bag without having to do a lot of pulling the camera out.\n",
      "--------------------------------------------------------------------------------\n",
      ", and also from another manufacturer.\n",
      "--------------------------------------------------------------------------------\n",
      "The color looks better on my TV and Blu-ray burner.\n",
      "--------------------------------------------------------------------------------\n",
      "and the fit is perfect.\n",
      "--------------------------------------------------------------------------------\n",
      "in a small and very easy way.  I recommend you have the extra battery for the bigger tablet.\n"
     ]
    }
   ],
   "source": [
    "# Let's see some of the review texts for rating 5 in the test data.\n",
    "rating_texts = [test_df['generated_text'][i] for i in range(0, len(test_df)) if test_df['rating'][i]==5]\n",
    "rating_texts = random.sample(rating_texts, 20)\n",
    "print('-' * 121)\n",
    "print('-' * 121)\n",
    "print('------------------ Here are some of the review texts (generated by GPT2) for rating 5 in the test data ------------------')\n",
    "print('-' * 121)\n",
    "print('-' * 121)\n",
    "print('')\n",
    "for txt in rating_texts:\n",
    "    print('-' * 80)\n",
    "    print(txt)"
   ]
  },
  {
   "cell_type": "markdown",
   "metadata": {
    "id": "9GQdRBgJhXnW"
   },
   "source": [
    "For the entire process regarding the classification part (tokenizing, adding special tokens, truncating, padding, computing attention masks, training, etc), we mostly use the codes in this [jupyter notebook](https://github.com/aniruddhachoudhury/BERT-Tutorials/blob/master/Blog%202/BERT_Fine_Tuning_Sentence_Classification.ipynb) which is the source code for the [tutorial article](https://medium.com/@aniruddha.choudhury94/part-2-bert-fine-tuning-tutorial-with-pytorch-for-text-classification-on-the-corpus-of-linguistic-18057ce330e1) \"**Part 2: BERT Fine-Tuning Tutorial with PyTorch for Text Classification on The Corpus of Linguistic Acceptability (COLA) Dataset.**\"."
   ]
  },
  {
   "cell_type": "markdown",
   "metadata": {
    "id": "cotD7MGiy8-N"
   },
   "source": [
    "## Tokenize, add special tokens 'CLS' and 'SEP', and map each token to id"
   ]
  },
  {
   "cell_type": "markdown",
   "metadata": {
    "id": "_x0GnMGpzJYk"
   },
   "source": [
    "We use the pretrained tokenizer for BERT ('bert-base-uncased') that is provided by the transformers library. "
   ]
  },
  {
   "cell_type": "code",
   "execution_count": null,
   "metadata": {
    "colab": {
     "base_uri": "https://localhost:8080/",
     "height": 67,
     "referenced_widgets": [
      "ded88c292c254f8b943c28845e56f7aa",
      "9c254ab3ca794b20aa62a1d99e6802e8",
      "dec35ab1cc9445a8a41738e6b5b9c3c0",
      "94fee4db722a421085f0a40c6e9108f3",
      "9843b3b6d2ab42d496eb687d237e9f4c",
      "01024cf3b2cc43708e7e4620cf032b8f",
      "4198374485264226b0c26520f8d1aaf8",
      "9971e37882bf48bfb549f079d3f595aa"
     ]
    },
    "executionInfo": {
     "elapsed": 1193,
     "status": "ok",
     "timestamp": 1608880416402,
     "user": {
      "displayName": "Jun Hee Kim",
      "photoUrl": "",
      "userId": "13687154323298337983"
     },
     "user_tz": -540
    },
    "id": "Epd9EklvhWmH",
    "outputId": "ae5afa83-30b1-429e-f4a2-7d1298a12687"
   },
   "outputs": [
    {
     "data": {
      "application/vnd.jupyter.widget-view+json": {
       "model_id": "ded88c292c254f8b943c28845e56f7aa",
       "version_major": 2,
       "version_minor": 0
      },
      "text/plain": [
       "HBox(children=(FloatProgress(value=0.0, description='Downloading', max=231508.0, style=ProgressStyle(descripti…"
      ]
     },
     "metadata": {
      "tags": []
     },
     "output_type": "display_data"
    },
    {
     "name": "stdout",
     "output_type": "stream",
     "text": [
      "\n"
     ]
    }
   ],
   "source": [
    "tokenizer = BertTokenizer.from_pretrained('bert-base-uncased', do_lower_case=True)"
   ]
  },
  {
   "cell_type": "code",
   "execution_count": null,
   "metadata": {
    "id": "drk5QcNkhWop"
   },
   "outputs": [],
   "source": [
    "def encoding(input_sentence, tokenizer):\n",
    "    # we will do truncating together with padding later on (via the 'pad_sequences' function from keras.preprocessing.sequence), \n",
    "    # so for now, we don't need to specify a max length limit.\n",
    "    return tokenizer.encode(input_sentence, add_special_tokens=True)"
   ]
  },
  {
   "cell_type": "code",
   "execution_count": null,
   "metadata": {
    "colab": {
     "base_uri": "https://localhost:8080/"
    },
    "executionInfo": {
     "elapsed": 963745,
     "status": "ok",
     "timestamp": 1608881383905,
     "user": {
      "displayName": "Jun Hee Kim",
      "photoUrl": "",
      "userId": "13687154323298337983"
     },
     "user_tz": -540
    },
    "id": "gj4P7RTshWtj",
    "outputId": "836309f9-7b46-44fc-a6bd-473dbbfa7b72"
   },
   "outputs": [
    {
     "name": "stderr",
     "output_type": "stream",
     "text": [
      "Token indices sequence length is longer than the specified maximum sequence length for this model (533 > 512). Running this sequence through the model will result in indexing errors\n"
     ]
    }
   ],
   "source": [
    "train_input_ids_list = list(train_df['review_text'].apply(encoding, tokenizer=tokenizer))\n",
    "eval_input_ids_list = list(eval_df['review_text'].apply(encoding, tokenizer=tokenizer))\n",
    "test_input_ids_list = list(test_df['generated_text'].apply(encoding, tokenizer=tokenizer))"
   ]
  },
  {
   "cell_type": "markdown",
   "metadata": {
    "id": "0lihfHPCHs1Y"
   },
   "source": [
    "## Truncate and pad"
   ]
  },
  {
   "cell_type": "markdown",
   "metadata": {
    "id": "dlvGDaeptWKA"
   },
   "source": [
    "We need to decide the maximum length for truncating (so that for every review text that is longer than this length, all the words afterwards will get removed). About 80% of the training datapoints are shorter than length 144, so let's set the max length as 145, so that around 20% of the review texts get truncated. \n",
    "\n",
    "For the remaining review texts, since their lengths are all less than 144, we need to apply padding on the remaining positions. So for example, for a review text with length 120, we have to fill the the remaining 24 positions (to reach 144) with a particular value to represent that these positions are padded (and not actual text). We use zero for the padding value."
   ]
  },
  {
   "cell_type": "code",
   "execution_count": null,
   "metadata": {
    "colab": {
     "base_uri": "https://localhost:8080/"
    },
    "executionInfo": {
     "elapsed": 650,
     "status": "ok",
     "timestamp": 1608881588338,
     "user": {
      "displayName": "Jun Hee Kim",
      "photoUrl": "",
      "userId": "13687154323298337983"
     },
     "user_tz": -540
    },
    "id": "RgF5NqzcWvAp",
    "outputId": "1eb96ce8-d347-48b5-cdbf-03b25702351f"
   },
   "outputs": [
    {
     "name": "stdout",
     "output_type": "stream",
     "text": [
      "80% percentile of text lengths in training data: 144.20000000001164\n",
      "80% percentile of text lengths in evaluation data: 144.0\n",
      "80% percentile of text lengths in test data: 127.0\n"
     ]
    }
   ],
   "source": [
    "print('80% percentile of text lengths in training data: {}'.format(np.percentile([len(input_ids) for input_ids in train_input_ids_list], 80)))\n",
    "print('80% percentile of text lengths in evaluation data: {}'.format(np.percentile([len(input_ids) for input_ids in eval_input_ids_list], 80)))\n",
    "print('80% percentile of text lengths in test data: {}'.format(np.percentile([len(input_ids) for input_ids in test_input_ids_list], 80)))"
   ]
  },
  {
   "cell_type": "code",
   "execution_count": null,
   "metadata": {
    "id": "vDwzLlUUhW1F"
   },
   "outputs": [],
   "source": [
    "train_input_ids_list = pad_sequences(train_input_ids_list, maxlen=145, dtype=\"long\", value=0, truncating=\"post\", padding=\"post\")\n",
    "eval_input_ids_list = pad_sequences(eval_input_ids_list, maxlen=145, dtype=\"long\", value=0, truncating=\"post\", padding=\"post\")\n",
    "test_input_ids_list = pad_sequences(test_input_ids_list, maxlen=145, dtype=\"long\", value=0, truncating=\"post\", padding=\"post\")"
   ]
  },
  {
   "cell_type": "markdown",
   "metadata": {
    "id": "2dfrQqL3IMrO"
   },
   "source": [
    "## Attention masks"
   ]
  },
  {
   "cell_type": "markdown",
   "metadata": {
    "id": "kMpBuuMIzr5v"
   },
   "source": [
    "We need to separately prepare an attention mask representation for each review text. For each review text, for each token position, we simply indicate whether the position is an actual token or a padded one. Since we used zero as the padding value, all we need to do is to tell whether the position's value is 0."
   ]
  },
  {
   "cell_type": "code",
   "execution_count": null,
   "metadata": {
    "id": "qmaPIXAqIFaG"
   },
   "outputs": [],
   "source": [
    "def attention_mask(input_ids):\n",
    "    return [int(token_id > 0) for token_id in input_ids]"
   ]
  },
  {
   "cell_type": "code",
   "execution_count": null,
   "metadata": {
    "id": "VsJ3H-0ZIFgm"
   },
   "outputs": [],
   "source": [
    "train_attention_mask_list = [attention_mask(input_ids) for input_ids in train_input_ids_list]\n",
    "eval_attention_mask_list = [attention_mask(input_ids) for input_ids in eval_input_ids_list]\n",
    "test_attention_mask_list = [attention_mask(input_ids) for input_ids in test_input_ids_list]"
   ]
  },
  {
   "cell_type": "markdown",
   "metadata": {
    "id": "vo7xaPdTuv3r"
   },
   "source": [
    "## convert data (inputs and labels) to pytorch tensors, and create pytorch DataLoaders"
   ]
  },
  {
   "cell_type": "markdown",
   "metadata": {
    "id": "PWH2Kzwwz1BR"
   },
   "source": [
    "As a final step before fine-tuning, we convert our variables that we've built so far to pytorch tensors, create pytorch Datasets, and finally make pytorch DataLoaders."
   ]
  },
  {
   "cell_type": "code",
   "execution_count": null,
   "metadata": {
    "id": "GaKXpPFluvWf"
   },
   "outputs": [],
   "source": [
    "train_input_ids_list = torch.tensor(train_input_ids_list)\n",
    "eval_input_ids_list = torch.tensor(eval_input_ids_list)\n",
    "test_input_ids_list = torch.tensor(test_input_ids_list)\n",
    "\n",
    "# rating 1 is represented as label 0, rating 2 is represented as label 1, ... , rating 5 is represented as label 4\n",
    "train_labels = torch.tensor(train_df['rating'] - 1)\n",
    "eval_labels = torch.tensor(eval_df['rating'] - 1)\n",
    "test_labels = torch.tensor(test_df['rating'] - 1)\n",
    "\n",
    "train_attention_mask_list = torch.tensor(train_attention_mask_list)\n",
    "eval_attention_mask_list = torch.tensor(eval_attention_mask_list)\n",
    "test_attention_mask_list = torch.tensor(test_attention_mask_list)"
   ]
  },
  {
   "cell_type": "code",
   "execution_count": null,
   "metadata": {
    "id": "z7ZaElSXuzoJ"
   },
   "outputs": [],
   "source": [
    "train_dataset = TensorDataset(train_input_ids_list, train_attention_mask_list, train_labels)\n",
    "eval_dataset = TensorDataset(eval_input_ids_list, eval_attention_mask_list, eval_labels)\n",
    "test_dataset = TensorDataset(test_input_ids_list, test_attention_mask_list, test_labels)"
   ]
  },
  {
   "cell_type": "code",
   "execution_count": null,
   "metadata": {
    "id": "uP6-eaKHuzq8"
   },
   "outputs": [],
   "source": [
    "train_dataloader = DataLoader(train_dataset, batch_size=32, shuffle=True)\n",
    "eval_dataloader = DataLoader(eval_dataset, batch_size=32, shuffle=False)\n",
    "test_dataloader = DataLoader(test_dataset, batch_size=32, shuffle=False)"
   ]
  },
  {
   "cell_type": "markdown",
   "metadata": {
    "id": "JqZUYwDpwipW"
   },
   "source": [
    "## Fine-tune the pre-trained BertForSequenceClassification model"
   ]
  },
  {
   "cell_type": "markdown",
   "metadata": {
    "id": "zut1xCCt0iCy"
   },
   "source": [
    "We prepare the pretrained BERT model, define our optimizer and scheduler, and start fine-tuning (for two epochs)."
   ]
  },
  {
   "cell_type": "code",
   "execution_count": null,
   "metadata": {
    "colab": {
     "base_uri": "https://localhost:8080/"
    },
    "executionInfo": {
     "elapsed": 701,
     "status": "ok",
     "timestamp": 1608881756108,
     "user": {
      "displayName": "Jun Hee Kim",
      "photoUrl": "",
      "userId": "13687154323298337983"
     },
     "user_tz": -540
    },
    "id": "eMIfJIZxzYY2",
    "outputId": "cc035260-3ff6-4bb3-bf5f-772431f26166"
   },
   "outputs": [
    {
     "name": "stdout",
     "output_type": "stream",
     "text": [
      "device: cuda\n"
     ]
    }
   ],
   "source": [
    "device = torch.device('cuda' if torch.cuda.is_available() else 'cpu')\n",
    "print('device: {}'.format(device))"
   ]
  },
  {
   "cell_type": "code",
   "execution_count": null,
   "metadata": {
    "colab": {
     "base_uri": "https://localhost:8080/",
     "height": 1000,
     "referenced_widgets": [
      "910eb4b8802c4f6190c6cb711e415989",
      "14ee892c8c1d4747b2c4280aecce3539",
      "fec8f210fe4a4a2191f510fc2c347134",
      "fee6a1bbb4294459a0a76efe15707df5",
      "de84ec6f888f47e59e291fcbb3a7c637",
      "b531d15e256f45029c39d0279906bdc8",
      "be1be1f3ba01419d815afcb780e6b226",
      "0223e01376f0400eba485dae527cc4f2",
      "d87d19e60dad426b9f89efc5d80cb738",
      "9bea3e1302754246898817a380a6a5c5",
      "a44380db2bba47d7966361ba18bebef8",
      "bcaff2419ef94f7881515174c9321494",
      "423d9da802084eaf8424d75fda6fec9a",
      "ec158343784a48a4b0830a264c376bbb",
      "339d22a227784929a40492e201aa21be",
      "6823c69a8d7a4fc2b14d8f4a000b5233"
     ]
    },
    "executionInfo": {
     "elapsed": 36818,
     "status": "ok",
     "timestamp": 1608881794042,
     "user": {
      "displayName": "Jun Hee Kim",
      "photoUrl": "",
      "userId": "13687154323298337983"
     },
     "user_tz": -540
    },
    "id": "eNJHvNCZwiKP",
    "outputId": "f3e68ea2-c03d-4ed2-e883-b5a8304e5096"
   },
   "outputs": [
    {
     "data": {
      "application/vnd.jupyter.widget-view+json": {
       "model_id": "910eb4b8802c4f6190c6cb711e415989",
       "version_major": 2,
       "version_minor": 0
      },
      "text/plain": [
       "HBox(children=(FloatProgress(value=0.0, description='Downloading', max=433.0, style=ProgressStyle(description_…"
      ]
     },
     "metadata": {
      "tags": []
     },
     "output_type": "display_data"
    },
    {
     "name": "stdout",
     "output_type": "stream",
     "text": [
      "\n"
     ]
    },
    {
     "data": {
      "application/vnd.jupyter.widget-view+json": {
       "model_id": "d87d19e60dad426b9f89efc5d80cb738",
       "version_major": 2,
       "version_minor": 0
      },
      "text/plain": [
       "HBox(children=(FloatProgress(value=0.0, description='Downloading', max=440473133.0, style=ProgressStyle(descri…"
      ]
     },
     "metadata": {
      "tags": []
     },
     "output_type": "display_data"
    },
    {
     "name": "stdout",
     "output_type": "stream",
     "text": [
      "\n"
     ]
    },
    {
     "name": "stderr",
     "output_type": "stream",
     "text": [
      "Some weights of the model checkpoint at bert-base-uncased were not used when initializing BertForSequenceClassification: ['cls.predictions.bias', 'cls.predictions.transform.dense.weight', 'cls.predictions.transform.dense.bias', 'cls.predictions.decoder.weight', 'cls.seq_relationship.weight', 'cls.seq_relationship.bias', 'cls.predictions.transform.LayerNorm.weight', 'cls.predictions.transform.LayerNorm.bias']\n",
      "- This IS expected if you are initializing BertForSequenceClassification from the checkpoint of a model trained on another task or with another architecture (e.g. initializing a BertForSequenceClassification model from a BertForPreTraining model).\n",
      "- This IS NOT expected if you are initializing BertForSequenceClassification from the checkpoint of a model that you expect to be exactly identical (initializing a BertForSequenceClassification model from a BertForSequenceClassification model).\n",
      "Some weights of BertForSequenceClassification were not initialized from the model checkpoint at bert-base-uncased and are newly initialized: ['classifier.weight', 'classifier.bias']\n",
      "You should probably TRAIN this model on a down-stream task to be able to use it for predictions and inference.\n"
     ]
    },
    {
     "data": {
      "text/plain": [
       "BertForSequenceClassification(\n",
       "  (bert): BertModel(\n",
       "    (embeddings): BertEmbeddings(\n",
       "      (word_embeddings): Embedding(30522, 768, padding_idx=0)\n",
       "      (position_embeddings): Embedding(512, 768)\n",
       "      (token_type_embeddings): Embedding(2, 768)\n",
       "      (LayerNorm): LayerNorm((768,), eps=1e-12, elementwise_affine=True)\n",
       "      (dropout): Dropout(p=0.1, inplace=False)\n",
       "    )\n",
       "    (encoder): BertEncoder(\n",
       "      (layer): ModuleList(\n",
       "        (0): BertLayer(\n",
       "          (attention): BertAttention(\n",
       "            (self): BertSelfAttention(\n",
       "              (query): Linear(in_features=768, out_features=768, bias=True)\n",
       "              (key): Linear(in_features=768, out_features=768, bias=True)\n",
       "              (value): Linear(in_features=768, out_features=768, bias=True)\n",
       "              (dropout): Dropout(p=0.1, inplace=False)\n",
       "            )\n",
       "            (output): BertSelfOutput(\n",
       "              (dense): Linear(in_features=768, out_features=768, bias=True)\n",
       "              (LayerNorm): LayerNorm((768,), eps=1e-12, elementwise_affine=True)\n",
       "              (dropout): Dropout(p=0.1, inplace=False)\n",
       "            )\n",
       "          )\n",
       "          (intermediate): BertIntermediate(\n",
       "            (dense): Linear(in_features=768, out_features=3072, bias=True)\n",
       "          )\n",
       "          (output): BertOutput(\n",
       "            (dense): Linear(in_features=3072, out_features=768, bias=True)\n",
       "            (LayerNorm): LayerNorm((768,), eps=1e-12, elementwise_affine=True)\n",
       "            (dropout): Dropout(p=0.1, inplace=False)\n",
       "          )\n",
       "        )\n",
       "        (1): BertLayer(\n",
       "          (attention): BertAttention(\n",
       "            (self): BertSelfAttention(\n",
       "              (query): Linear(in_features=768, out_features=768, bias=True)\n",
       "              (key): Linear(in_features=768, out_features=768, bias=True)\n",
       "              (value): Linear(in_features=768, out_features=768, bias=True)\n",
       "              (dropout): Dropout(p=0.1, inplace=False)\n",
       "            )\n",
       "            (output): BertSelfOutput(\n",
       "              (dense): Linear(in_features=768, out_features=768, bias=True)\n",
       "              (LayerNorm): LayerNorm((768,), eps=1e-12, elementwise_affine=True)\n",
       "              (dropout): Dropout(p=0.1, inplace=False)\n",
       "            )\n",
       "          )\n",
       "          (intermediate): BertIntermediate(\n",
       "            (dense): Linear(in_features=768, out_features=3072, bias=True)\n",
       "          )\n",
       "          (output): BertOutput(\n",
       "            (dense): Linear(in_features=3072, out_features=768, bias=True)\n",
       "            (LayerNorm): LayerNorm((768,), eps=1e-12, elementwise_affine=True)\n",
       "            (dropout): Dropout(p=0.1, inplace=False)\n",
       "          )\n",
       "        )\n",
       "        (2): BertLayer(\n",
       "          (attention): BertAttention(\n",
       "            (self): BertSelfAttention(\n",
       "              (query): Linear(in_features=768, out_features=768, bias=True)\n",
       "              (key): Linear(in_features=768, out_features=768, bias=True)\n",
       "              (value): Linear(in_features=768, out_features=768, bias=True)\n",
       "              (dropout): Dropout(p=0.1, inplace=False)\n",
       "            )\n",
       "            (output): BertSelfOutput(\n",
       "              (dense): Linear(in_features=768, out_features=768, bias=True)\n",
       "              (LayerNorm): LayerNorm((768,), eps=1e-12, elementwise_affine=True)\n",
       "              (dropout): Dropout(p=0.1, inplace=False)\n",
       "            )\n",
       "          )\n",
       "          (intermediate): BertIntermediate(\n",
       "            (dense): Linear(in_features=768, out_features=3072, bias=True)\n",
       "          )\n",
       "          (output): BertOutput(\n",
       "            (dense): Linear(in_features=3072, out_features=768, bias=True)\n",
       "            (LayerNorm): LayerNorm((768,), eps=1e-12, elementwise_affine=True)\n",
       "            (dropout): Dropout(p=0.1, inplace=False)\n",
       "          )\n",
       "        )\n",
       "        (3): BertLayer(\n",
       "          (attention): BertAttention(\n",
       "            (self): BertSelfAttention(\n",
       "              (query): Linear(in_features=768, out_features=768, bias=True)\n",
       "              (key): Linear(in_features=768, out_features=768, bias=True)\n",
       "              (value): Linear(in_features=768, out_features=768, bias=True)\n",
       "              (dropout): Dropout(p=0.1, inplace=False)\n",
       "            )\n",
       "            (output): BertSelfOutput(\n",
       "              (dense): Linear(in_features=768, out_features=768, bias=True)\n",
       "              (LayerNorm): LayerNorm((768,), eps=1e-12, elementwise_affine=True)\n",
       "              (dropout): Dropout(p=0.1, inplace=False)\n",
       "            )\n",
       "          )\n",
       "          (intermediate): BertIntermediate(\n",
       "            (dense): Linear(in_features=768, out_features=3072, bias=True)\n",
       "          )\n",
       "          (output): BertOutput(\n",
       "            (dense): Linear(in_features=3072, out_features=768, bias=True)\n",
       "            (LayerNorm): LayerNorm((768,), eps=1e-12, elementwise_affine=True)\n",
       "            (dropout): Dropout(p=0.1, inplace=False)\n",
       "          )\n",
       "        )\n",
       "        (4): BertLayer(\n",
       "          (attention): BertAttention(\n",
       "            (self): BertSelfAttention(\n",
       "              (query): Linear(in_features=768, out_features=768, bias=True)\n",
       "              (key): Linear(in_features=768, out_features=768, bias=True)\n",
       "              (value): Linear(in_features=768, out_features=768, bias=True)\n",
       "              (dropout): Dropout(p=0.1, inplace=False)\n",
       "            )\n",
       "            (output): BertSelfOutput(\n",
       "              (dense): Linear(in_features=768, out_features=768, bias=True)\n",
       "              (LayerNorm): LayerNorm((768,), eps=1e-12, elementwise_affine=True)\n",
       "              (dropout): Dropout(p=0.1, inplace=False)\n",
       "            )\n",
       "          )\n",
       "          (intermediate): BertIntermediate(\n",
       "            (dense): Linear(in_features=768, out_features=3072, bias=True)\n",
       "          )\n",
       "          (output): BertOutput(\n",
       "            (dense): Linear(in_features=3072, out_features=768, bias=True)\n",
       "            (LayerNorm): LayerNorm((768,), eps=1e-12, elementwise_affine=True)\n",
       "            (dropout): Dropout(p=0.1, inplace=False)\n",
       "          )\n",
       "        )\n",
       "        (5): BertLayer(\n",
       "          (attention): BertAttention(\n",
       "            (self): BertSelfAttention(\n",
       "              (query): Linear(in_features=768, out_features=768, bias=True)\n",
       "              (key): Linear(in_features=768, out_features=768, bias=True)\n",
       "              (value): Linear(in_features=768, out_features=768, bias=True)\n",
       "              (dropout): Dropout(p=0.1, inplace=False)\n",
       "            )\n",
       "            (output): BertSelfOutput(\n",
       "              (dense): Linear(in_features=768, out_features=768, bias=True)\n",
       "              (LayerNorm): LayerNorm((768,), eps=1e-12, elementwise_affine=True)\n",
       "              (dropout): Dropout(p=0.1, inplace=False)\n",
       "            )\n",
       "          )\n",
       "          (intermediate): BertIntermediate(\n",
       "            (dense): Linear(in_features=768, out_features=3072, bias=True)\n",
       "          )\n",
       "          (output): BertOutput(\n",
       "            (dense): Linear(in_features=3072, out_features=768, bias=True)\n",
       "            (LayerNorm): LayerNorm((768,), eps=1e-12, elementwise_affine=True)\n",
       "            (dropout): Dropout(p=0.1, inplace=False)\n",
       "          )\n",
       "        )\n",
       "        (6): BertLayer(\n",
       "          (attention): BertAttention(\n",
       "            (self): BertSelfAttention(\n",
       "              (query): Linear(in_features=768, out_features=768, bias=True)\n",
       "              (key): Linear(in_features=768, out_features=768, bias=True)\n",
       "              (value): Linear(in_features=768, out_features=768, bias=True)\n",
       "              (dropout): Dropout(p=0.1, inplace=False)\n",
       "            )\n",
       "            (output): BertSelfOutput(\n",
       "              (dense): Linear(in_features=768, out_features=768, bias=True)\n",
       "              (LayerNorm): LayerNorm((768,), eps=1e-12, elementwise_affine=True)\n",
       "              (dropout): Dropout(p=0.1, inplace=False)\n",
       "            )\n",
       "          )\n",
       "          (intermediate): BertIntermediate(\n",
       "            (dense): Linear(in_features=768, out_features=3072, bias=True)\n",
       "          )\n",
       "          (output): BertOutput(\n",
       "            (dense): Linear(in_features=3072, out_features=768, bias=True)\n",
       "            (LayerNorm): LayerNorm((768,), eps=1e-12, elementwise_affine=True)\n",
       "            (dropout): Dropout(p=0.1, inplace=False)\n",
       "          )\n",
       "        )\n",
       "        (7): BertLayer(\n",
       "          (attention): BertAttention(\n",
       "            (self): BertSelfAttention(\n",
       "              (query): Linear(in_features=768, out_features=768, bias=True)\n",
       "              (key): Linear(in_features=768, out_features=768, bias=True)\n",
       "              (value): Linear(in_features=768, out_features=768, bias=True)\n",
       "              (dropout): Dropout(p=0.1, inplace=False)\n",
       "            )\n",
       "            (output): BertSelfOutput(\n",
       "              (dense): Linear(in_features=768, out_features=768, bias=True)\n",
       "              (LayerNorm): LayerNorm((768,), eps=1e-12, elementwise_affine=True)\n",
       "              (dropout): Dropout(p=0.1, inplace=False)\n",
       "            )\n",
       "          )\n",
       "          (intermediate): BertIntermediate(\n",
       "            (dense): Linear(in_features=768, out_features=3072, bias=True)\n",
       "          )\n",
       "          (output): BertOutput(\n",
       "            (dense): Linear(in_features=3072, out_features=768, bias=True)\n",
       "            (LayerNorm): LayerNorm((768,), eps=1e-12, elementwise_affine=True)\n",
       "            (dropout): Dropout(p=0.1, inplace=False)\n",
       "          )\n",
       "        )\n",
       "        (8): BertLayer(\n",
       "          (attention): BertAttention(\n",
       "            (self): BertSelfAttention(\n",
       "              (query): Linear(in_features=768, out_features=768, bias=True)\n",
       "              (key): Linear(in_features=768, out_features=768, bias=True)\n",
       "              (value): Linear(in_features=768, out_features=768, bias=True)\n",
       "              (dropout): Dropout(p=0.1, inplace=False)\n",
       "            )\n",
       "            (output): BertSelfOutput(\n",
       "              (dense): Linear(in_features=768, out_features=768, bias=True)\n",
       "              (LayerNorm): LayerNorm((768,), eps=1e-12, elementwise_affine=True)\n",
       "              (dropout): Dropout(p=0.1, inplace=False)\n",
       "            )\n",
       "          )\n",
       "          (intermediate): BertIntermediate(\n",
       "            (dense): Linear(in_features=768, out_features=3072, bias=True)\n",
       "          )\n",
       "          (output): BertOutput(\n",
       "            (dense): Linear(in_features=3072, out_features=768, bias=True)\n",
       "            (LayerNorm): LayerNorm((768,), eps=1e-12, elementwise_affine=True)\n",
       "            (dropout): Dropout(p=0.1, inplace=False)\n",
       "          )\n",
       "        )\n",
       "        (9): BertLayer(\n",
       "          (attention): BertAttention(\n",
       "            (self): BertSelfAttention(\n",
       "              (query): Linear(in_features=768, out_features=768, bias=True)\n",
       "              (key): Linear(in_features=768, out_features=768, bias=True)\n",
       "              (value): Linear(in_features=768, out_features=768, bias=True)\n",
       "              (dropout): Dropout(p=0.1, inplace=False)\n",
       "            )\n",
       "            (output): BertSelfOutput(\n",
       "              (dense): Linear(in_features=768, out_features=768, bias=True)\n",
       "              (LayerNorm): LayerNorm((768,), eps=1e-12, elementwise_affine=True)\n",
       "              (dropout): Dropout(p=0.1, inplace=False)\n",
       "            )\n",
       "          )\n",
       "          (intermediate): BertIntermediate(\n",
       "            (dense): Linear(in_features=768, out_features=3072, bias=True)\n",
       "          )\n",
       "          (output): BertOutput(\n",
       "            (dense): Linear(in_features=3072, out_features=768, bias=True)\n",
       "            (LayerNorm): LayerNorm((768,), eps=1e-12, elementwise_affine=True)\n",
       "            (dropout): Dropout(p=0.1, inplace=False)\n",
       "          )\n",
       "        )\n",
       "        (10): BertLayer(\n",
       "          (attention): BertAttention(\n",
       "            (self): BertSelfAttention(\n",
       "              (query): Linear(in_features=768, out_features=768, bias=True)\n",
       "              (key): Linear(in_features=768, out_features=768, bias=True)\n",
       "              (value): Linear(in_features=768, out_features=768, bias=True)\n",
       "              (dropout): Dropout(p=0.1, inplace=False)\n",
       "            )\n",
       "            (output): BertSelfOutput(\n",
       "              (dense): Linear(in_features=768, out_features=768, bias=True)\n",
       "              (LayerNorm): LayerNorm((768,), eps=1e-12, elementwise_affine=True)\n",
       "              (dropout): Dropout(p=0.1, inplace=False)\n",
       "            )\n",
       "          )\n",
       "          (intermediate): BertIntermediate(\n",
       "            (dense): Linear(in_features=768, out_features=3072, bias=True)\n",
       "          )\n",
       "          (output): BertOutput(\n",
       "            (dense): Linear(in_features=3072, out_features=768, bias=True)\n",
       "            (LayerNorm): LayerNorm((768,), eps=1e-12, elementwise_affine=True)\n",
       "            (dropout): Dropout(p=0.1, inplace=False)\n",
       "          )\n",
       "        )\n",
       "        (11): BertLayer(\n",
       "          (attention): BertAttention(\n",
       "            (self): BertSelfAttention(\n",
       "              (query): Linear(in_features=768, out_features=768, bias=True)\n",
       "              (key): Linear(in_features=768, out_features=768, bias=True)\n",
       "              (value): Linear(in_features=768, out_features=768, bias=True)\n",
       "              (dropout): Dropout(p=0.1, inplace=False)\n",
       "            )\n",
       "            (output): BertSelfOutput(\n",
       "              (dense): Linear(in_features=768, out_features=768, bias=True)\n",
       "              (LayerNorm): LayerNorm((768,), eps=1e-12, elementwise_affine=True)\n",
       "              (dropout): Dropout(p=0.1, inplace=False)\n",
       "            )\n",
       "          )\n",
       "          (intermediate): BertIntermediate(\n",
       "            (dense): Linear(in_features=768, out_features=3072, bias=True)\n",
       "          )\n",
       "          (output): BertOutput(\n",
       "            (dense): Linear(in_features=3072, out_features=768, bias=True)\n",
       "            (LayerNorm): LayerNorm((768,), eps=1e-12, elementwise_affine=True)\n",
       "            (dropout): Dropout(p=0.1, inplace=False)\n",
       "          )\n",
       "        )\n",
       "      )\n",
       "    )\n",
       "    (pooler): BertPooler(\n",
       "      (dense): Linear(in_features=768, out_features=768, bias=True)\n",
       "      (activation): Tanh()\n",
       "    )\n",
       "  )\n",
       "  (dropout): Dropout(p=0.1, inplace=False)\n",
       "  (classifier): Linear(in_features=768, out_features=5, bias=True)\n",
       ")"
      ]
     },
     "execution_count": 33,
     "metadata": {
      "tags": []
     },
     "output_type": "execute_result"
    }
   ],
   "source": [
    "model = BertForSequenceClassification.from_pretrained('bert-base-uncased', num_labels=5, output_attentions=False, output_hidden_states=False)\n",
    "model.to(device)"
   ]
  },
  {
   "cell_type": "code",
   "execution_count": null,
   "metadata": {
    "id": "yDFChE3qwiM_"
   },
   "outputs": [],
   "source": [
    "optimizer = AdamW(model.parameters(), lr = 2e-5, eps = 1e-8 )\n",
    "epochs = 2\n",
    "total_steps = len(train_dataloader) * epochs\n",
    "scheduler = get_linear_schedule_with_warmup(optimizer, num_warmup_steps = 0, num_training_steps = total_steps)"
   ]
  },
  {
   "cell_type": "code",
   "execution_count": null,
   "metadata": {
    "id": "JV8LBwUMyQ6C"
   },
   "outputs": [],
   "source": [
    "def format_time(elapsed):\n",
    "    '''\n",
    "    Takes a time in seconds and returns a string hh:mm:ss\n",
    "    '''\n",
    "    # Round to the nearest second.\n",
    "    elapsed_rounded = int(round((elapsed)))\n",
    "    \n",
    "    # Format as hh:mm:ss\n",
    "    return str(datetime.timedelta(seconds=elapsed_rounded))"
   ]
  },
  {
   "cell_type": "code",
   "execution_count": null,
   "metadata": {
    "colab": {
     "base_uri": "https://localhost:8080/"
    },
    "executionInfo": {
     "elapsed": 21637955,
     "status": "ok",
     "timestamp": 1608903532912,
     "user": {
      "displayName": "Jun Hee Kim",
      "photoUrl": "",
      "userId": "13687154323298337983"
     },
     "user_tz": -540
    },
    "id": "0bQjeX2ywiTu",
    "outputId": "43f36ed3-b18d-4180-d003-b47a8b25586b"
   },
   "outputs": [
    {
     "name": "stdout",
     "output_type": "stream",
     "text": [
      "\n",
      "======== Epoch 1 / 2 ========\n",
      "Training...\n",
      "  Batch   800  of  10,157.  Average train loss so far: 1.137.    Elapsed: 0:10:35.\n",
      "  Batch 1,600  of  10,157.  Average train loss so far: 1.078.    Elapsed: 0:21:17.\n",
      "  Batch 2,400  of  10,157.  Average train loss so far: 1.054.    Elapsed: 0:31:59.\n",
      "  Batch 3,200  of  10,157.  Average train loss so far: 1.039.    Elapsed: 0:42:41.\n",
      "  Batch 4,000  of  10,157.  Average train loss so far: 1.024.    Elapsed: 0:53:24.\n",
      "  Batch 4,800  of  10,157.  Average train loss so far: 1.014.    Elapsed: 1:04:05.\n",
      "  Batch 5,600  of  10,157.  Average train loss so far: 1.006.    Elapsed: 1:14:48.\n",
      "  Batch 6,400  of  10,157.  Average train loss so far: 0.999.    Elapsed: 1:25:30.\n",
      "  Batch 7,200  of  10,157.  Average train loss so far: 0.993.    Elapsed: 1:36:12.\n",
      "  Batch 8,000  of  10,157.  Average train loss so far: 0.987.    Elapsed: 1:46:54.\n",
      "  Batch 8,800  of  10,157.  Average train loss so far: 0.982.    Elapsed: 1:57:36.\n",
      "  Batch 9,600  of  10,157.  Average train loss so far: 0.977.    Elapsed: 2:08:19.\n",
      "\n",
      "  Average training loss: 0.97\n",
      "  Num train total: 325000, Num train correct: 185011, Train accuracy: 0.569\n",
      "  Training epoch took: 2:15:46\n",
      "\n",
      "Running Validation...\n",
      "  Num validation total: 229995, Num validation correct: 137808, Validation accuracy: 0.599\n",
      "  Validation took: 0:34:01\n",
      "\n",
      "======== Epoch 2 / 2 ========\n",
      "Training...\n",
      "  Batch   800  of  10,157.  Average train loss so far: 0.859.    Elapsed: 0:10:42.\n",
      "  Batch 1,600  of  10,157.  Average train loss so far: 0.857.    Elapsed: 0:21:23.\n",
      "  Batch 2,400  of  10,157.  Average train loss so far: 0.858.    Elapsed: 0:32:04.\n",
      "  Batch 3,200  of  10,157.  Average train loss so far: 0.856.    Elapsed: 0:42:45.\n",
      "  Batch 4,000  of  10,157.  Average train loss so far: 0.857.    Elapsed: 0:53:27.\n",
      "  Batch 4,800  of  10,157.  Average train loss so far: 0.856.    Elapsed: 1:04:09.\n",
      "  Batch 5,600  of  10,157.  Average train loss so far: 0.855.    Elapsed: 1:14:51.\n",
      "  Batch 6,400  of  10,157.  Average train loss so far: 0.854.    Elapsed: 1:25:33.\n",
      "  Batch 7,200  of  10,157.  Average train loss so far: 0.853.    Elapsed: 1:36:14.\n",
      "  Batch 8,000  of  10,157.  Average train loss so far: 0.851.    Elapsed: 1:46:56.\n",
      "  Batch 8,800  of  10,157.  Average train loss so far: 0.85.    Elapsed: 1:57:38.\n",
      "  Batch 9,600  of  10,157.  Average train loss so far: 0.85.    Elapsed: 2:08:20.\n",
      "\n",
      "  Average training loss: 0.85\n",
      "  Num train total: 325000, Num train correct: 204025, Train accuracy: 0.628\n",
      "  Training epoch took: 2:15:46\n",
      "\n",
      "Running Validation...\n",
      "  Num validation total: 229995, Num validation correct: 139347, Validation accuracy: 0.606\n",
      "  Validation took: 0:34:00\n",
      "\n",
      "Running Test...\n",
      "  Num test total: 142639, Num test correct: 80624, Test accuracy: 0.565\n",
      "  Test took: 0:21:04\n"
     ]
    }
   ],
   "source": [
    "# For each epoch...\n",
    "for epoch_i in range(0, epochs):\n",
    "    \n",
    "    # ========================================\n",
    "    #               Training\n",
    "    # ========================================\n",
    "    \n",
    "    # Perform one full pass over the training set.\n",
    "\n",
    "    print(\"\")\n",
    "    print('======== Epoch {:} / {:} ========'.format(epoch_i + 1, epochs))\n",
    "    print('Training...')\n",
    "\n",
    "    t0 = time.time()\n",
    "\n",
    "    avg_train_loss = 0\n",
    "    num_train_total, num_train_correct = 0, 0\n",
    "    model.train()\n",
    "\n",
    "    # For each batch of training data...\n",
    "    for step, batch in enumerate(train_dataloader):\n",
    "        # Progress update every 800 batches.\n",
    "        if step % 800 == 0 and not step == 0:\n",
    "            elapsed = format_time(time.time() - t0)\n",
    "            print('  Batch {:>5,}  of  {:>5,}.  Average train loss so far: {}.    Elapsed: {:}.'.format(step, len(train_dataloader), round(avg_train_loss, 3), elapsed))\n",
    "\n",
    "        b_input_ids = batch[0].to(device)\n",
    "        b_input_mask = batch[1].to(device)\n",
    "        b_labels = batch[2].to(device)\n",
    "\n",
    "        optimizer.zero_grad()        \n",
    "\n",
    "        outputs = model(b_input_ids, \n",
    "                    token_type_ids=None, \n",
    "                    attention_mask=b_input_mask, \n",
    "                    labels=b_labels)\n",
    "        \n",
    "        loss = outputs[0]\n",
    "\n",
    "        loss.backward()\n",
    "        torch.nn.utils.clip_grad_norm_(model.parameters(), 1.0)\n",
    "        optimizer.step()\n",
    "        scheduler.step()\n",
    "\n",
    "        avg_train_loss = ((avg_train_loss * step) + loss.item()) / (step + 1)\n",
    "\n",
    "        logits = outputs[1]\n",
    "        logits = logits.detach().cpu().numpy()\n",
    "        pred_flat = np.argmax(logits, axis=1).flatten()\n",
    "        label_ids = b_labels.to('cpu').numpy()\n",
    "        labels_flat = label_ids.flatten()\n",
    "        num_train_correct += np.sum(pred_flat == labels_flat)\n",
    "        num_train_total += len(labels_flat)       \n",
    "\n",
    "    print(\"\")\n",
    "    print(\"  Average training loss: {0:.2f}\".format(avg_train_loss))\n",
    "    print(\"  Num train total: {}, Num train correct: {}, Train accuracy: {}\".format(num_train_total, num_train_correct, round(num_train_correct / num_train_total, 3)))\n",
    "    print(\"  Training epoch took: {:}\".format(format_time(time.time() - t0)))\n",
    "        \n",
    "    # ========================================\n",
    "    #               Validation\n",
    "    # ========================================\n",
    "    # After the completion of each training epoch, measure our performance on\n",
    "    # our validation set.\n",
    "\n",
    "    print(\"\")\n",
    "    print(\"Running Validation...\")\n",
    "\n",
    "    t0 = time.time()\n",
    "\n",
    "    num_eval_total, num_eval_correct = 0, 0\n",
    "    model.eval()\n",
    "\n",
    "    # Evaluate data for one epoch\n",
    "    for batch in eval_dataloader:\n",
    "        batch = tuple(t.to(device) for t in batch)\n",
    "        b_input_ids, b_input_mask, b_labels = batch\n",
    "\n",
    "        with torch.no_grad():        \n",
    "            outputs = model(b_input_ids, b_input_mask)\n",
    "        \n",
    "        logits = outputs[0]\n",
    "        logits = logits.detach().cpu().numpy()\n",
    "        pred_flat = np.argmax(logits, axis=1).flatten()\n",
    "        label_ids = b_labels.to('cpu').numpy()\n",
    "        labels_flat = label_ids.flatten()\n",
    "        num_eval_correct += np.sum(pred_flat == labels_flat)\n",
    "        num_eval_total += len(labels_flat)\n",
    "\n",
    "    # Report the final accuracy for this validation run.\n",
    "    print(\"  Num validation total: {}, Num validation correct: {}, Validation accuracy: {}\".format(num_eval_total, num_eval_correct, round(num_eval_correct / num_eval_total, 3)))\n",
    "    print(\"  Validation took: {:}\".format(format_time(time.time() - t0)))\n",
    "\n",
    "\n",
    "\n",
    "    # ========================================\n",
    "    #               Test\n",
    "    # ========================================\n",
    "    # After the completion of last training epoch, measure our performance on\n",
    "    # our test set (generated texts from gpt2)\n",
    "    if epoch_i == epochs - 1:\n",
    "        print(\"\")\n",
    "        print(\"Running Test...\")\n",
    "\n",
    "        t0 = time.time()\n",
    "        \n",
    "        num_test_total, num_test_correct = 0, 0\n",
    "        for batch in test_dataloader:\n",
    "            batch = tuple(t.to(device) for t in batch)\n",
    "            b_input_ids, b_input_mask, b_labels = batch\n",
    "            \n",
    "            with torch.no_grad():        \n",
    "                outputs = model(b_input_ids, b_input_mask)\n",
    "            \n",
    "            logits = outputs[0]\n",
    "            logits = logits.detach().cpu().numpy()\n",
    "            pred_flat = np.argmax(logits, axis=1).flatten()\n",
    "            label_ids = b_labels.to('cpu').numpy()\n",
    "            labels_flat = label_ids.flatten()\n",
    "            num_test_correct += np.sum(pred_flat == labels_flat)\n",
    "            num_test_total += len(labels_flat)\n",
    "        # Report the final accuracy for the test run.\n",
    "        print(\"  Num test total: {}, Num test correct: {}, Test accuracy: {}\".format(num_test_total, num_test_correct, round(num_test_correct / num_test_total, 3)))\n",
    "        print(\"  Test took: {:}\".format(format_time(time.time() - t0)))"
   ]
  },
  {
   "cell_type": "markdown",
   "metadata": {
    "id": "KZXWORkILfEN"
   },
   "source": [
    "The text classification model's validation accuracy (real-world text) is 61%, and its test accuracy (generated text) is 57%, so the performance gap is pretty small. (Note that we haven't put much effort in acheiving better model performance such as hyperparameter tuning because our main interest here is whether the model's performance in the validation set is **similar** to that in the test set, rather than getting good predictions.)\n",
    "\n",
    "So it would be reasonable to say that the texts generated by the five GPT2 language models are indeed pretty similar to the real-world rating texts that they were trained with."
   ]
  },
  {
   "cell_type": "markdown",
   "metadata": {
    "id": "TO3ZaGRNedtc"
   },
   "source": [
    "# Future Work"
   ]
  },
  {
   "cell_type": "markdown",
   "metadata": {
    "id": "qG-Y0ukaefh6"
   },
   "source": [
    "We've observed that the classifier's accuracy on the generated texts via the GPT2 language models is reasonably similar to its accuracy on the evaluation data. So it could be reasonable to say that the GPT2 models (for each rating) are capable of creating texts that are **similar** to the corresponding 'real-world' texts.\n",
    "\n",
    "Here are some additional ideas that might provide more insights.\n",
    "\n",
    "- We've only checked accuracy as our metric, but we could also compare others including class-wise precision and recall. This can give us ideas about 'which ratings is the language model particularly good at?'. We can even try metrics desiged for regression such as mean absolute error because our labels are ordered (e.g. incorrectly predicting a rating 5 text as 4 is much better than predicting as 1).\n",
    "- We can try more language models other than GPT2, go through the same process, and use the classifier results for comparing the capability of the different language models. "
   ]
  },
  {
   "cell_type": "markdown",
   "metadata": {
    "id": "S1uoVJqSGK1H"
   },
   "source": [
    "# Datasets/Papers Reference"
   ]
  },
  {
   "cell_type": "markdown",
   "metadata": {
    "id": "9uoNk0k4GbAW"
   },
   "source": [
    "- Amazon review text dataset\n",
    "        Justifying recommendations using distantly-labeled reviews and fined-grained aspects\n",
    "        Jianmo Ni, Jiacheng Li, Julian McAuley\n",
    "        Empirical Methods in Natural Language Processing (EMNLP), 2019\n",
    "\n",
    "- GPT2 paper\n",
    "        Language Models are Unsupervised Multitask Learners\n",
    "        Radford, Alec and Wu, Jeff and Child, Rewon and Luan, David and Amodei, Dario and Sutskever, Ilya\n",
    "        2019\n",
    "\n",
    "- BERT paper\n",
    "        BERT: Pre-training of Deep Bidirectional Transformers for Language Understanding\n",
    "        Devlin, Jacob and Chang, Ming-Wei and Lee, Kenton and Toutanova, Kristina\n",
    "        arXiv preprint arXiv:1810.04805\n",
    "        2018"
   ]
  }
 ],
 "metadata": {
  "accelerator": "GPU",
  "colab": {
   "authorship_tag": "ABX9TyMne1O9KuWi11r7GAE5M1XH",
   "collapsed_sections": [],
   "mount_file_id": "13wX2rjzqEa4wneYbFY7dYR4tN2rVHc1B",
   "name": "amazon_review_text_language_modeling.ipynb",
   "provenance": [],
   "toc_visible": true
  },
  "kernelspec": {
   "display_name": "Python 3",
   "language": "python",
   "name": "python3"
  },
  "language_info": {
   "codemirror_mode": {
    "name": "ipython",
    "version": 3
   },
   "file_extension": ".py",
   "mimetype": "text/x-python",
   "name": "python",
   "nbconvert_exporter": "python",
   "pygments_lexer": "ipython3",
   "version": "3.8.5"
  },
  "widgets": {
   "application/vnd.jupyter.widget-state+json": {
    "01024cf3b2cc43708e7e4620cf032b8f": {
     "model_module": "@jupyter-widgets/base",
     "model_name": "LayoutModel",
     "state": {
      "_model_module": "@jupyter-widgets/base",
      "_model_module_version": "1.2.0",
      "_model_name": "LayoutModel",
      "_view_count": null,
      "_view_module": "@jupyter-widgets/base",
      "_view_module_version": "1.2.0",
      "_view_name": "LayoutView",
      "align_content": null,
      "align_items": null,
      "align_self": null,
      "border": null,
      "bottom": null,
      "display": null,
      "flex": null,
      "flex_flow": null,
      "grid_area": null,
      "grid_auto_columns": null,
      "grid_auto_flow": null,
      "grid_auto_rows": null,
      "grid_column": null,
      "grid_gap": null,
      "grid_row": null,
      "grid_template_areas": null,
      "grid_template_columns": null,
      "grid_template_rows": null,
      "height": null,
      "justify_content": null,
      "justify_items": null,
      "left": null,
      "margin": null,
      "max_height": null,
      "max_width": null,
      "min_height": null,
      "min_width": null,
      "object_fit": null,
      "object_position": null,
      "order": null,
      "overflow": null,
      "overflow_x": null,
      "overflow_y": null,
      "padding": null,
      "right": null,
      "top": null,
      "visibility": null,
      "width": null
     }
    },
    "0223e01376f0400eba485dae527cc4f2": {
     "model_module": "@jupyter-widgets/base",
     "model_name": "LayoutModel",
     "state": {
      "_model_module": "@jupyter-widgets/base",
      "_model_module_version": "1.2.0",
      "_model_name": "LayoutModel",
      "_view_count": null,
      "_view_module": "@jupyter-widgets/base",
      "_view_module_version": "1.2.0",
      "_view_name": "LayoutView",
      "align_content": null,
      "align_items": null,
      "align_self": null,
      "border": null,
      "bottom": null,
      "display": null,
      "flex": null,
      "flex_flow": null,
      "grid_area": null,
      "grid_auto_columns": null,
      "grid_auto_flow": null,
      "grid_auto_rows": null,
      "grid_column": null,
      "grid_gap": null,
      "grid_row": null,
      "grid_template_areas": null,
      "grid_template_columns": null,
      "grid_template_rows": null,
      "height": null,
      "justify_content": null,
      "justify_items": null,
      "left": null,
      "margin": null,
      "max_height": null,
      "max_width": null,
      "min_height": null,
      "min_width": null,
      "object_fit": null,
      "object_position": null,
      "order": null,
      "overflow": null,
      "overflow_x": null,
      "overflow_y": null,
      "padding": null,
      "right": null,
      "top": null,
      "visibility": null,
      "width": null
     }
    },
    "14ee892c8c1d4747b2c4280aecce3539": {
     "model_module": "@jupyter-widgets/base",
     "model_name": "LayoutModel",
     "state": {
      "_model_module": "@jupyter-widgets/base",
      "_model_module_version": "1.2.0",
      "_model_name": "LayoutModel",
      "_view_count": null,
      "_view_module": "@jupyter-widgets/base",
      "_view_module_version": "1.2.0",
      "_view_name": "LayoutView",
      "align_content": null,
      "align_items": null,
      "align_self": null,
      "border": null,
      "bottom": null,
      "display": null,
      "flex": null,
      "flex_flow": null,
      "grid_area": null,
      "grid_auto_columns": null,
      "grid_auto_flow": null,
      "grid_auto_rows": null,
      "grid_column": null,
      "grid_gap": null,
      "grid_row": null,
      "grid_template_areas": null,
      "grid_template_columns": null,
      "grid_template_rows": null,
      "height": null,
      "justify_content": null,
      "justify_items": null,
      "left": null,
      "margin": null,
      "max_height": null,
      "max_width": null,
      "min_height": null,
      "min_width": null,
      "object_fit": null,
      "object_position": null,
      "order": null,
      "overflow": null,
      "overflow_x": null,
      "overflow_y": null,
      "padding": null,
      "right": null,
      "top": null,
      "visibility": null,
      "width": null
     }
    },
    "339d22a227784929a40492e201aa21be": {
     "model_module": "@jupyter-widgets/controls",
     "model_name": "DescriptionStyleModel",
     "state": {
      "_model_module": "@jupyter-widgets/controls",
      "_model_module_version": "1.5.0",
      "_model_name": "DescriptionStyleModel",
      "_view_count": null,
      "_view_module": "@jupyter-widgets/base",
      "_view_module_version": "1.2.0",
      "_view_name": "StyleView",
      "description_width": ""
     }
    },
    "4198374485264226b0c26520f8d1aaf8": {
     "model_module": "@jupyter-widgets/controls",
     "model_name": "DescriptionStyleModel",
     "state": {
      "_model_module": "@jupyter-widgets/controls",
      "_model_module_version": "1.5.0",
      "_model_name": "DescriptionStyleModel",
      "_view_count": null,
      "_view_module": "@jupyter-widgets/base",
      "_view_module_version": "1.2.0",
      "_view_name": "StyleView",
      "description_width": ""
     }
    },
    "423d9da802084eaf8424d75fda6fec9a": {
     "model_module": "@jupyter-widgets/controls",
     "model_name": "ProgressStyleModel",
     "state": {
      "_model_module": "@jupyter-widgets/controls",
      "_model_module_version": "1.5.0",
      "_model_name": "ProgressStyleModel",
      "_view_count": null,
      "_view_module": "@jupyter-widgets/base",
      "_view_module_version": "1.2.0",
      "_view_name": "StyleView",
      "bar_color": null,
      "description_width": "initial"
     }
    },
    "6823c69a8d7a4fc2b14d8f4a000b5233": {
     "model_module": "@jupyter-widgets/base",
     "model_name": "LayoutModel",
     "state": {
      "_model_module": "@jupyter-widgets/base",
      "_model_module_version": "1.2.0",
      "_model_name": "LayoutModel",
      "_view_count": null,
      "_view_module": "@jupyter-widgets/base",
      "_view_module_version": "1.2.0",
      "_view_name": "LayoutView",
      "align_content": null,
      "align_items": null,
      "align_self": null,
      "border": null,
      "bottom": null,
      "display": null,
      "flex": null,
      "flex_flow": null,
      "grid_area": null,
      "grid_auto_columns": null,
      "grid_auto_flow": null,
      "grid_auto_rows": null,
      "grid_column": null,
      "grid_gap": null,
      "grid_row": null,
      "grid_template_areas": null,
      "grid_template_columns": null,
      "grid_template_rows": null,
      "height": null,
      "justify_content": null,
      "justify_items": null,
      "left": null,
      "margin": null,
      "max_height": null,
      "max_width": null,
      "min_height": null,
      "min_width": null,
      "object_fit": null,
      "object_position": null,
      "order": null,
      "overflow": null,
      "overflow_x": null,
      "overflow_y": null,
      "padding": null,
      "right": null,
      "top": null,
      "visibility": null,
      "width": null
     }
    },
    "910eb4b8802c4f6190c6cb711e415989": {
     "model_module": "@jupyter-widgets/controls",
     "model_name": "HBoxModel",
     "state": {
      "_dom_classes": [],
      "_model_module": "@jupyter-widgets/controls",
      "_model_module_version": "1.5.0",
      "_model_name": "HBoxModel",
      "_view_count": null,
      "_view_module": "@jupyter-widgets/controls",
      "_view_module_version": "1.5.0",
      "_view_name": "HBoxView",
      "box_style": "",
      "children": [
       "IPY_MODEL_fec8f210fe4a4a2191f510fc2c347134",
       "IPY_MODEL_fee6a1bbb4294459a0a76efe15707df5"
      ],
      "layout": "IPY_MODEL_14ee892c8c1d4747b2c4280aecce3539"
     }
    },
    "94fee4db722a421085f0a40c6e9108f3": {
     "model_module": "@jupyter-widgets/controls",
     "model_name": "HTMLModel",
     "state": {
      "_dom_classes": [],
      "_model_module": "@jupyter-widgets/controls",
      "_model_module_version": "1.5.0",
      "_model_name": "HTMLModel",
      "_view_count": null,
      "_view_module": "@jupyter-widgets/controls",
      "_view_module_version": "1.5.0",
      "_view_name": "HTMLView",
      "description": "",
      "description_tooltip": null,
      "layout": "IPY_MODEL_9971e37882bf48bfb549f079d3f595aa",
      "placeholder": "​",
      "style": "IPY_MODEL_4198374485264226b0c26520f8d1aaf8",
      "value": " 232k/232k [00:00&lt;00:00, 824kB/s]"
     }
    },
    "9843b3b6d2ab42d496eb687d237e9f4c": {
     "model_module": "@jupyter-widgets/controls",
     "model_name": "ProgressStyleModel",
     "state": {
      "_model_module": "@jupyter-widgets/controls",
      "_model_module_version": "1.5.0",
      "_model_name": "ProgressStyleModel",
      "_view_count": null,
      "_view_module": "@jupyter-widgets/base",
      "_view_module_version": "1.2.0",
      "_view_name": "StyleView",
      "bar_color": null,
      "description_width": "initial"
     }
    },
    "9971e37882bf48bfb549f079d3f595aa": {
     "model_module": "@jupyter-widgets/base",
     "model_name": "LayoutModel",
     "state": {
      "_model_module": "@jupyter-widgets/base",
      "_model_module_version": "1.2.0",
      "_model_name": "LayoutModel",
      "_view_count": null,
      "_view_module": "@jupyter-widgets/base",
      "_view_module_version": "1.2.0",
      "_view_name": "LayoutView",
      "align_content": null,
      "align_items": null,
      "align_self": null,
      "border": null,
      "bottom": null,
      "display": null,
      "flex": null,
      "flex_flow": null,
      "grid_area": null,
      "grid_auto_columns": null,
      "grid_auto_flow": null,
      "grid_auto_rows": null,
      "grid_column": null,
      "grid_gap": null,
      "grid_row": null,
      "grid_template_areas": null,
      "grid_template_columns": null,
      "grid_template_rows": null,
      "height": null,
      "justify_content": null,
      "justify_items": null,
      "left": null,
      "margin": null,
      "max_height": null,
      "max_width": null,
      "min_height": null,
      "min_width": null,
      "object_fit": null,
      "object_position": null,
      "order": null,
      "overflow": null,
      "overflow_x": null,
      "overflow_y": null,
      "padding": null,
      "right": null,
      "top": null,
      "visibility": null,
      "width": null
     }
    },
    "9bea3e1302754246898817a380a6a5c5": {
     "model_module": "@jupyter-widgets/base",
     "model_name": "LayoutModel",
     "state": {
      "_model_module": "@jupyter-widgets/base",
      "_model_module_version": "1.2.0",
      "_model_name": "LayoutModel",
      "_view_count": null,
      "_view_module": "@jupyter-widgets/base",
      "_view_module_version": "1.2.0",
      "_view_name": "LayoutView",
      "align_content": null,
      "align_items": null,
      "align_self": null,
      "border": null,
      "bottom": null,
      "display": null,
      "flex": null,
      "flex_flow": null,
      "grid_area": null,
      "grid_auto_columns": null,
      "grid_auto_flow": null,
      "grid_auto_rows": null,
      "grid_column": null,
      "grid_gap": null,
      "grid_row": null,
      "grid_template_areas": null,
      "grid_template_columns": null,
      "grid_template_rows": null,
      "height": null,
      "justify_content": null,
      "justify_items": null,
      "left": null,
      "margin": null,
      "max_height": null,
      "max_width": null,
      "min_height": null,
      "min_width": null,
      "object_fit": null,
      "object_position": null,
      "order": null,
      "overflow": null,
      "overflow_x": null,
      "overflow_y": null,
      "padding": null,
      "right": null,
      "top": null,
      "visibility": null,
      "width": null
     }
    },
    "9c254ab3ca794b20aa62a1d99e6802e8": {
     "model_module": "@jupyter-widgets/base",
     "model_name": "LayoutModel",
     "state": {
      "_model_module": "@jupyter-widgets/base",
      "_model_module_version": "1.2.0",
      "_model_name": "LayoutModel",
      "_view_count": null,
      "_view_module": "@jupyter-widgets/base",
      "_view_module_version": "1.2.0",
      "_view_name": "LayoutView",
      "align_content": null,
      "align_items": null,
      "align_self": null,
      "border": null,
      "bottom": null,
      "display": null,
      "flex": null,
      "flex_flow": null,
      "grid_area": null,
      "grid_auto_columns": null,
      "grid_auto_flow": null,
      "grid_auto_rows": null,
      "grid_column": null,
      "grid_gap": null,
      "grid_row": null,
      "grid_template_areas": null,
      "grid_template_columns": null,
      "grid_template_rows": null,
      "height": null,
      "justify_content": null,
      "justify_items": null,
      "left": null,
      "margin": null,
      "max_height": null,
      "max_width": null,
      "min_height": null,
      "min_width": null,
      "object_fit": null,
      "object_position": null,
      "order": null,
      "overflow": null,
      "overflow_x": null,
      "overflow_y": null,
      "padding": null,
      "right": null,
      "top": null,
      "visibility": null,
      "width": null
     }
    },
    "a44380db2bba47d7966361ba18bebef8": {
     "model_module": "@jupyter-widgets/controls",
     "model_name": "FloatProgressModel",
     "state": {
      "_dom_classes": [],
      "_model_module": "@jupyter-widgets/controls",
      "_model_module_version": "1.5.0",
      "_model_name": "FloatProgressModel",
      "_view_count": null,
      "_view_module": "@jupyter-widgets/controls",
      "_view_module_version": "1.5.0",
      "_view_name": "ProgressView",
      "bar_style": "success",
      "description": "Downloading: 100%",
      "description_tooltip": null,
      "layout": "IPY_MODEL_ec158343784a48a4b0830a264c376bbb",
      "max": 440473133,
      "min": 0,
      "orientation": "horizontal",
      "style": "IPY_MODEL_423d9da802084eaf8424d75fda6fec9a",
      "value": 440473133
     }
    },
    "b531d15e256f45029c39d0279906bdc8": {
     "model_module": "@jupyter-widgets/base",
     "model_name": "LayoutModel",
     "state": {
      "_model_module": "@jupyter-widgets/base",
      "_model_module_version": "1.2.0",
      "_model_name": "LayoutModel",
      "_view_count": null,
      "_view_module": "@jupyter-widgets/base",
      "_view_module_version": "1.2.0",
      "_view_name": "LayoutView",
      "align_content": null,
      "align_items": null,
      "align_self": null,
      "border": null,
      "bottom": null,
      "display": null,
      "flex": null,
      "flex_flow": null,
      "grid_area": null,
      "grid_auto_columns": null,
      "grid_auto_flow": null,
      "grid_auto_rows": null,
      "grid_column": null,
      "grid_gap": null,
      "grid_row": null,
      "grid_template_areas": null,
      "grid_template_columns": null,
      "grid_template_rows": null,
      "height": null,
      "justify_content": null,
      "justify_items": null,
      "left": null,
      "margin": null,
      "max_height": null,
      "max_width": null,
      "min_height": null,
      "min_width": null,
      "object_fit": null,
      "object_position": null,
      "order": null,
      "overflow": null,
      "overflow_x": null,
      "overflow_y": null,
      "padding": null,
      "right": null,
      "top": null,
      "visibility": null,
      "width": null
     }
    },
    "bcaff2419ef94f7881515174c9321494": {
     "model_module": "@jupyter-widgets/controls",
     "model_name": "HTMLModel",
     "state": {
      "_dom_classes": [],
      "_model_module": "@jupyter-widgets/controls",
      "_model_module_version": "1.5.0",
      "_model_name": "HTMLModel",
      "_view_count": null,
      "_view_module": "@jupyter-widgets/controls",
      "_view_module_version": "1.5.0",
      "_view_name": "HTMLView",
      "description": "",
      "description_tooltip": null,
      "layout": "IPY_MODEL_6823c69a8d7a4fc2b14d8f4a000b5233",
      "placeholder": "​",
      "style": "IPY_MODEL_339d22a227784929a40492e201aa21be",
      "value": " 440M/440M [00:17&lt;00:00, 24.7MB/s]"
     }
    },
    "be1be1f3ba01419d815afcb780e6b226": {
     "model_module": "@jupyter-widgets/controls",
     "model_name": "DescriptionStyleModel",
     "state": {
      "_model_module": "@jupyter-widgets/controls",
      "_model_module_version": "1.5.0",
      "_model_name": "DescriptionStyleModel",
      "_view_count": null,
      "_view_module": "@jupyter-widgets/base",
      "_view_module_version": "1.2.0",
      "_view_name": "StyleView",
      "description_width": ""
     }
    },
    "d87d19e60dad426b9f89efc5d80cb738": {
     "model_module": "@jupyter-widgets/controls",
     "model_name": "HBoxModel",
     "state": {
      "_dom_classes": [],
      "_model_module": "@jupyter-widgets/controls",
      "_model_module_version": "1.5.0",
      "_model_name": "HBoxModel",
      "_view_count": null,
      "_view_module": "@jupyter-widgets/controls",
      "_view_module_version": "1.5.0",
      "_view_name": "HBoxView",
      "box_style": "",
      "children": [
       "IPY_MODEL_a44380db2bba47d7966361ba18bebef8",
       "IPY_MODEL_bcaff2419ef94f7881515174c9321494"
      ],
      "layout": "IPY_MODEL_9bea3e1302754246898817a380a6a5c5"
     }
    },
    "de84ec6f888f47e59e291fcbb3a7c637": {
     "model_module": "@jupyter-widgets/controls",
     "model_name": "ProgressStyleModel",
     "state": {
      "_model_module": "@jupyter-widgets/controls",
      "_model_module_version": "1.5.0",
      "_model_name": "ProgressStyleModel",
      "_view_count": null,
      "_view_module": "@jupyter-widgets/base",
      "_view_module_version": "1.2.0",
      "_view_name": "StyleView",
      "bar_color": null,
      "description_width": "initial"
     }
    },
    "dec35ab1cc9445a8a41738e6b5b9c3c0": {
     "model_module": "@jupyter-widgets/controls",
     "model_name": "FloatProgressModel",
     "state": {
      "_dom_classes": [],
      "_model_module": "@jupyter-widgets/controls",
      "_model_module_version": "1.5.0",
      "_model_name": "FloatProgressModel",
      "_view_count": null,
      "_view_module": "@jupyter-widgets/controls",
      "_view_module_version": "1.5.0",
      "_view_name": "ProgressView",
      "bar_style": "success",
      "description": "Downloading: 100%",
      "description_tooltip": null,
      "layout": "IPY_MODEL_01024cf3b2cc43708e7e4620cf032b8f",
      "max": 231508,
      "min": 0,
      "orientation": "horizontal",
      "style": "IPY_MODEL_9843b3b6d2ab42d496eb687d237e9f4c",
      "value": 231508
     }
    },
    "ded88c292c254f8b943c28845e56f7aa": {
     "model_module": "@jupyter-widgets/controls",
     "model_name": "HBoxModel",
     "state": {
      "_dom_classes": [],
      "_model_module": "@jupyter-widgets/controls",
      "_model_module_version": "1.5.0",
      "_model_name": "HBoxModel",
      "_view_count": null,
      "_view_module": "@jupyter-widgets/controls",
      "_view_module_version": "1.5.0",
      "_view_name": "HBoxView",
      "box_style": "",
      "children": [
       "IPY_MODEL_dec35ab1cc9445a8a41738e6b5b9c3c0",
       "IPY_MODEL_94fee4db722a421085f0a40c6e9108f3"
      ],
      "layout": "IPY_MODEL_9c254ab3ca794b20aa62a1d99e6802e8"
     }
    },
    "ec158343784a48a4b0830a264c376bbb": {
     "model_module": "@jupyter-widgets/base",
     "model_name": "LayoutModel",
     "state": {
      "_model_module": "@jupyter-widgets/base",
      "_model_module_version": "1.2.0",
      "_model_name": "LayoutModel",
      "_view_count": null,
      "_view_module": "@jupyter-widgets/base",
      "_view_module_version": "1.2.0",
      "_view_name": "LayoutView",
      "align_content": null,
      "align_items": null,
      "align_self": null,
      "border": null,
      "bottom": null,
      "display": null,
      "flex": null,
      "flex_flow": null,
      "grid_area": null,
      "grid_auto_columns": null,
      "grid_auto_flow": null,
      "grid_auto_rows": null,
      "grid_column": null,
      "grid_gap": null,
      "grid_row": null,
      "grid_template_areas": null,
      "grid_template_columns": null,
      "grid_template_rows": null,
      "height": null,
      "justify_content": null,
      "justify_items": null,
      "left": null,
      "margin": null,
      "max_height": null,
      "max_width": null,
      "min_height": null,
      "min_width": null,
      "object_fit": null,
      "object_position": null,
      "order": null,
      "overflow": null,
      "overflow_x": null,
      "overflow_y": null,
      "padding": null,
      "right": null,
      "top": null,
      "visibility": null,
      "width": null
     }
    },
    "fec8f210fe4a4a2191f510fc2c347134": {
     "model_module": "@jupyter-widgets/controls",
     "model_name": "FloatProgressModel",
     "state": {
      "_dom_classes": [],
      "_model_module": "@jupyter-widgets/controls",
      "_model_module_version": "1.5.0",
      "_model_name": "FloatProgressModel",
      "_view_count": null,
      "_view_module": "@jupyter-widgets/controls",
      "_view_module_version": "1.5.0",
      "_view_name": "ProgressView",
      "bar_style": "success",
      "description": "Downloading: 100%",
      "description_tooltip": null,
      "layout": "IPY_MODEL_b531d15e256f45029c39d0279906bdc8",
      "max": 433,
      "min": 0,
      "orientation": "horizontal",
      "style": "IPY_MODEL_de84ec6f888f47e59e291fcbb3a7c637",
      "value": 433
     }
    },
    "fee6a1bbb4294459a0a76efe15707df5": {
     "model_module": "@jupyter-widgets/controls",
     "model_name": "HTMLModel",
     "state": {
      "_dom_classes": [],
      "_model_module": "@jupyter-widgets/controls",
      "_model_module_version": "1.5.0",
      "_model_name": "HTMLModel",
      "_view_count": null,
      "_view_module": "@jupyter-widgets/controls",
      "_view_module_version": "1.5.0",
      "_view_name": "HTMLView",
      "description": "",
      "description_tooltip": null,
      "layout": "IPY_MODEL_0223e01376f0400eba485dae527cc4f2",
      "placeholder": "​",
      "style": "IPY_MODEL_be1be1f3ba01419d815afcb780e6b226",
      "value": " 433/433 [00:00&lt;00:00, 14.4kB/s]"
     }
    }
   }
  }
 },
 "nbformat": 4,
 "nbformat_minor": 1
}
